{
 "cells": [
  {
   "cell_type": "code",
   "execution_count": 1,
   "id": "71d54850-9a79-49ad-b74f-e8b43bf86f19",
   "metadata": {},
   "outputs": [],
   "source": [
    "import pandas as pd\n",
    "pd.set_option('display.max_columns', None)\n",
    "\n",
    "import plotly.express as px\n",
    "import plotly.graph_objects as go\n",
    "from datetime import datetime\n",
    "import numpy as np\n",
    "import missingno as msno\n",
    "import matplotlib.pyplot as plt\n",
    "import seaborn as sns\n",
    "from tqdm import tqdm\n",
    "import warnings\n",
    "warnings.filterwarnings(\"ignore\")\n",
    "\n",
    "sns.set(rc={'figure.figsize':(15,8)})\n",
    "\n",
    "path_to_catalog=r'C:\\Users\\kgrzebien\\Desktop\\python_tasks\\reklamacje\\\\'\n"
   ]
  },
  {
   "cell_type": "code",
   "execution_count": 2,
   "id": "24e6add7-b871-4282-889c-caca3bbb3ac8",
   "metadata": {},
   "outputs": [],
   "source": [
    "def func_read_excel(path, sheet):\n",
    "    df=pd.read_excel(path_to_catalog+path+'.xlsx',\n",
    "                    sheet_name=sheet)\n",
    "    display(df.columns)\n",
    "    # for i in df.columns:\n",
    "    #     display(i,df[i].unique())\n",
    "    display(df.groupby('PRZYCZYNA REKLAMACJI').agg({'IMIĘ I NAZWISKO':'count'}).sort_values(by='IMIĘ I NAZWISKO'))\n",
    "    display(df.groupby('PRODUKT').agg({'IMIĘ I NAZWISKO':'count'}).sort_values(by='IMIĘ I NAZWISKO'))\n",
    "    df['produkt_2']=df.loc[df['PRODUKT'].notnull()]['PRODUKT'].apply(lambda x: 'ZASŁONY' if 'ZAS' in x else ('FIRANY' if \"FIR\" in x else x))\n",
    "    display(df.groupby('produkt_2').agg({'IMIĘ I NAZWISKO':'count'}).sort_values(by='IMIĘ I NAZWISKO').tail(50))\n",
    "    return df"
   ]
  },
  {
   "cell_type": "code",
   "execution_count": 3,
   "id": "440657c3-96e3-44e6-acdc-133d0d0addcf",
   "metadata": {
    "collapsed": true,
    "jupyter": {
     "outputs_hidden": true
    },
    "tags": []
   },
   "outputs": [
    {
     "data": {
      "text/plain": [
       "Index(['Unnamed: 0', 'Eurofirany/ ALLEGRO', 'IMIĘ I NAZWISKO',\n",
       "       'PRZYCZYNA REKLAMACJI', 'PRODUKT', 'ZWROT GOTÓWKI', 'ROZWIĄZANIE',\n",
       "       'KLIENT POINFORMOWANY', 'WYSŁANO', 'DATA I NR. KOREKTY', 'UWAGI',\n",
       "       'DATA PRZYJĘCIA', 'OS. PRZYJMUJĄCA REKLAMACJĘ', 'NUMER ZLECENIA',\n",
       "       'E-MAIL', 'Unnamed: 15', 'Unnamed: 16'],\n",
       "      dtype='object')"
      ]
     },
     "metadata": {},
     "output_type": "display_data"
    },
    {
     "data": {
      "text/html": [
       "<div>\n",
       "<style scoped>\n",
       "    .dataframe tbody tr th:only-of-type {\n",
       "        vertical-align: middle;\n",
       "    }\n",
       "\n",
       "    .dataframe tbody tr th {\n",
       "        vertical-align: top;\n",
       "    }\n",
       "\n",
       "    .dataframe thead th {\n",
       "        text-align: right;\n",
       "    }\n",
       "</style>\n",
       "<table border=\"1\" class=\"dataframe\">\n",
       "  <thead>\n",
       "    <tr style=\"text-align: right;\">\n",
       "      <th></th>\n",
       "      <th>IMIĘ I NAZWISKO</th>\n",
       "    </tr>\n",
       "    <tr>\n",
       "      <th>PRZYCZYNA REKLAMACJI</th>\n",
       "      <th></th>\n",
       "    </tr>\n",
       "  </thead>\n",
       "  <tbody>\n",
       "    <tr>\n",
       "      <th>2300000018707.0</th>\n",
       "      <td>1</td>\n",
       "    </tr>\n",
       "    <tr>\n",
       "      <th>USZKODZONY ZEGAR</th>\n",
       "      <td>1</td>\n",
       "    </tr>\n",
       "    <tr>\n",
       "      <th>USZKODZONY ŚWIECZNIK OD NAKLEJKI</th>\n",
       "      <td>1</td>\n",
       "    </tr>\n",
       "    <tr>\n",
       "      <th>USZODZONE PRZY PRZELOTKACH</th>\n",
       "      <td>1</td>\n",
       "    </tr>\n",
       "    <tr>\n",
       "      <th>USZYTE Z ZŁEGO MATERIAŁU</th>\n",
       "      <td>1</td>\n",
       "    </tr>\n",
       "    <tr>\n",
       "      <th>...</th>\n",
       "      <td>...</td>\n",
       "    </tr>\n",
       "    <tr>\n",
       "      <th>NAPRAWA/SZWALNIA</th>\n",
       "      <td>10</td>\n",
       "    </tr>\n",
       "    <tr>\n",
       "      <th>INNY KOLOR NIŻ NA STRONIE</th>\n",
       "      <td>11</td>\n",
       "    </tr>\n",
       "    <tr>\n",
       "      <th>ZŁY WYMIAR</th>\n",
       "      <td>12</td>\n",
       "    </tr>\n",
       "    <tr>\n",
       "      <th>BŁĄD NA STRONIE</th>\n",
       "      <td>18</td>\n",
       "    </tr>\n",
       "    <tr>\n",
       "      <th>ZWROT</th>\n",
       "      <td>31</td>\n",
       "    </tr>\n",
       "  </tbody>\n",
       "</table>\n",
       "<p>302 rows × 1 columns</p>\n",
       "</div>"
      ],
      "text/plain": [
       "                                  IMIĘ I NAZWISKO\n",
       "PRZYCZYNA REKLAMACJI                             \n",
       "2300000018707.0                                 1\n",
       "USZKODZONY ZEGAR                                1\n",
       "USZKODZONY ŚWIECZNIK OD NAKLEJKI                1\n",
       "USZODZONE PRZY PRZELOTKACH                      1\n",
       "USZYTE Z ZŁEGO MATERIAŁU                        1\n",
       "...                                           ...\n",
       "NAPRAWA/SZWALNIA                               10\n",
       "INNY KOLOR NIŻ NA STRONIE                      11\n",
       "ZŁY WYMIAR                                     12\n",
       "BŁĄD NA STRONIE                                18\n",
       "ZWROT                                          31\n",
       "\n",
       "[302 rows x 1 columns]"
      ]
     },
     "metadata": {},
     "output_type": "display_data"
    },
    {
     "data": {
      "text/html": [
       "<div>\n",
       "<style scoped>\n",
       "    .dataframe tbody tr th:only-of-type {\n",
       "        vertical-align: middle;\n",
       "    }\n",
       "\n",
       "    .dataframe tbody tr th {\n",
       "        vertical-align: top;\n",
       "    }\n",
       "\n",
       "    .dataframe thead th {\n",
       "        text-align: right;\n",
       "    }\n",
       "</style>\n",
       "<table border=\"1\" class=\"dataframe\">\n",
       "  <thead>\n",
       "    <tr style=\"text-align: right;\">\n",
       "      <th></th>\n",
       "      <th>IMIĘ I NAZWISKO</th>\n",
       "    </tr>\n",
       "    <tr>\n",
       "      <th>PRODUKT</th>\n",
       "      <th></th>\n",
       "    </tr>\n",
       "  </thead>\n",
       "  <tbody>\n",
       "    <tr>\n",
       "      <th></th>\n",
       "      <td>1</td>\n",
       "    </tr>\n",
       "    <tr>\n",
       "      <th>RĘCZNIKI</th>\n",
       "      <td>1</td>\n",
       "    </tr>\n",
       "    <tr>\n",
       "      <th>SKR.INT</th>\n",
       "      <td>1</td>\n",
       "    </tr>\n",
       "    <tr>\n",
       "      <th>SKRZYNKA</th>\n",
       "      <td>1</td>\n",
       "    </tr>\n",
       "    <tr>\n",
       "      <th>SZYTA ZASŁONA</th>\n",
       "      <td>1</td>\n",
       "    </tr>\n",
       "    <tr>\n",
       "      <th>...</th>\n",
       "      <td>...</td>\n",
       "    </tr>\n",
       "    <tr>\n",
       "      <th>FIRANA</th>\n",
       "      <td>29</td>\n",
       "    </tr>\n",
       "    <tr>\n",
       "      <th>FIRANY</th>\n",
       "      <td>30</td>\n",
       "    </tr>\n",
       "    <tr>\n",
       "      <th>POŚCIEL</th>\n",
       "      <td>33</td>\n",
       "    </tr>\n",
       "    <tr>\n",
       "      <th>ZASŁONA</th>\n",
       "      <td>40</td>\n",
       "    </tr>\n",
       "    <tr>\n",
       "      <th>ZASŁONY</th>\n",
       "      <td>67</td>\n",
       "    </tr>\n",
       "  </tbody>\n",
       "</table>\n",
       "<p>196 rows × 1 columns</p>\n",
       "</div>"
      ],
      "text/plain": [
       "               IMIĘ I NAZWISKO\n",
       "PRODUKT                       \n",
       "                             1\n",
       "RĘCZNIKI                     1\n",
       "SKR.INT                      1\n",
       "SKRZYNKA                     1\n",
       "SZYTA ZASŁONA                1\n",
       "...                        ...\n",
       "FIRANA                      29\n",
       "FIRANY                      30\n",
       "POŚCIEL                     33\n",
       "ZASŁONA                     40\n",
       "ZASŁONY                     67\n",
       "\n",
       "[196 rows x 1 columns]"
      ]
     },
     "metadata": {},
     "output_type": "display_data"
    },
    {
     "data": {
      "text/html": [
       "<div>\n",
       "<style scoped>\n",
       "    .dataframe tbody tr th:only-of-type {\n",
       "        vertical-align: middle;\n",
       "    }\n",
       "\n",
       "    .dataframe tbody tr th {\n",
       "        vertical-align: top;\n",
       "    }\n",
       "\n",
       "    .dataframe thead th {\n",
       "        text-align: right;\n",
       "    }\n",
       "</style>\n",
       "<table border=\"1\" class=\"dataframe\">\n",
       "  <thead>\n",
       "    <tr style=\"text-align: right;\">\n",
       "      <th></th>\n",
       "      <th>IMIĘ I NAZWISKO</th>\n",
       "    </tr>\n",
       "    <tr>\n",
       "      <th>produkt_2</th>\n",
       "      <th></th>\n",
       "    </tr>\n",
       "  </thead>\n",
       "  <tbody>\n",
       "    <tr>\n",
       "      <th>BOMBKI</th>\n",
       "      <td>1</td>\n",
       "    </tr>\n",
       "    <tr>\n",
       "      <th>C/ALANI/1/MIS/01</th>\n",
       "      <td>1</td>\n",
       "    </tr>\n",
       "    <tr>\n",
       "      <th>LU/10</th>\n",
       "      <td>1</td>\n",
       "    </tr>\n",
       "    <tr>\n",
       "      <th>CHON/SOFIA/1/KAW</th>\n",
       "      <td>1</td>\n",
       "    </tr>\n",
       "    <tr>\n",
       "      <th>LC/VICTORIA</th>\n",
       "      <td>1</td>\n",
       "    </tr>\n",
       "    <tr>\n",
       "      <th>C/MESI/TAC/02</th>\n",
       "      <td>1</td>\n",
       "    </tr>\n",
       "    <tr>\n",
       "      <th>C/SESI/TAC/02</th>\n",
       "      <td>1</td>\n",
       "    </tr>\n",
       "    <tr>\n",
       "      <th>CAŁE ZAM</th>\n",
       "      <td>1</td>\n",
       "    </tr>\n",
       "    <tr>\n",
       "      <th>CAŁE ZAMÓWIENIA</th>\n",
       "      <td>1</td>\n",
       "    </tr>\n",
       "    <tr>\n",
       "      <th>Ko/FLA/LORI PUDER</th>\n",
       "      <td>1</td>\n",
       "    </tr>\n",
       "    <tr>\n",
       "      <th>LC/MUSA3/POS</th>\n",
       "      <td>1</td>\n",
       "    </tr>\n",
       "    <tr>\n",
       "      <th>D91/N/LUIZ/B+SRE</th>\n",
       "      <td>1</td>\n",
       "    </tr>\n",
       "    <tr>\n",
       "      <th>CHON/SOFIA/1/BEŻ</th>\n",
       "      <td>2</td>\n",
       "    </tr>\n",
       "    <tr>\n",
       "      <th>PRZEŚCIERADŁA</th>\n",
       "      <td>2</td>\n",
       "    </tr>\n",
       "    <tr>\n",
       "      <th>WAZON</th>\n",
       "      <td>2</td>\n",
       "    </tr>\n",
       "    <tr>\n",
       "      <th>SIEDZISKA</th>\n",
       "      <td>2</td>\n",
       "    </tr>\n",
       "    <tr>\n",
       "      <th>CAŁOŚĆ</th>\n",
       "      <td>2</td>\n",
       "    </tr>\n",
       "    <tr>\n",
       "      <th>ZE/21/B</th>\n",
       "      <td>2</td>\n",
       "    </tr>\n",
       "    <tr>\n",
       "      <th>TACE</th>\n",
       "      <td>2</td>\n",
       "    </tr>\n",
       "    <tr>\n",
       "      <th>ZAZDROSTKA</th>\n",
       "      <td>2</td>\n",
       "    </tr>\n",
       "    <tr>\n",
       "      <th>PODUSZKI</th>\n",
       "      <td>2</td>\n",
       "    </tr>\n",
       "    <tr>\n",
       "      <th>KULE - 2 SZT</th>\n",
       "      <td>2</td>\n",
       "    </tr>\n",
       "    <tr>\n",
       "      <th>LUSTRO</th>\n",
       "      <td>2</td>\n",
       "    </tr>\n",
       "    <tr>\n",
       "      <th>KOC/AKRYL/7A</th>\n",
       "      <td>2</td>\n",
       "    </tr>\n",
       "    <tr>\n",
       "      <th>LAMPY</th>\n",
       "      <td>2</td>\n",
       "    </tr>\n",
       "    <tr>\n",
       "      <th>PODKŁADKI</th>\n",
       "      <td>2</td>\n",
       "    </tr>\n",
       "    <tr>\n",
       "      <th>OBRUS</th>\n",
       "      <td>2</td>\n",
       "    </tr>\n",
       "    <tr>\n",
       "      <th>PRODUKTY</th>\n",
       "      <td>2</td>\n",
       "    </tr>\n",
       "    <tr>\n",
       "      <th>LAMPA</th>\n",
       "      <td>2</td>\n",
       "    </tr>\n",
       "    <tr>\n",
       "      <th>OBRAZY</th>\n",
       "      <td>3</td>\n",
       "    </tr>\n",
       "    <tr>\n",
       "      <th>CHOINKA</th>\n",
       "      <td>3</td>\n",
       "    </tr>\n",
       "    <tr>\n",
       "      <th>PRZEŚCIERADŁO</th>\n",
       "      <td>3</td>\n",
       "    </tr>\n",
       "    <tr>\n",
       "      <th>RECZNIKI</th>\n",
       "      <td>3</td>\n",
       "    </tr>\n",
       "    <tr>\n",
       "      <th>POŚCIELE</th>\n",
       "      <td>3</td>\n",
       "    </tr>\n",
       "    <tr>\n",
       "      <th>KWIATY</th>\n",
       "      <td>3</td>\n",
       "    </tr>\n",
       "    <tr>\n",
       "      <th>BIEŻNIK</th>\n",
       "      <td>4</td>\n",
       "    </tr>\n",
       "    <tr>\n",
       "      <th>OBRAZ</th>\n",
       "      <td>4</td>\n",
       "    </tr>\n",
       "    <tr>\n",
       "      <th>zasłony</th>\n",
       "      <td>4</td>\n",
       "    </tr>\n",
       "    <tr>\n",
       "      <th>RĘCZNIK</th>\n",
       "      <td>4</td>\n",
       "    </tr>\n",
       "    <tr>\n",
       "      <th>ROLETY</th>\n",
       "      <td>4</td>\n",
       "    </tr>\n",
       "    <tr>\n",
       "      <th>SKR.INT</th>\n",
       "      <td>6</td>\n",
       "    </tr>\n",
       "    <tr>\n",
       "      <th>CAŁE ZAMÓWIENIE</th>\n",
       "      <td>6</td>\n",
       "    </tr>\n",
       "    <tr>\n",
       "      <th>POSZEWKI</th>\n",
       "      <td>10</td>\n",
       "    </tr>\n",
       "    <tr>\n",
       "      <th>RĘCZNIKI</th>\n",
       "      <td>12</td>\n",
       "    </tr>\n",
       "    <tr>\n",
       "      <th>ROLETA</th>\n",
       "      <td>13</td>\n",
       "    </tr>\n",
       "    <tr>\n",
       "      <th>ZEGAR</th>\n",
       "      <td>18</td>\n",
       "    </tr>\n",
       "    <tr>\n",
       "      <th>NARZUTA</th>\n",
       "      <td>20</td>\n",
       "    </tr>\n",
       "    <tr>\n",
       "      <th>POŚCIEL</th>\n",
       "      <td>33</td>\n",
       "    </tr>\n",
       "    <tr>\n",
       "      <th>FIRANY</th>\n",
       "      <td>95</td>\n",
       "    </tr>\n",
       "    <tr>\n",
       "      <th>ZASŁONY</th>\n",
       "      <td>172</td>\n",
       "    </tr>\n",
       "  </tbody>\n",
       "</table>\n",
       "</div>"
      ],
      "text/plain": [
       "                   IMIĘ I NAZWISKO\n",
       "produkt_2                         \n",
       "BOMBKI                           1\n",
       "C/ALANI/1/MIS/01                 1\n",
       "LU/10                            1\n",
       "CHON/SOFIA/1/KAW                 1\n",
       "LC/VICTORIA                      1\n",
       "C/MESI/TAC/02                    1\n",
       "C/SESI/TAC/02                    1\n",
       "CAŁE ZAM                         1\n",
       "CAŁE ZAMÓWIENIA                  1\n",
       "Ko/FLA/LORI PUDER                1\n",
       "LC/MUSA3/POS                     1\n",
       "D91/N/LUIZ/B+SRE                 1\n",
       "CHON/SOFIA/1/BEŻ                 2\n",
       "PRZEŚCIERADŁA                    2\n",
       "WAZON                            2\n",
       "SIEDZISKA                        2\n",
       "CAŁOŚĆ                           2\n",
       "ZE/21/B                          2\n",
       "TACE                             2\n",
       "ZAZDROSTKA                       2\n",
       "PODUSZKI                         2\n",
       "KULE - 2 SZT                     2\n",
       "LUSTRO                           2\n",
       "KOC/AKRYL/7A                     2\n",
       "LAMPY                            2\n",
       "PODKŁADKI                        2\n",
       "OBRUS                            2\n",
       "PRODUKTY                         2\n",
       "LAMPA                            2\n",
       "OBRAZY                           3\n",
       "CHOINKA                          3\n",
       "PRZEŚCIERADŁO                    3\n",
       "RECZNIKI                         3\n",
       "POŚCIELE                         3\n",
       "KWIATY                           3\n",
       "BIEŻNIK                          4\n",
       "OBRAZ                            4\n",
       "zasłony                          4\n",
       "RĘCZNIK                          4\n",
       "ROLETY                           4\n",
       "SKR.INT                          6\n",
       "CAŁE ZAMÓWIENIE                  6\n",
       "POSZEWKI                        10\n",
       "RĘCZNIKI                        12\n",
       "ROLETA                          13\n",
       "ZEGAR                           18\n",
       "NARZUTA                         20\n",
       "POŚCIEL                         33\n",
       "FIRANY                          95\n",
       "ZASŁONY                        172"
      ]
     },
     "metadata": {},
     "output_type": "display_data"
    }
   ],
   "source": [
    "df=func_read_excel('REKLAMACJE INTERNETU od 2017',\n",
    "               '2022R.')"
   ]
  },
  {
   "cell_type": "code",
   "execution_count": 17,
   "id": "7e500813-ab2e-417c-bff6-a95ee1c8ffd5",
   "metadata": {},
   "outputs": [],
   "source": [
    "import unidecode\n",
    "df['PRODUKT']=df['PRODUKT'].apply(lambda x: unidecode.unidecode(x) if type(x)!=type(np.nan) else x)\n",
    "df['PRODUKT']=df['PRODUKT'].apply(lambda x: x.lower() if type(x)!=type(np.nan) else x)\n",
    "\n",
    "df['PRZYCZYNA REKLAMACJI']=df['PRZYCZYNA REKLAMACJI'].apply(lambda x: str(x) if type(x)!=type(np.nan) else x)\n",
    "df['PRZYCZYNA REKLAMACJI']=df['PRZYCZYNA REKLAMACJI'].apply(lambda x: unidecode.unidecode(x) if type(x)!=type(np.nan) else x)\n",
    "df['PRZYCZYNA REKLAMACJI']=df['PRZYCZYNA REKLAMACJI'].apply(lambda x: x.lower() if type(x)!=type(np.nan) else x)"
   ]
  },
  {
   "cell_type": "code",
   "execution_count": 7,
   "id": "2cbeb809-5b99-4bca-8646-cf76d016aa31",
   "metadata": {},
   "outputs": [
    {
     "data": {
      "text/html": [
       "<div>\n",
       "<style scoped>\n",
       "    .dataframe tbody tr th:only-of-type {\n",
       "        vertical-align: middle;\n",
       "    }\n",
       "\n",
       "    .dataframe tbody tr th {\n",
       "        vertical-align: top;\n",
       "    }\n",
       "\n",
       "    .dataframe thead th {\n",
       "        text-align: right;\n",
       "    }\n",
       "</style>\n",
       "<table border=\"1\" class=\"dataframe\">\n",
       "  <thead>\n",
       "    <tr style=\"text-align: right;\">\n",
       "      <th></th>\n",
       "      <th>PRZYCZYNA REKLAMACJI</th>\n",
       "    </tr>\n",
       "  </thead>\n",
       "  <tbody>\n",
       "    <tr>\n",
       "      <th>0</th>\n",
       "      <td>zwrot</td>\n",
       "    </tr>\n",
       "    <tr>\n",
       "      <th>3</th>\n",
       "      <td>naprawa/ zwrot???</td>\n",
       "    </tr>\n",
       "    <tr>\n",
       "      <th>9</th>\n",
       "      <td>naprawa/szwalnia</td>\n",
       "    </tr>\n",
       "    <tr>\n",
       "      <th>11</th>\n",
       "      <td>wymiana</td>\n",
       "    </tr>\n",
       "    <tr>\n",
       "      <th>25</th>\n",
       "      <td>zwrot/wymiana</td>\n",
       "    </tr>\n",
       "    <tr>\n",
       "      <th>...</th>\n",
       "      <td>...</td>\n",
       "    </tr>\n",
       "    <tr>\n",
       "      <th>531</th>\n",
       "      <td>kolor / dziurka</td>\n",
       "    </tr>\n",
       "    <tr>\n",
       "      <th>532</th>\n",
       "      <td>zle zszyta</td>\n",
       "    </tr>\n",
       "    <tr>\n",
       "      <th>533</th>\n",
       "      <td>nie pasuje material</td>\n",
       "    </tr>\n",
       "    <tr>\n",
       "      <th>536</th>\n",
       "      <td>odcien</td>\n",
       "    </tr>\n",
       "    <tr>\n",
       "      <th>537</th>\n",
       "      <td>zle zszyta/boki unosza sie do gory</td>\n",
       "    </tr>\n",
       "  </tbody>\n",
       "</table>\n",
       "<p>287 rows × 1 columns</p>\n",
       "</div>"
      ],
      "text/plain": [
       "                    PRZYCZYNA REKLAMACJI\n",
       "0                                  zwrot\n",
       "3                      naprawa/ zwrot???\n",
       "9                       naprawa/szwalnia\n",
       "11                               wymiana\n",
       "25                         zwrot/wymiana\n",
       "..                                   ...\n",
       "531                      kolor / dziurka\n",
       "532                           zle zszyta\n",
       "533                  nie pasuje material\n",
       "536                               odcien\n",
       "537  zle zszyta/boki unosza sie do gory \n",
       "\n",
       "[287 rows x 1 columns]"
      ]
     },
     "execution_count": 7,
     "metadata": {},
     "output_type": "execute_result"
    }
   ],
   "source": [
    "df[['PRZYCZYNA REKLAMACJI']].drop_duplicates()"
   ]
  },
  {
   "cell_type": "code",
   "execution_count": 21,
   "id": "1b811216-f288-4c90-8b02-ada3f369b700",
   "metadata": {},
   "outputs": [],
   "source": [
    "df['PRZYCZYNA REKLAMACJI']=df['PRZYCZYNA REKLAMACJI'].astype(str)"
   ]
  },
  {
   "cell_type": "code",
   "execution_count": 127,
   "id": "2e7caa8b-3ebb-40c3-8046-020d6b08baf2",
   "metadata": {},
   "outputs": [],
   "source": [
    "lev_similarity_1=[np.max(np.delete(i, np.where(i==0))) for i in lev_similarity]"
   ]
  },
  {
   "cell_type": "code",
   "execution_count": 128,
   "id": "6cab8454-94c9-42e5-9cef-4050e12ca5fc",
   "metadata": {},
   "outputs": [
    {
     "data": {
      "application/vnd.plotly.v1+json": {
       "config": {
        "plotlyServerURL": "https://plot.ly"
       },
       "data": [
        {
         "hovertemplate": "index=%{x}<br>value=%{y}<br>color=%{marker.color}<extra></extra>",
         "legendgroup": "",
         "marker": {
          "color": [
           50,
           3,
           3,
           0,
           0,
           1,
           0,
           2,
           1,
           48,
           3,
           54,
           40,
           31,
           31,
           20,
           40,
           13,
           55,
           26,
           1,
           41,
           21,
           49,
           0,
           5,
           16,
           4,
           41,
           5,
           5,
           41,
           5,
           31,
           6,
           7,
           1,
           13,
           8,
           19,
           47,
           47,
           41,
           23,
           27,
           56,
           3,
           33,
           47,
           55,
           41,
           34,
           9,
           19,
           10,
           11,
           12,
           31,
           40,
           13,
           14,
           16,
           31,
           15,
           44,
           16,
           43,
           47,
           43,
           20,
           44,
           41,
           17,
           19,
           38,
           18,
           38,
           27,
           40,
           56,
           19,
           56,
           20,
           38,
           21,
           1,
           13,
           21,
           22,
           21,
           55,
           44,
           23,
           5,
           24,
           31,
           25,
           28,
           20,
           26,
           20,
           41,
           0,
           26,
           27,
           53,
           33,
           19,
           28,
           40,
           21,
           28,
           27,
           38,
           41,
           42,
           26,
           29,
           33,
           56,
           50,
           18,
           13,
           33,
           38,
           46,
           46,
           20,
           38,
           30,
           20,
           34,
           38,
           31,
           34,
           41,
           28,
           28,
           18,
           56,
           32,
           50,
           44,
           34,
           38,
           50,
           33,
           34,
           21,
           33,
           48,
           35,
           40,
           38,
           21,
           50,
           0,
           36,
           5,
           26,
           40,
           41,
           40,
           43,
           21,
           20,
           41,
           33,
           37,
           18,
           43,
           49,
           35,
           50,
           34,
           18,
           46,
           38,
           50,
           20,
           28,
           39,
           53,
           50,
           23,
           40,
           34,
           42,
           33,
           40,
           56,
           0,
           51,
           41,
           0,
           41,
           42,
           50,
           42,
           33,
           42,
           48,
           43,
           20,
           40,
           5,
           50,
           44,
           20,
           46,
           40,
           18,
           53,
           0,
           55,
           31,
           42,
           18,
           45,
           42,
           0,
           46,
           47,
           20,
           50,
           28,
           1,
           20,
           42,
           49,
           55,
           3,
           34,
           21,
           55,
           28,
           38,
           33,
           50,
           49,
           0,
           48,
           38,
           23,
           38,
           20,
           38,
           49,
           50,
           35,
           50,
           31,
           19,
           53,
           43,
           28,
           20,
           51,
           47,
           5,
           18,
           52,
           42,
           48,
           13,
           53,
           0,
           50,
           43,
           27,
           20,
           28,
           54,
           18,
           26,
           55,
           31,
           56,
           20,
           0,
           53,
           56,
           28,
           46,
           49,
           0,
           57
          ],
          "coloraxis": "coloraxis",
          "symbol": "circle"
         },
         "mode": "markers",
         "name": "",
         "orientation": "v",
         "showlegend": false,
         "type": "scatter",
         "x": [
          0,
          1,
          2,
          3,
          4,
          5,
          6,
          7,
          8,
          9,
          10,
          11,
          12,
          13,
          14,
          15,
          16,
          17,
          18,
          19,
          20,
          21,
          22,
          23,
          24,
          25,
          26,
          27,
          28,
          29,
          30,
          31,
          32,
          33,
          34,
          35,
          36,
          37,
          38,
          39,
          40,
          41,
          42,
          43,
          44,
          45,
          46,
          47,
          48,
          49,
          50,
          51,
          52,
          53,
          54,
          55,
          56,
          57,
          58,
          59,
          60,
          61,
          62,
          63,
          64,
          65,
          66,
          67,
          68,
          69,
          70,
          71,
          72,
          73,
          74,
          75,
          76,
          77,
          78,
          79,
          80,
          81,
          82,
          83,
          84,
          85,
          86,
          87,
          88,
          89,
          90,
          91,
          92,
          93,
          94,
          95,
          96,
          97,
          98,
          99,
          100,
          101,
          102,
          103,
          104,
          105,
          106,
          107,
          108,
          109,
          110,
          111,
          112,
          113,
          114,
          115,
          116,
          117,
          118,
          119,
          120,
          121,
          122,
          123,
          124,
          125,
          126,
          127,
          128,
          129,
          130,
          131,
          132,
          133,
          134,
          135,
          136,
          137,
          138,
          139,
          140,
          141,
          142,
          143,
          144,
          145,
          146,
          147,
          148,
          149,
          150,
          151,
          152,
          153,
          154,
          155,
          156,
          157,
          158,
          159,
          160,
          161,
          162,
          163,
          164,
          165,
          166,
          167,
          168,
          169,
          170,
          171,
          172,
          173,
          174,
          175,
          176,
          177,
          178,
          179,
          180,
          181,
          182,
          183,
          184,
          185,
          186,
          187,
          188,
          189,
          190,
          191,
          192,
          193,
          194,
          195,
          196,
          197,
          198,
          199,
          200,
          201,
          202,
          203,
          204,
          205,
          206,
          207,
          208,
          209,
          210,
          211,
          212,
          213,
          214,
          215,
          216,
          217,
          218,
          219,
          220,
          221,
          222,
          223,
          224,
          225,
          226,
          227,
          228,
          229,
          230,
          231,
          232,
          233,
          234,
          235,
          236,
          237,
          238,
          239,
          240,
          241,
          242,
          243,
          244,
          245,
          246,
          247,
          248,
          249,
          250,
          251,
          252,
          253,
          254,
          255,
          256,
          257,
          258,
          259,
          260,
          261,
          262,
          263,
          264,
          265,
          266,
          267,
          268,
          269,
          270,
          271,
          272,
          273,
          274,
          275,
          276,
          277,
          278,
          279,
          280,
          281,
          282,
          283,
          284,
          285,
          286
         ],
         "xaxis": "x",
         "y": [
          -4,
          -6,
          -1,
          -1,
          -5,
          -6,
          -1,
          -18,
          -5,
          -11,
          -1,
          -7,
          -1,
          -13,
          -3,
          -10,
          -7,
          -8,
          -5,
          -10,
          -11,
          -5,
          -6,
          -7,
          -5,
          -4,
          -3,
          -20,
          -7,
          -8,
          -4,
          -12,
          -5,
          -6,
          -14,
          -19,
          -10,
          -5,
          -15,
          -8,
          -10,
          -6,
          -3,
          -7,
          -5,
          -5,
          -6,
          -9,
          -7,
          -5,
          -5,
          -5,
          -16,
          -4,
          -41,
          -15,
          -17,
          -3,
          -11,
          -3,
          -21,
          -6,
          -3,
          -22,
          -13,
          -3,
          -6,
          -10,
          -9,
          -4,
          -9,
          -7,
          -37,
          -8,
          -5,
          -1,
          -6,
          -5,
          -7,
          -6,
          -4,
          -5,
          -1,
          -6,
          -1,
          -6,
          -12,
          -6,
          -23,
          -11,
          -1,
          -1,
          -7,
          -7,
          -24,
          -3,
          -15,
          -5,
          -1,
          -1,
          -1,
          -4,
          -4,
          -7,
          -5,
          -4,
          -7,
          -6,
          -1,
          -1,
          -1,
          -1,
          -12,
          -1,
          -12,
          -1,
          -1,
          -22,
          -7,
          -5,
          -1,
          -11,
          -2,
          -5,
          -2,
          -1,
          -1,
          -5,
          -2,
          -21,
          -4,
          -1,
          -5,
          -3,
          -2,
          -4,
          -2,
          -5,
          -5,
          -5,
          -32,
          -3,
          -8,
          -9,
          -4,
          -1,
          -3,
          -1,
          -3,
          -6,
          -5,
          -3,
          -1,
          -3,
          -1,
          -4,
          -1,
          -15,
          -9,
          -9,
          -1,
          -7,
          -6,
          -5,
          -7,
          -1,
          -5,
          -5,
          -22,
          -4,
          -2,
          -13,
          -6,
          -4,
          -6,
          -1,
          -4,
          -1,
          -4,
          -2,
          -1,
          -15,
          -4,
          -4,
          -7,
          -10,
          -14,
          -5,
          -11,
          -1,
          -7,
          -5,
          -8,
          -2,
          -1,
          -2,
          -1,
          -1,
          -1,
          -10,
          -1,
          -2,
          -2,
          -1,
          -1,
          -12,
          -1,
          -1,
          -4,
          -9,
          -1,
          -9,
          -10,
          -4,
          -7,
          -5,
          -1,
          -2,
          -19,
          -5,
          -5,
          -1,
          -7,
          -4,
          -4,
          -1,
          -10,
          -3,
          -1,
          -12,
          -7,
          -12,
          -8,
          -11,
          -2,
          -4,
          -1,
          -3,
          -1,
          -1,
          -1,
          -2,
          -5,
          -7,
          -4,
          -1,
          -5,
          -1,
          -1,
          -3,
          -4,
          -5,
          -8,
          -5,
          -6,
          -3,
          -1,
          -8,
          -13,
          -6,
          -6,
          -20,
          -1,
          -7,
          -2,
          -4,
          -5,
          -4,
          -6,
          -10,
          -1,
          -5,
          -7,
          -7,
          -2,
          -1,
          -4,
          -4,
          -2,
          -9,
          -4,
          -4,
          -7,
          -1,
          -10,
          -5,
          -20
         ],
         "yaxis": "y"
        }
       ],
       "layout": {
        "autosize": true,
        "coloraxis": {
         "colorbar": {
          "title": {
           "text": "color"
          }
         },
         "colorscale": [
          [
           0,
           "#0d0887"
          ],
          [
           0.1111111111111111,
           "#46039f"
          ],
          [
           0.2222222222222222,
           "#7201a8"
          ],
          [
           0.3333333333333333,
           "#9c179e"
          ],
          [
           0.4444444444444444,
           "#bd3786"
          ],
          [
           0.5555555555555556,
           "#d8576b"
          ],
          [
           0.6666666666666666,
           "#ed7953"
          ],
          [
           0.7777777777777778,
           "#fb9f3a"
          ],
          [
           0.8888888888888888,
           "#fdca26"
          ],
          [
           1,
           "#f0f921"
          ]
         ]
        },
        "legend": {
         "tracegroupgap": 0
        },
        "margin": {
         "t": 60
        },
        "template": {
         "data": {
          "bar": [
           {
            "error_x": {
             "color": "#2a3f5f"
            },
            "error_y": {
             "color": "#2a3f5f"
            },
            "marker": {
             "line": {
              "color": "#E5ECF6",
              "width": 0.5
             },
             "pattern": {
              "fillmode": "overlay",
              "size": 10,
              "solidity": 0.2
             }
            },
            "type": "bar"
           }
          ],
          "barpolar": [
           {
            "marker": {
             "line": {
              "color": "#E5ECF6",
              "width": 0.5
             },
             "pattern": {
              "fillmode": "overlay",
              "size": 10,
              "solidity": 0.2
             }
            },
            "type": "barpolar"
           }
          ],
          "carpet": [
           {
            "aaxis": {
             "endlinecolor": "#2a3f5f",
             "gridcolor": "white",
             "linecolor": "white",
             "minorgridcolor": "white",
             "startlinecolor": "#2a3f5f"
            },
            "baxis": {
             "endlinecolor": "#2a3f5f",
             "gridcolor": "white",
             "linecolor": "white",
             "minorgridcolor": "white",
             "startlinecolor": "#2a3f5f"
            },
            "type": "carpet"
           }
          ],
          "choropleth": [
           {
            "colorbar": {
             "outlinewidth": 0,
             "ticks": ""
            },
            "type": "choropleth"
           }
          ],
          "contour": [
           {
            "colorbar": {
             "outlinewidth": 0,
             "ticks": ""
            },
            "colorscale": [
             [
              0,
              "#0d0887"
             ],
             [
              0.1111111111111111,
              "#46039f"
             ],
             [
              0.2222222222222222,
              "#7201a8"
             ],
             [
              0.3333333333333333,
              "#9c179e"
             ],
             [
              0.4444444444444444,
              "#bd3786"
             ],
             [
              0.5555555555555556,
              "#d8576b"
             ],
             [
              0.6666666666666666,
              "#ed7953"
             ],
             [
              0.7777777777777778,
              "#fb9f3a"
             ],
             [
              0.8888888888888888,
              "#fdca26"
             ],
             [
              1,
              "#f0f921"
             ]
            ],
            "type": "contour"
           }
          ],
          "contourcarpet": [
           {
            "colorbar": {
             "outlinewidth": 0,
             "ticks": ""
            },
            "type": "contourcarpet"
           }
          ],
          "heatmap": [
           {
            "colorbar": {
             "outlinewidth": 0,
             "ticks": ""
            },
            "colorscale": [
             [
              0,
              "#0d0887"
             ],
             [
              0.1111111111111111,
              "#46039f"
             ],
             [
              0.2222222222222222,
              "#7201a8"
             ],
             [
              0.3333333333333333,
              "#9c179e"
             ],
             [
              0.4444444444444444,
              "#bd3786"
             ],
             [
              0.5555555555555556,
              "#d8576b"
             ],
             [
              0.6666666666666666,
              "#ed7953"
             ],
             [
              0.7777777777777778,
              "#fb9f3a"
             ],
             [
              0.8888888888888888,
              "#fdca26"
             ],
             [
              1,
              "#f0f921"
             ]
            ],
            "type": "heatmap"
           }
          ],
          "heatmapgl": [
           {
            "colorbar": {
             "outlinewidth": 0,
             "ticks": ""
            },
            "colorscale": [
             [
              0,
              "#0d0887"
             ],
             [
              0.1111111111111111,
              "#46039f"
             ],
             [
              0.2222222222222222,
              "#7201a8"
             ],
             [
              0.3333333333333333,
              "#9c179e"
             ],
             [
              0.4444444444444444,
              "#bd3786"
             ],
             [
              0.5555555555555556,
              "#d8576b"
             ],
             [
              0.6666666666666666,
              "#ed7953"
             ],
             [
              0.7777777777777778,
              "#fb9f3a"
             ],
             [
              0.8888888888888888,
              "#fdca26"
             ],
             [
              1,
              "#f0f921"
             ]
            ],
            "type": "heatmapgl"
           }
          ],
          "histogram": [
           {
            "marker": {
             "pattern": {
              "fillmode": "overlay",
              "size": 10,
              "solidity": 0.2
             }
            },
            "type": "histogram"
           }
          ],
          "histogram2d": [
           {
            "colorbar": {
             "outlinewidth": 0,
             "ticks": ""
            },
            "colorscale": [
             [
              0,
              "#0d0887"
             ],
             [
              0.1111111111111111,
              "#46039f"
             ],
             [
              0.2222222222222222,
              "#7201a8"
             ],
             [
              0.3333333333333333,
              "#9c179e"
             ],
             [
              0.4444444444444444,
              "#bd3786"
             ],
             [
              0.5555555555555556,
              "#d8576b"
             ],
             [
              0.6666666666666666,
              "#ed7953"
             ],
             [
              0.7777777777777778,
              "#fb9f3a"
             ],
             [
              0.8888888888888888,
              "#fdca26"
             ],
             [
              1,
              "#f0f921"
             ]
            ],
            "type": "histogram2d"
           }
          ],
          "histogram2dcontour": [
           {
            "colorbar": {
             "outlinewidth": 0,
             "ticks": ""
            },
            "colorscale": [
             [
              0,
              "#0d0887"
             ],
             [
              0.1111111111111111,
              "#46039f"
             ],
             [
              0.2222222222222222,
              "#7201a8"
             ],
             [
              0.3333333333333333,
              "#9c179e"
             ],
             [
              0.4444444444444444,
              "#bd3786"
             ],
             [
              0.5555555555555556,
              "#d8576b"
             ],
             [
              0.6666666666666666,
              "#ed7953"
             ],
             [
              0.7777777777777778,
              "#fb9f3a"
             ],
             [
              0.8888888888888888,
              "#fdca26"
             ],
             [
              1,
              "#f0f921"
             ]
            ],
            "type": "histogram2dcontour"
           }
          ],
          "mesh3d": [
           {
            "colorbar": {
             "outlinewidth": 0,
             "ticks": ""
            },
            "type": "mesh3d"
           }
          ],
          "parcoords": [
           {
            "line": {
             "colorbar": {
              "outlinewidth": 0,
              "ticks": ""
             }
            },
            "type": "parcoords"
           }
          ],
          "pie": [
           {
            "automargin": true,
            "type": "pie"
           }
          ],
          "scatter": [
           {
            "fillpattern": {
             "fillmode": "overlay",
             "size": 10,
             "solidity": 0.2
            },
            "type": "scatter"
           }
          ],
          "scatter3d": [
           {
            "line": {
             "colorbar": {
              "outlinewidth": 0,
              "ticks": ""
             }
            },
            "marker": {
             "colorbar": {
              "outlinewidth": 0,
              "ticks": ""
             }
            },
            "type": "scatter3d"
           }
          ],
          "scattercarpet": [
           {
            "marker": {
             "colorbar": {
              "outlinewidth": 0,
              "ticks": ""
             }
            },
            "type": "scattercarpet"
           }
          ],
          "scattergeo": [
           {
            "marker": {
             "colorbar": {
              "outlinewidth": 0,
              "ticks": ""
             }
            },
            "type": "scattergeo"
           }
          ],
          "scattergl": [
           {
            "marker": {
             "colorbar": {
              "outlinewidth": 0,
              "ticks": ""
             }
            },
            "type": "scattergl"
           }
          ],
          "scattermapbox": [
           {
            "marker": {
             "colorbar": {
              "outlinewidth": 0,
              "ticks": ""
             }
            },
            "type": "scattermapbox"
           }
          ],
          "scatterpolar": [
           {
            "marker": {
             "colorbar": {
              "outlinewidth": 0,
              "ticks": ""
             }
            },
            "type": "scatterpolar"
           }
          ],
          "scatterpolargl": [
           {
            "marker": {
             "colorbar": {
              "outlinewidth": 0,
              "ticks": ""
             }
            },
            "type": "scatterpolargl"
           }
          ],
          "scatterternary": [
           {
            "marker": {
             "colorbar": {
              "outlinewidth": 0,
              "ticks": ""
             }
            },
            "type": "scatterternary"
           }
          ],
          "surface": [
           {
            "colorbar": {
             "outlinewidth": 0,
             "ticks": ""
            },
            "colorscale": [
             [
              0,
              "#0d0887"
             ],
             [
              0.1111111111111111,
              "#46039f"
             ],
             [
              0.2222222222222222,
              "#7201a8"
             ],
             [
              0.3333333333333333,
              "#9c179e"
             ],
             [
              0.4444444444444444,
              "#bd3786"
             ],
             [
              0.5555555555555556,
              "#d8576b"
             ],
             [
              0.6666666666666666,
              "#ed7953"
             ],
             [
              0.7777777777777778,
              "#fb9f3a"
             ],
             [
              0.8888888888888888,
              "#fdca26"
             ],
             [
              1,
              "#f0f921"
             ]
            ],
            "type": "surface"
           }
          ],
          "table": [
           {
            "cells": {
             "fill": {
              "color": "#EBF0F8"
             },
             "line": {
              "color": "white"
             }
            },
            "header": {
             "fill": {
              "color": "#C8D4E3"
             },
             "line": {
              "color": "white"
             }
            },
            "type": "table"
           }
          ]
         },
         "layout": {
          "annotationdefaults": {
           "arrowcolor": "#2a3f5f",
           "arrowhead": 0,
           "arrowwidth": 1
          },
          "autotypenumbers": "strict",
          "coloraxis": {
           "colorbar": {
            "outlinewidth": 0,
            "ticks": ""
           }
          },
          "colorscale": {
           "diverging": [
            [
             0,
             "#8e0152"
            ],
            [
             0.1,
             "#c51b7d"
            ],
            [
             0.2,
             "#de77ae"
            ],
            [
             0.3,
             "#f1b6da"
            ],
            [
             0.4,
             "#fde0ef"
            ],
            [
             0.5,
             "#f7f7f7"
            ],
            [
             0.6,
             "#e6f5d0"
            ],
            [
             0.7,
             "#b8e186"
            ],
            [
             0.8,
             "#7fbc41"
            ],
            [
             0.9,
             "#4d9221"
            ],
            [
             1,
             "#276419"
            ]
           ],
           "sequential": [
            [
             0,
             "#0d0887"
            ],
            [
             0.1111111111111111,
             "#46039f"
            ],
            [
             0.2222222222222222,
             "#7201a8"
            ],
            [
             0.3333333333333333,
             "#9c179e"
            ],
            [
             0.4444444444444444,
             "#bd3786"
            ],
            [
             0.5555555555555556,
             "#d8576b"
            ],
            [
             0.6666666666666666,
             "#ed7953"
            ],
            [
             0.7777777777777778,
             "#fb9f3a"
            ],
            [
             0.8888888888888888,
             "#fdca26"
            ],
            [
             1,
             "#f0f921"
            ]
           ],
           "sequentialminus": [
            [
             0,
             "#0d0887"
            ],
            [
             0.1111111111111111,
             "#46039f"
            ],
            [
             0.2222222222222222,
             "#7201a8"
            ],
            [
             0.3333333333333333,
             "#9c179e"
            ],
            [
             0.4444444444444444,
             "#bd3786"
            ],
            [
             0.5555555555555556,
             "#d8576b"
            ],
            [
             0.6666666666666666,
             "#ed7953"
            ],
            [
             0.7777777777777778,
             "#fb9f3a"
            ],
            [
             0.8888888888888888,
             "#fdca26"
            ],
            [
             1,
             "#f0f921"
            ]
           ]
          },
          "colorway": [
           "#636efa",
           "#EF553B",
           "#00cc96",
           "#ab63fa",
           "#FFA15A",
           "#19d3f3",
           "#FF6692",
           "#B6E880",
           "#FF97FF",
           "#FECB52"
          ],
          "font": {
           "color": "#2a3f5f"
          },
          "geo": {
           "bgcolor": "white",
           "lakecolor": "white",
           "landcolor": "#E5ECF6",
           "showlakes": true,
           "showland": true,
           "subunitcolor": "white"
          },
          "hoverlabel": {
           "align": "left"
          },
          "hovermode": "closest",
          "mapbox": {
           "style": "light"
          },
          "paper_bgcolor": "white",
          "plot_bgcolor": "#E5ECF6",
          "polar": {
           "angularaxis": {
            "gridcolor": "white",
            "linecolor": "white",
            "ticks": ""
           },
           "bgcolor": "#E5ECF6",
           "radialaxis": {
            "gridcolor": "white",
            "linecolor": "white",
            "ticks": ""
           }
          },
          "scene": {
           "xaxis": {
            "backgroundcolor": "#E5ECF6",
            "gridcolor": "white",
            "gridwidth": 2,
            "linecolor": "white",
            "showbackground": true,
            "ticks": "",
            "zerolinecolor": "white"
           },
           "yaxis": {
            "backgroundcolor": "#E5ECF6",
            "gridcolor": "white",
            "gridwidth": 2,
            "linecolor": "white",
            "showbackground": true,
            "ticks": "",
            "zerolinecolor": "white"
           },
           "zaxis": {
            "backgroundcolor": "#E5ECF6",
            "gridcolor": "white",
            "gridwidth": 2,
            "linecolor": "white",
            "showbackground": true,
            "ticks": "",
            "zerolinecolor": "white"
           }
          },
          "shapedefaults": {
           "line": {
            "color": "#2a3f5f"
           }
          },
          "ternary": {
           "aaxis": {
            "gridcolor": "white",
            "linecolor": "white",
            "ticks": ""
           },
           "baxis": {
            "gridcolor": "white",
            "linecolor": "white",
            "ticks": ""
           },
           "bgcolor": "#E5ECF6",
           "caxis": {
            "gridcolor": "white",
            "linecolor": "white",
            "ticks": ""
           }
          },
          "title": {
           "x": 0.05
          },
          "xaxis": {
           "automargin": true,
           "gridcolor": "white",
           "linecolor": "white",
           "ticks": "",
           "title": {
            "standoff": 15
           },
           "zerolinecolor": "white",
           "zerolinewidth": 2
          },
          "yaxis": {
           "automargin": true,
           "gridcolor": "white",
           "linecolor": "white",
           "ticks": "",
           "title": {
            "standoff": 15
           },
           "zerolinecolor": "white",
           "zerolinewidth": 2
          }
         }
        },
        "xaxis": {
         "anchor": "y",
         "autorange": true,
         "domain": [
          0,
          1
         ],
         "range": [
          -16.759608358906913,
          302.7596083589069
         ],
         "title": {
          "text": "index"
         },
         "type": "linear"
        },
        "yaxis": {
         "anchor": "x",
         "autorange": true,
         "domain": [
          0,
          1
         ],
         "range": [
          -44.09711286089239,
          2.0971128608923886
         ],
         "title": {
          "text": "value"
         },
         "type": "linear"
        }
       }
      },
      "image/png": "[encoded data removed]",
      "text/html": [
       "<div>                            <div id=\"a9193087-037f-4ea3-a19b-b730a748b96d\" class=\"plotly-graph-div\" style=\"height:525px; width:100%;\"></div>            <script type=\"text/javascript\">                require([\"plotly\"], function(Plotly) {                    window.PLOTLYENV=window.PLOTLYENV || {};                                    if (document.getElementById(\"a9193087-037f-4ea3-a19b-b730a748b96d\")) {                    Plotly.newPlot(                        \"a9193087-037f-4ea3-a19b-b730a748b96d\",                        [{\"hovertemplate\":\"index=%{x}<br>value=%{y}<br>color=%{marker.color}<extra></extra>\",\"legendgroup\":\"\",\"marker\":{\"color\":[50,3,3,0,0,1,0,2,1,48,3,54,40,31,31,20,40,13,55,26,1,41,21,49,0,5,16,4,41,5,5,41,5,31,6,7,1,13,8,19,47,47,41,23,27,56,3,33,47,55,41,34,9,19,10,11,12,31,40,13,14,16,31,15,44,16,43,47,43,20,44,41,17,19,38,18,38,27,40,56,19,56,20,38,21,1,13,21,22,21,55,44,23,5,24,31,25,28,20,26,20,41,0,26,27,53,33,19,28,40,21,28,27,38,41,42,26,29,33,56,50,18,13,33,38,46,46,20,38,30,20,34,38,31,34,41,28,28,18,56,32,50,44,34,38,50,33,34,21,33,48,35,40,38,21,50,0,36,5,26,40,41,40,43,21,20,41,33,37,18,43,49,35,50,34,18,46,38,50,20,28,39,53,50,23,40,34,42,33,40,56,0,51,41,0,41,42,50,42,33,42,48,43,20,40,5,50,44,20,46,40,18,53,0,55,31,42,18,45,42,0,46,47,20,50,28,1,20,42,49,55,3,34,21,55,28,38,33,50,49,0,48,38,23,38,20,38,49,50,35,50,31,19,53,43,28,20,51,47,5,18,52,42,48,13,53,0,50,43,27,20,28,54,18,26,55,31,56,20,0,53,56,28,46,49,0,57],\"coloraxis\":\"coloraxis\",\"symbol\":\"circle\"},\"mode\":\"markers\",\"name\":\"\",\"orientation\":\"v\",\"showlegend\":false,\"x\":[0,1,2,3,4,5,6,7,8,9,10,11,12,13,14,15,16,17,18,19,20,21,22,23,24,25,26,27,28,29,30,31,32,33,34,35,36,37,38,39,40,41,42,43,44,45,46,47,48,49,50,51,52,53,54,55,56,57,58,59,60,61,62,63,64,65,66,67,68,69,70,71,72,73,74,75,76,77,78,79,80,81,82,83,84,85,86,87,88,89,90,91,92,93,94,95,96,97,98,99,100,101,102,103,104,105,106,107,108,109,110,111,112,113,114,115,116,117,118,119,120,121,122,123,124,125,126,127,128,129,130,131,132,133,134,135,136,137,138,139,140,141,142,143,144,145,146,147,148,149,150,151,152,153,154,155,156,157,158,159,160,161,162,163,164,165,166,167,168,169,170,171,172,173,174,175,176,177,178,179,180,181,182,183,184,185,186,187,188,189,190,191,192,193,194,195,196,197,198,199,200,201,202,203,204,205,206,207,208,209,210,211,212,213,214,215,216,217,218,219,220,221,222,223,224,225,226,227,228,229,230,231,232,233,234,235,236,237,238,239,240,241,242,243,244,245,246,247,248,249,250,251,252,253,254,255,256,257,258,259,260,261,262,263,264,265,266,267,268,269,270,271,272,273,274,275,276,277,278,279,280,281,282,283,284,285,286],\"xaxis\":\"x\",\"y\":[-4,-6,-1,-1,-5,-6,-1,-18,-5,-11,-1,-7,-1,-13,-3,-10,-7,-8,-5,-10,-11,-5,-6,-7,-5,-4,-3,-20,-7,-8,-4,-12,-5,-6,-14,-19,-10,-5,-15,-8,-10,-6,-3,-7,-5,-5,-6,-9,-7,-5,-5,-5,-16,-4,-41,-15,-17,-3,-11,-3,-21,-6,-3,-22,-13,-3,-6,-10,-9,-4,-9,-7,-37,-8,-5,-1,-6,-5,-7,-6,-4,-5,-1,-6,-1,-6,-12,-6,-23,-11,-1,-1,-7,-7,-24,-3,-15,-5,-1,-1,-1,-4,-4,-7,-5,-4,-7,-6,-1,-1,-1,-1,-12,-1,-12,-1,-1,-22,-7,-5,-1,-11,-2,-5,-2,-1,-1,-5,-2,-21,-4,-1,-5,-3,-2,-4,-2,-5,-5,-5,-32,-3,-8,-9,-4,-1,-3,-1,-3,-6,-5,-3,-1,-3,-1,-4,-1,-15,-9,-9,-1,-7,-6,-5,-7,-1,-5,-5,-22,-4,-2,-13,-6,-4,-6,-1,-4,-1,-4,-2,-1,-15,-4,-4,-7,-10,-14,-5,-11,-1,-7,-5,-8,-2,-1,-2,-1,-1,-1,-10,-1,-2,-2,-1,-1,-12,-1,-1,-4,-9,-1,-9,-10,-4,-7,-5,-1,-2,-19,-5,-5,-1,-7,-4,-4,-1,-10,-3,-1,-12,-7,-12,-8,-11,-2,-4,-1,-3,-1,-1,-1,-2,-5,-7,-4,-1,-5,-1,-1,-3,-4,-5,-8,-5,-6,-3,-1,-8,-13,-6,-6,-20,-1,-7,-2,-4,-5,-4,-6,-10,-1,-5,-7,-7,-2,-1,-4,-4,-2,-9,-4,-4,-7,-1,-10,-5,-20],\"yaxis\":\"y\",\"type\":\"scatter\"}],                        {\"template\":{\"data\":{\"histogram2dcontour\":[{\"type\":\"histogram2dcontour\",\"colorbar\":{\"outlinewidth\":0,\"ticks\":\"\"},\"colorscale\":[[0.0,\"#0d0887\"],[0.1111111111111111,\"#46039f\"],[0.2222222222222222,\"#7201a8\"],[0.3333333333333333,\"#9c179e\"],[0.4444444444444444,\"#bd3786\"],[0.5555555555555556,\"#d8576b\"],[0.6666666666666666,\"#ed7953\"],[0.7777777777777778,\"#fb9f3a\"],[0.8888888888888888,\"#fdca26\"],[1.0,\"#f0f921\"]]}],\"choropleth\":[{\"type\":\"choropleth\",\"colorbar\":{\"outlinewidth\":0,\"ticks\":\"\"}}],\"histogram2d\":[{\"type\":\"histogram2d\",\"colorbar\":{\"outlinewidth\":0,\"ticks\":\"\"},\"colorscale\":[[0.0,\"#0d0887\"],[0.1111111111111111,\"#46039f\"],[0.2222222222222222,\"#7201a8\"],[0.3333333333333333,\"#9c179e\"],[0.4444444444444444,\"#bd3786\"],[0.5555555555555556,\"#d8576b\"],[0.6666666666666666,\"#ed7953\"],[0.7777777777777778,\"#fb9f3a\"],[0.8888888888888888,\"#fdca26\"],[1.0,\"#f0f921\"]]}],\"heatmap\":[{\"type\":\"heatmap\",\"colorbar\":{\"outlinewidth\":0,\"ticks\":\"\"},\"colorscale\":[[0.0,\"#0d0887\"],[0.1111111111111111,\"#46039f\"],[0.2222222222222222,\"#7201a8\"],[0.3333333333333333,\"#9c179e\"],[0.4444444444444444,\"#bd3786\"],[0.5555555555555556,\"#d8576b\"],[0.6666666666666666,\"#ed7953\"],[0.7777777777777778,\"#fb9f3a\"],[0.8888888888888888,\"#fdca26\"],[1.0,\"#f0f921\"]]}],\"heatmapgl\":[{\"type\":\"heatmapgl\",\"colorbar\":{\"outlinewidth\":0,\"ticks\":\"\"},\"colorscale\":[[0.0,\"#0d0887\"],[0.1111111111111111,\"#46039f\"],[0.2222222222222222,\"#7201a8\"],[0.3333333333333333,\"#9c179e\"],[0.4444444444444444,\"#bd3786\"],[0.5555555555555556,\"#d8576b\"],[0.6666666666666666,\"#ed7953\"],[0.7777777777777778,\"#fb9f3a\"],[0.8888888888888888,\"#fdca26\"],[1.0,\"#f0f921\"]]}],\"contourcarpet\":[{\"type\":\"contourcarpet\",\"colorbar\":{\"outlinewidth\":0,\"ticks\":\"\"}}],\"contour\":[{\"type\":\"contour\",\"colorbar\":{\"outlinewidth\":0,\"ticks\":\"\"},\"colorscale\":[[0.0,\"#0d0887\"],[0.1111111111111111,\"#46039f\"],[0.2222222222222222,\"#7201a8\"],[0.3333333333333333,\"#9c179e\"],[0.4444444444444444,\"#bd3786\"],[0.5555555555555556,\"#d8576b\"],[0.6666666666666666,\"#ed7953\"],[0.7777777777777778,\"#fb9f3a\"],[0.8888888888888888,\"#fdca26\"],[1.0,\"#f0f921\"]]}],\"surface\":[{\"type\":\"surface\",\"colorbar\":{\"outlinewidth\":0,\"ticks\":\"\"},\"colorscale\":[[0.0,\"#0d0887\"],[0.1111111111111111,\"#46039f\"],[0.2222222222222222,\"#7201a8\"],[0.3333333333333333,\"#9c179e\"],[0.4444444444444444,\"#bd3786\"],[0.5555555555555556,\"#d8576b\"],[0.6666666666666666,\"#ed7953\"],[0.7777777777777778,\"#fb9f3a\"],[0.8888888888888888,\"#fdca26\"],[1.0,\"#f0f921\"]]}],\"mesh3d\":[{\"type\":\"mesh3d\",\"colorbar\":{\"outlinewidth\":0,\"ticks\":\"\"}}],\"scatter\":[{\"fillpattern\":{\"fillmode\":\"overlay\",\"size\":10,\"solidity\":0.2},\"type\":\"scatter\"}],\"parcoords\":[{\"type\":\"parcoords\",\"line\":{\"colorbar\":{\"outlinewidth\":0,\"ticks\":\"\"}}}],\"scatterpolargl\":[{\"type\":\"scatterpolargl\",\"marker\":{\"colorbar\":{\"outlinewidth\":0,\"ticks\":\"\"}}}],\"bar\":[{\"error_x\":{\"color\":\"#2a3f5f\"},\"error_y\":{\"color\":\"#2a3f5f\"},\"marker\":{\"line\":{\"color\":\"#E5ECF6\",\"width\":0.5},\"pattern\":{\"fillmode\":\"overlay\",\"size\":10,\"solidity\":0.2}},\"type\":\"bar\"}],\"scattergeo\":[{\"type\":\"scattergeo\",\"marker\":{\"colorbar\":{\"outlinewidth\":0,\"ticks\":\"\"}}}],\"scatterpolar\":[{\"type\":\"scatterpolar\",\"marker\":{\"colorbar\":{\"outlinewidth\":0,\"ticks\":\"\"}}}],\"histogram\":[{\"marker\":{\"pattern\":{\"fillmode\":\"overlay\",\"size\":10,\"solidity\":0.2}},\"type\":\"histogram\"}],\"scattergl\":[{\"type\":\"scattergl\",\"marker\":{\"colorbar\":{\"outlinewidth\":0,\"ticks\":\"\"}}}],\"scatter3d\":[{\"type\":\"scatter3d\",\"line\":{\"colorbar\":{\"outlinewidth\":0,\"ticks\":\"\"}},\"marker\":{\"colorbar\":{\"outlinewidth\":0,\"ticks\":\"\"}}}],\"scattermapbox\":[{\"type\":\"scattermapbox\",\"marker\":{\"colorbar\":{\"outlinewidth\":0,\"ticks\":\"\"}}}],\"scatterternary\":[{\"type\":\"scatterternary\",\"marker\":{\"colorbar\":{\"outlinewidth\":0,\"ticks\":\"\"}}}],\"scattercarpet\":[{\"type\":\"scattercarpet\",\"marker\":{\"colorbar\":{\"outlinewidth\":0,\"ticks\":\"\"}}}],\"carpet\":[{\"aaxis\":{\"endlinecolor\":\"#2a3f5f\",\"gridcolor\":\"white\",\"linecolor\":\"white\",\"minorgridcolor\":\"white\",\"startlinecolor\":\"#2a3f5f\"},\"baxis\":{\"endlinecolor\":\"#2a3f5f\",\"gridcolor\":\"white\",\"linecolor\":\"white\",\"minorgridcolor\":\"white\",\"startlinecolor\":\"#2a3f5f\"},\"type\":\"carpet\"}],\"table\":[{\"cells\":{\"fill\":{\"color\":\"#EBF0F8\"},\"line\":{\"color\":\"white\"}},\"header\":{\"fill\":{\"color\":\"#C8D4E3\"},\"line\":{\"color\":\"white\"}},\"type\":\"table\"}],\"barpolar\":[{\"marker\":{\"line\":{\"color\":\"#E5ECF6\",\"width\":0.5},\"pattern\":{\"fillmode\":\"overlay\",\"size\":10,\"solidity\":0.2}},\"type\":\"barpolar\"}],\"pie\":[{\"automargin\":true,\"type\":\"pie\"}]},\"layout\":{\"autotypenumbers\":\"strict\",\"colorway\":[\"#636efa\",\"#EF553B\",\"#00cc96\",\"#ab63fa\",\"#FFA15A\",\"#19d3f3\",\"#FF6692\",\"#B6E880\",\"#FF97FF\",\"#FECB52\"],\"font\":{\"color\":\"#2a3f5f\"},\"hovermode\":\"closest\",\"hoverlabel\":{\"align\":\"left\"},\"paper_bgcolor\":\"white\",\"plot_bgcolor\":\"#E5ECF6\",\"polar\":{\"bgcolor\":\"#E5ECF6\",\"angularaxis\":{\"gridcolor\":\"white\",\"linecolor\":\"white\",\"ticks\":\"\"},\"radialaxis\":{\"gridcolor\":\"white\",\"linecolor\":\"white\",\"ticks\":\"\"}},\"ternary\":{\"bgcolor\":\"#E5ECF6\",\"aaxis\":{\"gridcolor\":\"white\",\"linecolor\":\"white\",\"ticks\":\"\"},\"baxis\":{\"gridcolor\":\"white\",\"linecolor\":\"white\",\"ticks\":\"\"},\"caxis\":{\"gridcolor\":\"white\",\"linecolor\":\"white\",\"ticks\":\"\"}},\"coloraxis\":{\"colorbar\":{\"outlinewidth\":0,\"ticks\":\"\"}},\"colorscale\":{\"sequential\":[[0.0,\"#0d0887\"],[0.1111111111111111,\"#46039f\"],[0.2222222222222222,\"#7201a8\"],[0.3333333333333333,\"#9c179e\"],[0.4444444444444444,\"#bd3786\"],[0.5555555555555556,\"#d8576b\"],[0.6666666666666666,\"#ed7953\"],[0.7777777777777778,\"#fb9f3a\"],[0.8888888888888888,\"#fdca26\"],[1.0,\"#f0f921\"]],\"sequentialminus\":[[0.0,\"#0d0887\"],[0.1111111111111111,\"#46039f\"],[0.2222222222222222,\"#7201a8\"],[0.3333333333333333,\"#9c179e\"],[0.4444444444444444,\"#bd3786\"],[0.5555555555555556,\"#d8576b\"],[0.6666666666666666,\"#ed7953\"],[0.7777777777777778,\"#fb9f3a\"],[0.8888888888888888,\"#fdca26\"],[1.0,\"#f0f921\"]],\"diverging\":[[0,\"#8e0152\"],[0.1,\"#c51b7d\"],[0.2,\"#de77ae\"],[0.3,\"#f1b6da\"],[0.4,\"#fde0ef\"],[0.5,\"#f7f7f7\"],[0.6,\"#e6f5d0\"],[0.7,\"#b8e186\"],[0.8,\"#7fbc41\"],[0.9,\"#4d9221\"],[1,\"#276419\"]]},\"xaxis\":{\"gridcolor\":\"white\",\"linecolor\":\"white\",\"ticks\":\"\",\"title\":{\"standoff\":15},\"zerolinecolor\":\"white\",\"automargin\":true,\"zerolinewidth\":2},\"yaxis\":{\"gridcolor\":\"white\",\"linecolor\":\"white\",\"ticks\":\"\",\"title\":{\"standoff\":15},\"zerolinecolor\":\"white\",\"automargin\":true,\"zerolinewidth\":2},\"scene\":{\"xaxis\":{\"backgroundcolor\":\"#E5ECF6\",\"gridcolor\":\"white\",\"linecolor\":\"white\",\"showbackground\":true,\"ticks\":\"\",\"zerolinecolor\":\"white\",\"gridwidth\":2},\"yaxis\":{\"backgroundcolor\":\"#E5ECF6\",\"gridcolor\":\"white\",\"linecolor\":\"white\",\"showbackground\":true,\"ticks\":\"\",\"zerolinecolor\":\"white\",\"gridwidth\":2},\"zaxis\":{\"backgroundcolor\":\"#E5ECF6\",\"gridcolor\":\"white\",\"linecolor\":\"white\",\"showbackground\":true,\"ticks\":\"\",\"zerolinecolor\":\"white\",\"gridwidth\":2}},\"shapedefaults\":{\"line\":{\"color\":\"#2a3f5f\"}},\"annotationdefaults\":{\"arrowcolor\":\"#2a3f5f\",\"arrowhead\":0,\"arrowwidth\":1},\"geo\":{\"bgcolor\":\"white\",\"landcolor\":\"#E5ECF6\",\"subunitcolor\":\"white\",\"showland\":true,\"showlakes\":true,\"lakecolor\":\"white\"},\"title\":{\"x\":0.05},\"mapbox\":{\"style\":\"light\"}}},\"xaxis\":{\"anchor\":\"y\",\"domain\":[0.0,1.0],\"title\":{\"text\":\"index\"}},\"yaxis\":{\"anchor\":\"x\",\"domain\":[0.0,1.0],\"title\":{\"text\":\"value\"}},\"coloraxis\":{\"colorbar\":{\"title\":{\"text\":\"color\"}},\"colorscale\":[[0.0,\"#0d0887\"],[0.1111111111111111,\"#46039f\"],[0.2222222222222222,\"#7201a8\"],[0.3333333333333333,\"#9c179e\"],[0.4444444444444444,\"#bd3786\"],[0.5555555555555556,\"#d8576b\"],[0.6666666666666666,\"#ed7953\"],[0.7777777777777778,\"#fb9f3a\"],[0.8888888888888888,\"#fdca26\"],[1.0,\"#f0f921\"]]},\"legend\":{\"tracegroupgap\":0},\"margin\":{\"t\":60}},                        {\"responsive\": true}                    ).then(function(){\n",
       "                            \n",
       "var gd = document.getElementById('a9193087-037f-4ea3-a19b-b730a748b96d');\n",
       "var x = new MutationObserver(function (mutations, observer) {{\n",
       "        var display = window.getComputedStyle(gd).display;\n",
       "        if (!display || display === 'none') {{\n",
       "            console.log([gd, 'removed!']);\n",
       "            Plotly.purge(gd);\n",
       "            observer.disconnect();\n",
       "        }}\n",
       "}});\n",
       "\n",
       "// Listen for the removal of the full notebook cells\n",
       "var notebookContainer = gd.closest('#notebook-container');\n",
       "if (notebookContainer) {{\n",
       "    x.observe(notebookContainer, {childList: true});\n",
       "}}\n",
       "\n",
       "// Listen for the clearing of the current output cell\n",
       "var outputEl = gd.closest('.output');\n",
       "if (outputEl) {{\n",
       "    x.observe(outputEl, {childList: true});\n",
       "}}\n",
       "\n",
       "                        })                };                });            </script>        </div>"
      ]
     },
     "metadata": {},
     "output_type": "display_data"
    }
   ],
   "source": [
    "px.scatter(lev_similarity_1,\n",
    "    color=affprop.labels_)"
   ]
  },
  {
   "cell_type": "code",
   "execution_count": 104,
   "id": "3d0da3d5-6169-458c-a6f9-5ba9e9b3aca1",
   "metadata": {},
   "outputs": [
    {
     "data": {
      "text/html": [
       "<style>#sk-container-id-9 {color: black;background-color: white;}#sk-container-id-9 pre{padding: 0;}#sk-container-id-9 div.sk-toggleable {background-color: white;}#sk-container-id-9 label.sk-toggleable__label {cursor: pointer;display: block;width: 100%;margin-bottom: 0;padding: 0.3em;box-sizing: border-box;text-align: center;}#sk-container-id-9 label.sk-toggleable__label-arrow:before {content: \"▸\";float: left;margin-right: 0.25em;color: #696969;}#sk-container-id-9 label.sk-toggleable__label-arrow:hover:before {color: black;}#sk-container-id-9 div.sk-estimator:hover label.sk-toggleable__label-arrow:before {color: black;}#sk-container-id-9 div.sk-toggleable__content {max-height: 0;max-width: 0;overflow: hidden;text-align: left;background-color: #f0f8ff;}#sk-container-id-9 div.sk-toggleable__content pre {margin: 0.2em;color: black;border-radius: 0.25em;background-color: #f0f8ff;}#sk-container-id-9 input.sk-toggleable__control:checked~div.sk-toggleable__content {max-height: 200px;max-width: 100%;overflow: auto;}#sk-container-id-9 input.sk-toggleable__control:checked~label.sk-toggleable__label-arrow:before {content: \"▾\";}#sk-container-id-9 div.sk-estimator input.sk-toggleable__control:checked~label.sk-toggleable__label {background-color: #d4ebff;}#sk-container-id-9 div.sk-label input.sk-toggleable__control:checked~label.sk-toggleable__label {background-color: #d4ebff;}#sk-container-id-9 input.sk-hidden--visually {border: 0;clip: rect(1px 1px 1px 1px);clip: rect(1px, 1px, 1px, 1px);height: 1px;margin: -1px;overflow: hidden;padding: 0;position: absolute;width: 1px;}#sk-container-id-9 div.sk-estimator {font-family: monospace;background-color: #f0f8ff;border: 1px dotted black;border-radius: 0.25em;box-sizing: border-box;margin-bottom: 0.5em;}#sk-container-id-9 div.sk-estimator:hover {background-color: #d4ebff;}#sk-container-id-9 div.sk-parallel-item::after {content: \"\";width: 100%;border-bottom: 1px solid gray;flex-grow: 1;}#sk-container-id-9 div.sk-label:hover label.sk-toggleable__label {background-color: #d4ebff;}#sk-container-id-9 div.sk-serial::before {content: \"\";position: absolute;border-left: 1px solid gray;box-sizing: border-box;top: 0;bottom: 0;left: 50%;z-index: 0;}#sk-container-id-9 div.sk-serial {display: flex;flex-direction: column;align-items: center;background-color: white;padding-right: 0.2em;padding-left: 0.2em;position: relative;}#sk-container-id-9 div.sk-item {position: relative;z-index: 1;}#sk-container-id-9 div.sk-parallel {display: flex;align-items: stretch;justify-content: center;background-color: white;position: relative;}#sk-container-id-9 div.sk-item::before, #sk-container-id-9 div.sk-parallel-item::before {content: \"\";position: absolute;border-left: 1px solid gray;box-sizing: border-box;top: 0;bottom: 0;left: 50%;z-index: -1;}#sk-container-id-9 div.sk-parallel-item {display: flex;flex-direction: column;z-index: 1;position: relative;background-color: white;}#sk-container-id-9 div.sk-parallel-item:first-child::after {align-self: flex-end;width: 50%;}#sk-container-id-9 div.sk-parallel-item:last-child::after {align-self: flex-start;width: 50%;}#sk-container-id-9 div.sk-parallel-item:only-child::after {width: 0;}#sk-container-id-9 div.sk-dashed-wrapped {border: 1px dashed gray;margin: 0 0.4em 0.5em 0.4em;box-sizing: border-box;padding-bottom: 0.4em;background-color: white;}#sk-container-id-9 div.sk-label label {font-family: monospace;font-weight: bold;display: inline-block;line-height: 1.2em;}#sk-container-id-9 div.sk-label-container {text-align: center;}#sk-container-id-9 div.sk-container {/* jupyter's `normalize.less` sets `[hidden] { display: none; }` but bootstrap.min.css set `[hidden] { display: none !important; }` so we also need the `!important` here to be able to override the default hidden behavior on the sphinx rendered scikit-learn.org. See: https://github.com/scikit-learn/scikit-learn/issues/21755 */display: inline-block !important;position: relative;}#sk-container-id-9 div.sk-text-repr-fallback {display: none;}</style><div id=\"sk-container-id-9\" class=\"sk-top-container\"><div class=\"sk-text-repr-fallback\"><pre>AffinityPropagation(affinity=&#x27;precomputed&#x27;)</pre><b>In a Jupyter environment, please rerun this cell to show the HTML representation or trust the notebook. <br />On GitHub, the HTML representation is unable to render, please try loading this page with nbviewer.org.</b></div><div class=\"sk-container\" hidden><div class=\"sk-item\"><div class=\"sk-estimator sk-toggleable\"><input class=\"sk-toggleable__control sk-hidden--visually\" id=\"sk-estimator-id-9\" type=\"checkbox\" checked><label for=\"sk-estimator-id-9\" class=\"sk-toggleable__label sk-toggleable__label-arrow\">AffinityPropagation</label><div class=\"sk-toggleable__content\"><pre>AffinityPropagation(affinity=&#x27;precomputed&#x27;)</pre></div></div></div></div></div>"
      ],
      "text/plain": [
       "AffinityPropagation(affinity='precomputed')"
      ]
     },
     "execution_count": 104,
     "metadata": {},
     "output_type": "execute_result"
    }
   ],
   "source": [
    "import numpy as np\n",
    "from sklearn.cluster import AffinityPropagation\n",
    "import distance\n",
    "    \n",
    "#words = \"pies zjadl kota na sniadanie a kot zjadal psa\".split(\" \")\n",
    "words= df.loc[df['PRZYCZYNA REKLAMACJI'].notnull()]['PRZYCZYNA REKLAMACJI'].unique()\n",
    "words = np.asarray(words) #So that indexing with a list will work\n",
    "#words=[''.join(filter(str.isalnum, i)) for i in words]\n",
    "import re\n",
    "words=[re.sub(r'[^a-zA-Z\\d\\s:]', '', i) for i in words]\n",
    "words = np.asarray(words)\n",
    "lev_similarity = -1*np.array([[distance.levenshtein(w1,w2) for w1 in words] for w2 in words])#words])\n",
    "\n",
    "affprop = AffinityPropagation(affinity=\"precomputed\", damping=0.5)\n",
    "affprop.fit(lev_similarity)"
   ]
  },
  {
   "cell_type": "code",
   "execution_count": 106,
   "id": "76871c65-89c9-459e-93e8-ce7022b1cdb5",
   "metadata": {},
   "outputs": [
    {
     "name": "stdout",
     "output_type": "stream",
     "text": [
      " - *wymiana:* lamowka || niewymiarowa || odcien || wybrakowna || wymiana || wymiana  || wymiana na 56 || wymiar || wymiar flexy || wymiary || wysokosc || wystajaca nitka || zarysowany || zwrotwymiana\n",
      " - *wymiana i zwrot:* korekta bez zwrotu || priorytetowy zwrot || wymiana i zwrot || wymiana kolorystyczna || wymiana na 379753 || wymiana przelotek\n",
      " - *zwrot sprawdzic czy jest krzywa:* zwrot sprawdzic czy jest krzywa\n",
      " - *naprawa szwalnia:* do sprawdzenia tkanina || naprawa szwalnia || naprawa szwalniarolety || naprawa zwrot || naprawaszwalnia\n",
      " - *blad na stronie opisane jako z gumka:* blad na stronie opisane jako z gumka\n",
      " - *wadliwe kwiaty:* farbujace produkty || towar innego klienta || wadliwe firany || wadliwe kwiaty || wadliwe przelotki || wadliwy zegar || za dlugie do poprawy || zzolkniete kwiaty\n",
      " - *uszkodzony nadruk na zaslonach:* uszkodzony nadruk na zaslonach\n",
      " - *material wychodzi spod przelotek:* material wychodzi spod przelotek\n",
      " - *zaslony w dwoch kolorach:* zaslony w dwoch kolorach\n",
      " - *uszkodzony swiecznik od naklejki:* uszkodzony swiecznik od naklejki\n",
      " - *2 szt do zwrotu srodkow i 1 szt oddac na pracownie po reklamacji:* 2 szt do zwrotu srodkow i 1 szt oddac na pracownie po reklamacji\n",
      " - *zly wymiar  w zam: 256 cm:* zly wymiar  w zam: 256 cm\n",
      " - *zly wymiar posciel po wymianie:* zly wymiar posciel po wymianie\n",
      " - *dziura w poszewie:* dziura w poszewie || dziura w zaslonie || dziurki w poszewce || dziurki w poszwie || odpryski powietrze || rozpruta na szwie\n",
      " - *zle uszyte firany szyjemy z innej tkaniny:* zle uszyte firany szyjemy z innej tkaniny\n",
      " - *sprawdzic wymiar zmienic wkladke na tia:* sprawdzic wymiar zmienic wkladke na tia\n",
      " - *plamy na zaslonie:* plama na poszwie || plamy na zaslonach || plamy na zaslonie\n",
      " - *zwrot drugiej sztuki korekta na 2 sztuki dokument marzena:* zwrot drugiej sztuki korekta na 2 sztuki dokument marzena\n",
      " - *zle skrocone:* brak skrocenia || nie rowne || nie skrocone || wlosie zle ulozone || wzor odklejony || zle skrocona || zle skrocone || zle wykonana || zle zamowienie\n",
      " - *odbarwiona posciel:* niekompletna posciel || odbarwienie poscieli || odbarwiona posciel || skurczyla sie posciel || uszkodzona posciel || zle skrocona posciel\n",
      " - *plamy:* blad  || blad beaty || feller || p0056259776 || pasy || plama || plama  || plamy || plamy  || plamyzwrot || plmay || pomylka || pyla sie || pyla sie  || rolety || skazy\n",
      " - *nie dziala:* nie da sie wyprasowac || nie dziala || nie dzialaja  || nie dzialajacy mechanizm || nie dzialal || nie wymiarowa || nie zaciemniaja  || niedomalowany || zegar nie dziala\n",
      " - *brak mozliwosci chwycenia na zabke:* brak mozliwosci chwycenia na zabke\n",
      " - *pasy od deski:* bable odpryski || pasy od deski || pasy po praniu || pasy pod swiatlo\n",
      " - *dobrac firany do struktury  skrocenie :* dobrac firany do struktury  skrocenie \n",
      " - *dobrac kolorystycznie 4 szt do ciemniejszych:* dobrac kolorystycznie 4 szt do ciemniejszych\n",
      " - *blad na stronie:* blad na stornie || blad na stronie || blad na stronie  || oddac na pracownie || zly opis na stronie || zwrot za pobraniem\n",
      " - *nierowne firany:* dziurawe firany || nierowne firany || nierowne zaslony || rozjechane boki tacy || urwane diamenty\n",
      " - *dziura:* dziura || dziurawa || dziurka || dziurki || dziury || kolor    || kolor  dziurka || rozdarcie || rozpruta || smierdza || zosia\n",
      " - *wady na materiale sprawdzic skrocenie:* wady na materiale sprawdzic skrocenie\n",
      " - *anulowano zamowienie i go wyslano:* anulowano zamowienie i go wyslano\n",
      " - *zly rozmiar:* blad w rozmiarze || bledny rozmiar || bledny wymiar || rozmiar || wadyzly rozmiar || zla srednica abazura || zly produkt || zly rozmiar || zly rozmiar firan || zly wymiar\n",
      " - *porownac wzor z towarem z magazynu u ewy 0203:* porownac wzor z towarem z magazynu u ewy 0203\n",
      " - *inny kolor:* dobrac kolor || inne kolory firan || inne kolory swiecznikow || inny kolor || inny kolor zaslon || inny odcien || niezgodnosc koloru || rozne kolory || zagnieciony welur || zly kolor\n",
      " - *blad na aukcji:* blad na  aukcji || blad na allegro || blad na auckji || blad na aukcji || blad wzoru  || odpadaja cekiny || wyblakly nadruk || wyslano pomimo anulacji\n",
      " - *zepsute zamki:* zepsute przelotki || zepsute zamki || zepsuty zamek\n",
      " - *dobrac kolorystycznie 4 szt   :* dobrac kolorystycznie 4 szt   \n",
      " - *zwrot  druga zaslona u marzeny b :* zwrot  druga zaslona u marzeny b \n",
      " - *krzywa:* brzydkie || kolorystyka || kolorytsyka || krzywa || krzywa posciel || krzywa rama || krzywe || krzywe boki || krzywe zaslony || krzywy || krzywy zegar || przetarcia || szyte\n",
      " - *nie srocona dolozyc gratis :* nie srocona dolozyc gratis \n",
      " - *zaciagnieta:* 23000000187070 || odbarwienia || zaciagniecia || zaciagniecia  || zaciagniecia w materiale || zaciagniecie || zaciagnieta || zaciagnieta firana || zaciagnieta posciel || zaciagniete || zaciagniety || zasciagniete\n",
      " - *uszkodzona rama:* uszkodzona gipiura || uszkodzona kula || uszkodzona lamowka bieznika || uszkodzona rama || uszkodzona roleta || uszkodzona tasma || uszkodzone falbanki || uszkodzone opakowanie || uszkodzone siedziska || uszkodzone zamki || uszkodzony mechanizm || uszkodzony zegar || uszyto ze zlej tkaniny\n",
      " - *uszkodzona:* przypalona || uszczerbiona || uszczerbione || uszkodzenia || uszkodzeniazwrot || uszkodzenie || uszkodzona || uszkodzone || uszkodzony\n",
      " - *mechaca sie :* klaczace sie koce || kulkuje sie  || mechaca sie  || mechaci sie || mechanizm || skorczyla sie  || zmechacona \n",
      " - *sprawdzic wysokosc:* sprawdzic kolorystyke || sprawdzic plamy || sprawdzic tasme uszkodzona || sprawdzic wysokosc || sprawdzic wysokosci\n",
      " - *oddac na szwalnie do rozliczenia:* oddac na szwalnie do rozliczenia\n",
      " - *zle uszyta:* zle szyta || zle uszyta || zle uszyta  za krotka || zle uszyte || zle wzor || zle zszyta\n",
      " - *kolor nie pasuje:* bylo nowe szycie || kolor nie pasuje || kolor niezgodny || polecenie aneta rajda || ukruszone lustro || zegar nie chodzi\n",
      " - *zle wyslany towar:* blednie wyslany towar || zle wydany towar || zle wyslana zaslona || zle wyslany towar || zwrotfelerwyslano nowe\n",
      " - *wady materialu:* nie pasuje material || plamy material uszkodzony || uszyte z zlego materialu || wada materialu || wady materialu || wady na szwach\n",
      " - *wada:* brudna || farbi || kolor || nadruk || skaza || spadaja || wada || wadazwrot || wadliwa || wadliwe || wadliwy || wady || za male || zapach || zwrot\n",
      " - *uszodzone przy przelotkach:* uszodzone przy przelotkach || wady przy przelotkach\n",
      " - *uszkodzone przelotki  druga reklamacja:* uszkodzone przelotki  druga reklamacja\n",
      " - *zla dlugosc:* rozne dlugosci || za dluga || za dluga  sprawdzic || za dlugie   || zla dlugosc || zla wysokosc\n",
      " - *zly kolorblad na stronie:* inny kolor niz na stronie || zly kolorblad na stronie\n",
      " - *za krotkie:* brak przelotki || do porownania || wada produktu || za krotka || za krotkie || za krotkie  || zwrotfeler\n",
      " - *zla tasma:* pofalowana tasma || przeszyta tasma || reklamacja  || wadliwa tasma || zegar owalny || zla tasma || zla tkanina || zle wszyta tasma\n",
      " - *zle zszytaboki unosza sie do gory :* zle zszytaboki unosza sie do gory \n"
     ]
    }
   ],
   "source": [
    "df_affprop=pd.DataFrame(columns=['ile_dopasowalo','tekst1','tekst2'])\n",
    "for cluster_id in np.unique(affprop.labels_):\n",
    "    try:\n",
    "        exemplar = words[affprop.cluster_centers_indices_[cluster_id]]\n",
    "        #cluster = np.unique(words[np.nonzero(affprop.labels_==cluster_id)])\n",
    "        cluster = np.unique(words[np.nonzero(affprop.labels_==cluster_id)])\n",
    "        cluster_str = \" || \".join(cluster)\n",
    "        df_affprop=df_affprop.append({'ile_dopasowalo':len(cluster)-1,\n",
    "                                    'tekst1':exemplar,\n",
    "                                     'tekst2':cluster_str},\n",
    "                                    ignore_index=True)\n",
    "        print(\" - *%s:* %s\" % (exemplar, cluster_str))\n",
    "    except:\n",
    "        print(exemplar, cluster_str)"
   ]
  },
  {
   "cell_type": "code",
   "execution_count": 107,
   "id": "aa37e96e-6473-4466-baa3-156246efab2a",
   "metadata": {},
   "outputs": [],
   "source": [
    "df_affprop.to_excel(path_to_catalog+'affprop.xlsx')"
   ]
  },
  {
   "cell_type": "code",
   "execution_count": 74,
   "id": "a9ddf37a-eb89-4f16-80e3-f48c35990ace",
   "metadata": {},
   "outputs": [
    {
     "name": "stdout",
     "output_type": "stream",
     "text": [
      " - *zaslony:* calosc, narzuty, ozdoby, szyte zaslony, wazon, zas/katie, zaslona, zaslony, zaslony \n"
     ]
    }
   ],
   "source": [
    "exemplar = words[affprop.cluster_centers_indices_[1]]\n",
    "cluster = np.unique(words[np.nonzero(affprop.labels_==1)])\n",
    "cluster_str = \", \".join(cluster)\n",
    "print(\" - *%s:* %s\" % (exemplar, cluster_str))"
   ]
  },
  {
   "cell_type": "code",
   "execution_count": 50,
   "id": "7bbf668a-998f-4f00-b86d-fd02519f4ceb",
   "metadata": {},
   "outputs": [
    {
     "data": {
      "text/plain": [
       "array([[  0, -29,  -9, ..., -10, -13, -11],\n",
       "       [-29,   0, -30, ..., -27, -26, -29],\n",
       "       [ -9, -30,   0, ...,  -9, -12, -10],\n",
       "       ...,\n",
       "       [-10, -27,  -9, ...,   0, -12, -10],\n",
       "       [-13, -26, -12, ..., -12,   0, -13],\n",
       "       [-11, -29, -10, ..., -10, -13,   0]])"
      ]
     },
     "execution_count": 50,
     "metadata": {},
     "output_type": "execute_result"
    }
   ],
   "source": [
    "lev_similarity"
   ]
  },
  {
   "cell_type": "code",
   "execution_count": 75,
   "id": "e2c5a68a-6d9f-4478-8c53-12fbebc7087a",
   "metadata": {},
   "outputs": [
    {
     "data": {
      "text/plain": [
       "'zaslony'"
      ]
     },
     "execution_count": 75,
     "metadata": {},
     "output_type": "execute_result"
    }
   ],
   "source": [
    "exemplar"
   ]
  },
  {
   "cell_type": "code",
   "execution_count": 76,
   "id": "fbc8827d-9b18-4a6e-9774-98767d86597f",
   "metadata": {},
   "outputs": [
    {
     "data": {
      "text/plain": [
       "array(['calosc', 'narzuty', 'ozdoby', 'szyte zaslony', 'wazon',\n",
       "       'zas/katie', 'zaslona', 'zaslony', 'zaslony '], dtype=object)"
      ]
     },
     "execution_count": 76,
     "metadata": {},
     "output_type": "execute_result"
    }
   ],
   "source": [
    "cluster"
   ]
  },
  {
   "cell_type": "code",
   "execution_count": 14,
   "id": "3a182449-0631-4c7d-9120-e5fbb1aadc54",
   "metadata": {},
   "outputs": [],
   "source": [
    "s= ['Series Name Part 1 This/ is the chapter name',\n",
    " 'Series Name Part 2 Another name with the word chapter and extra oc at the start',\n",
    " \"Series Name part 3 punctuation could be not matching so we can't always trust common substrings\",\n",
    " 'Another cool story Part I This is the chapter name',\n",
    " 'another cool story part II another post title',\n",
    " 'another cool story part III but the author forgot delimiters',\n",
    " \"this is a one off story so it doesn't have any friends\"]"
   ]
  },
  {
   "cell_type": "code",
   "execution_count": 22,
   "id": "722ea69c-92cf-4189-89f6-41ac52be271a",
   "metadata": {},
   "outputs": [],
   "source": [
    "s=df.loc[df['PRZYCZYNA REKLAMACJI'].notnull()]['PRZYCZYNA REKLAMACJI'].unique()"
   ]
  },
  {
   "cell_type": "code",
   "execution_count": 151,
   "id": "57198f5e-4631-4759-8340-a8de1c76d3be",
   "metadata": {},
   "outputs": [],
   "source": [
    "from nltk.tokenize import RegexpTokenizer\n",
    "\n",
    "tokenizer = RegexpTokenizer(r'\\w+') # only alphanumeric characters\n",
    "\n",
    "lol_tokenized = []\n",
    "for title in s:\n",
    "    lol_tokenized.append(tokenizer.tokenize(title))\n",
    "    \n",
    "lol_tokenized=np.unique(lol_tokenized)"
   ]
  },
  {
   "cell_type": "code",
   "execution_count": 152,
   "id": "0f2157f8-7566-41fb-8148-5205e98992d3",
   "metadata": {
    "tags": []
   },
   "outputs": [],
   "source": [
    "import numpy as np \n",
    "from gensim.models import Word2Vec\n",
    "\n",
    "m = Word2Vec(lol_tokenized, vector_size=50, min_count=1,cbow_mean=1)  \n",
    "\n",
    "\n",
    "def vectorizer(sent,m): \n",
    "    vec = [] \n",
    "    numw = 0 \n",
    "    for w in sent: \n",
    "        try: \n",
    "            if numw == 0: \n",
    "                vec = m.wv[w].reshape((1, 50))\n",
    "            else: \n",
    "                vec = np.add(vec, m.wv[w].reshape((1, -1))) \n",
    "            numw += 1 \n",
    "        except Exception as e: \n",
    "            print(e) \n",
    "    return np.asarray(vec) / numw \n",
    "\n",
    "#vectorizer(lol_tokenized[0],m)\n",
    "l = []\n",
    "for i in lol_tokenized:\n",
    "    try:\n",
    "        l.append(vectorizer(i,m)[0])\n",
    "    except: continue\n",
    "\n",
    "X = np.array(l)"
   ]
  },
  {
   "cell_type": "code",
   "execution_count": 157,
   "id": "7ff7d0a8-ace9-4baf-8a88-389764bc3dc1",
   "metadata": {
    "tags": []
   },
   "outputs": [
    {
     "name": "stdout",
     "output_type": "stream",
     "text": [
      "[47 16 47 13 32 32 47 47 47 47 47 47 13 32 47 44 49 47  7 47 26 31 15 47\n",
      " 47 47 26 26 26 13 13 13 26 30 47  4  4  4 23 26 25  1 13 13 11 47 11  5\n",
      " 31 11 11 19 11 15  8 25 22 24 22  9  9  9 13  2 31 42 47 31 31 14 14 15\n",
      " 15 45 31 19 19 19 19 19 19 19 13 19 19 13 49 13  9 25 14 35 47 49  5 47\n",
      " 47  5 47  5 25 25 25 25  0 47 10 10 10 10 10 18  7 47  6 47 45  7  5  5\n",
      " 31 20  2  5 47 44  2 15 48 47 17  5 31 49 43  4 16 10 16 47 16 16 28 47\n",
      " 26 19  5 40 19 45  8  3  3 16 12 24  3  3  3 39 39 39  8 39 39 14 14 14\n",
      " 47 14 13 15 47 29 29 29 29 30  7 30 30  5 30 37 37 44 15 47 47 15 44  1\n",
      " 14 34 12 12 12 12 12 12 49 49 36 26 21 25 47 41 41 41 41 13 41 41 33 13\n",
      " 14 47 47 49 38 25 25 14 46  5 13  2  2  2  7  5 26 47  2  7 47 47  1  1\n",
      "  1  1  1 13  1 47  7  1  1 47 47  1  1  1 47 11 47 47  8 44  8 49 49 47\n",
      " 27 41 45 47 47 45 45 47 12 45  5]\n"
     ]
    }
   ],
   "source": [
    "from sklearn.cluster import KMeans\n",
    "\n",
    "df_kmeans=pd.DataFrame(columns=['label','tekst'])\n",
    "\n",
    "clf = KMeans(n_clusters=50,init='k-means++',n_init=100,random_state=0)\n",
    "labels = clf.fit_predict(X)\n",
    "print(labels)\n",
    "for index, sentence in enumerate(lol_tokenized):\n",
    "    #print(str(labels[index]) + \":\" + str(sentence))\n",
    "    df_kmeans=df_kmeans.append({'label':labels[index],\n",
    "                               'tekst':' '.join(sentence)},\n",
    "                              ignore_index=True)"
   ]
  },
  {
   "cell_type": "code",
   "execution_count": 158,
   "id": "e10070f3-d538-4daa-a9d5-912e7f6f203d",
   "metadata": {},
   "outputs": [],
   "source": [
    "df_kmeans=df_kmeans.merge(df_kmeans.groupby('label').agg(ile_wystapien=('tekst','count')).reset_index(),\n",
    "                how='inner', on='label')"
   ]
  },
  {
   "cell_type": "code",
   "execution_count": 159,
   "id": "4c0b1843-eba9-4035-80e4-de486c5a0c84",
   "metadata": {},
   "outputs": [],
   "source": [
    "df_kmeans.to_excel(path_to_catalog+'kmeans.xlsx')"
   ]
  },
  {
   "cell_type": "code",
   "execution_count": 144,
   "id": "5cd8ffd1-8a0d-4137-b081-d483f8fb130c",
   "metadata": {},
   "outputs": [
    {
     "data": {
      "text/html": [
       "<div>\n",
       "<style scoped>\n",
       "    .dataframe tbody tr th:only-of-type {\n",
       "        vertical-align: middle;\n",
       "    }\n",
       "\n",
       "    .dataframe tbody tr th {\n",
       "        vertical-align: top;\n",
       "    }\n",
       "\n",
       "    .dataframe thead th {\n",
       "        text-align: right;\n",
       "    }\n",
       "</style>\n",
       "<table border=\"1\" class=\"dataframe\">\n",
       "  <thead>\n",
       "    <tr style=\"text-align: right;\">\n",
       "      <th></th>\n",
       "      <th>label</th>\n",
       "      <th>tekst</th>\n",
       "    </tr>\n",
       "  </thead>\n",
       "  <tbody>\n",
       "    <tr>\n",
       "      <th>109</th>\n",
       "      <td>10</td>\n",
       "      <td>zaciagniecia</td>\n",
       "    </tr>\n",
       "    <tr>\n",
       "      <th>152</th>\n",
       "      <td>10</td>\n",
       "      <td>zaciagniecia</td>\n",
       "    </tr>\n",
       "  </tbody>\n",
       "</table>\n",
       "</div>"
      ],
      "text/plain": [
       "    label         tekst\n",
       "109    10  zaciagniecia\n",
       "152    10  zaciagniecia"
      ]
     },
     "execution_count": 144,
     "metadata": {},
     "output_type": "execute_result"
    }
   ],
   "source": [
    "df_kmeans.loc[df_kmeans['label']==10]"
   ]
  },
  {
   "cell_type": "code",
   "execution_count": 166,
   "id": "54d89f99-f06f-4cc0-864e-3f82ed0961f6",
   "metadata": {},
   "outputs": [
    {
     "data": {
      "text/html": [
       "<div>\n",
       "<style scoped>\n",
       "    .dataframe tbody tr th:only-of-type {\n",
       "        vertical-align: middle;\n",
       "    }\n",
       "\n",
       "    .dataframe tbody tr th {\n",
       "        vertical-align: top;\n",
       "    }\n",
       "\n",
       "    .dataframe thead th {\n",
       "        text-align: right;\n",
       "    }\n",
       "</style>\n",
       "<table border=\"1\" class=\"dataframe\">\n",
       "  <thead>\n",
       "    <tr style=\"text-align: right;\">\n",
       "      <th></th>\n",
       "      <th>PRODUKT</th>\n",
       "    </tr>\n",
       "    <tr>\n",
       "      <th>PRZYCZYNA REKLAMACJI</th>\n",
       "      <th></th>\n",
       "    </tr>\n",
       "  </thead>\n",
       "  <tbody>\n",
       "    <tr>\n",
       "      <th>zwrot</th>\n",
       "      <td>31</td>\n",
       "    </tr>\n",
       "    <tr>\n",
       "      <th>blad na stronie</th>\n",
       "      <td>20</td>\n",
       "    </tr>\n",
       "    <tr>\n",
       "      <th>zly wymiar</th>\n",
       "      <td>13</td>\n",
       "    </tr>\n",
       "    <tr>\n",
       "      <th>inny kolor niz na stronie</th>\n",
       "      <td>11</td>\n",
       "    </tr>\n",
       "    <tr>\n",
       "      <th>naprawa/szwalnia</th>\n",
       "      <td>10</td>\n",
       "    </tr>\n",
       "    <tr>\n",
       "      <th>...</th>\n",
       "      <td>...</td>\n",
       "    </tr>\n",
       "    <tr>\n",
       "      <th>plamy/ material uszkodzony</th>\n",
       "      <td>1</td>\n",
       "    </tr>\n",
       "    <tr>\n",
       "      <th>plamy/zwrot</th>\n",
       "      <td>1</td>\n",
       "    </tr>\n",
       "    <tr>\n",
       "      <th>plamy?</th>\n",
       "      <td>1</td>\n",
       "    </tr>\n",
       "    <tr>\n",
       "      <th>plmay</th>\n",
       "      <td>1</td>\n",
       "    </tr>\n",
       "    <tr>\n",
       "      <th>zzolkniete kwiaty</th>\n",
       "      <td>1</td>\n",
       "    </tr>\n",
       "  </tbody>\n",
       "</table>\n",
       "<p>287 rows × 1 columns</p>\n",
       "</div>"
      ],
      "text/plain": [
       "                            PRODUKT\n",
       "PRZYCZYNA REKLAMACJI               \n",
       "zwrot                            31\n",
       "blad na stronie                  20\n",
       "zly wymiar                       13\n",
       "inny kolor niz na stronie        11\n",
       "naprawa/szwalnia                 10\n",
       "...                             ...\n",
       "plamy/ material uszkodzony        1\n",
       "plamy/zwrot                       1\n",
       "plamy?                            1\n",
       "plmay                             1\n",
       "zzolkniete kwiaty                 1\n",
       "\n",
       "[287 rows x 1 columns]"
      ]
     },
     "execution_count": 166,
     "metadata": {},
     "output_type": "execute_result"
    }
   ],
   "source": [
    "df.groupby('PRZYCZYNA REKLAMACJI').agg({'PRODUKT':'count'}).sort_values(by='PRODUKT', ascending=False)#/len(df)*100"
   ]
  },
  {
   "cell_type": "code",
   "execution_count": 169,
   "id": "2ce6fb80-765b-4006-806e-3942950f57e3",
   "metadata": {},
   "outputs": [
    {
     "data": {
      "text/html": [
       "<div>\n",
       "<style scoped>\n",
       "    .dataframe tbody tr th:only-of-type {\n",
       "        vertical-align: middle;\n",
       "    }\n",
       "\n",
       "    .dataframe tbody tr th {\n",
       "        vertical-align: top;\n",
       "    }\n",
       "\n",
       "    .dataframe thead th {\n",
       "        text-align: right;\n",
       "    }\n",
       "</style>\n",
       "<table border=\"1\" class=\"dataframe\">\n",
       "  <thead>\n",
       "    <tr style=\"text-align: right;\">\n",
       "      <th></th>\n",
       "      <th>Unnamed: 0</th>\n",
       "      <th>Eurofirany/ ALLEGRO</th>\n",
       "      <th>IMIĘ I NAZWISKO</th>\n",
       "      <th>PRZYCZYNA REKLAMACJI</th>\n",
       "      <th>PRODUKT</th>\n",
       "      <th>ZWROT GOTÓWKI</th>\n",
       "      <th>ROZWIĄZANIE</th>\n",
       "      <th>KLIENT POINFORMOWANY</th>\n",
       "      <th>WYSŁANO</th>\n",
       "      <th>DATA I NR. KOREKTY</th>\n",
       "      <th>UWAGI</th>\n",
       "      <th>DATA PRZYJĘCIA</th>\n",
       "      <th>OS. PRZYJMUJĄCA REKLAMACJĘ</th>\n",
       "      <th>NUMER ZLECENIA</th>\n",
       "      <th>E-MAIL</th>\n",
       "      <th>Unnamed: 15</th>\n",
       "      <th>Unnamed: 16</th>\n",
       "      <th>produkt_2</th>\n",
       "    </tr>\n",
       "  </thead>\n",
       "  <tbody>\n",
       "    <tr>\n",
       "      <th>381</th>\n",
       "      <td>NaN</td>\n",
       "      <td>NaN</td>\n",
       "      <td>Katarzyna Stępniewska</td>\n",
       "      <td>pomylka</td>\n",
       "      <td>towar</td>\n",
       "      <td>NaN</td>\n",
       "      <td>POMYŁKA</td>\n",
       "      <td>TAK</td>\n",
       "      <td>04.05.2022 MB</td>\n",
       "      <td>06.05 EWA</td>\n",
       "      <td>NADAĆ KURIERA PO ODBIÓR 05.05.2022 Katarzyna S...</td>\n",
       "      <td>2022-05-04 00:00:00</td>\n",
       "      <td>MB</td>\n",
       "      <td>43899406289.0</td>\n",
       "      <td>TEL: 732916276</td>\n",
       "      <td>NaN</td>\n",
       "      <td>NaN</td>\n",
       "      <td>TOWAR</td>\n",
       "    </tr>\n",
       "  </tbody>\n",
       "</table>\n",
       "</div>"
      ],
      "text/plain": [
       "    Unnamed: 0 Eurofirany/ ALLEGRO        IMIĘ I NAZWISKO  \\\n",
       "381        NaN                 NaN  Katarzyna Stępniewska   \n",
       "\n",
       "    PRZYCZYNA REKLAMACJI PRODUKT ZWROT GOTÓWKI ROZWIĄZANIE  \\\n",
       "381              pomylka   towar           NaN     POMYŁKA   \n",
       "\n",
       "    KLIENT POINFORMOWANY        WYSŁANO DATA I NR. KOREKTY  \\\n",
       "381                  TAK  04.05.2022 MB          06.05 EWA   \n",
       "\n",
       "                                                 UWAGI       DATA PRZYJĘCIA  \\\n",
       "381  NADAĆ KURIERA PO ODBIÓR 05.05.2022 Katarzyna S...  2022-05-04 00:00:00   \n",
       "\n",
       "    OS. PRZYJMUJĄCA REKLAMACJĘ NUMER ZLECENIA          E-MAIL  Unnamed: 15  \\\n",
       "381                         MB  43899406289.0  TEL: 732916276          NaN   \n",
       "\n",
       "    Unnamed: 16 produkt_2  \n",
       "381         NaN     TOWAR  "
      ]
     },
     "execution_count": 169,
     "metadata": {},
     "output_type": "execute_result"
    }
   ],
   "source": [
    "df.loc[df['Unnamed: 0'].isna()]"
   ]
  },
  {
   "cell_type": "code",
   "execution_count": null,
   "id": "d2f38fa7-14ca-4fc9-b8c1-f7ba2b52835e",
   "metadata": {},
   "outputs": [],
   "source": []
  }
 ],
 "metadata": {
  "kernelspec": {
   "display_name": "Python 3 (ipykernel)",
   "language": "python",
   "name": "python3"
  },
  "language_info": {
   "codemirror_mode": {
    "name": "ipython",
    "version": 3
   },
   "file_extension": ".py",
   "mimetype": "text/x-python",
   "name": "python",
   "nbconvert_exporter": "python",
   "pygments_lexer": "ipython3",
   "version": "3.9.13"
  }
 },
 "nbformat": 4,
 "nbformat_minor": 5
}
