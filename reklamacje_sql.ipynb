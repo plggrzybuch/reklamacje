{
 "cells": [
  {
   "cell_type": "code",
   "execution_count": 1,
   "id": "ce79c621-216b-4391-87a1-3001ef7d6723",
   "metadata": {},
   "outputs": [],
   "source": [
    "import pandas as pd\n",
    "pd.set_option('display.max_columns', None)\n",
    "\n",
    "import plotly.express as px\n",
    "import plotly.graph_objects as go\n",
    "from datetime import datetime\n",
    "import numpy as np\n",
    "import missingno as msno\n",
    "import matplotlib.pyplot as plt\n",
    "import seaborn as sns\n",
    "from tqdm import tqdm\n",
    "import warnings\n",
    "warnings.filterwarnings(\"ignore\")\n",
    "\n",
    "sns.set(rc={'figure.figsize':(15,8)})\n",
    "\n",
    "path_to_catalog=r'C:\\Users\\kgrzebien\\Desktop\\python_tasks\\reklamacje\\\\'\n"
   ]
  },
  {
   "cell_type": "code",
   "execution_count": 229,
   "id": "64b0f2fb-9ef0-4761-b39c-069bbf6a0899",
   "metadata": {},
   "outputs": [],
   "source": [
    "def func_read_data(path):\n",
    "    df=pd.read_csv(path+'.csv',\n",
    "              encoding='Cp1250',\n",
    "              sep=\"|\")\n",
    "    return df\n",
    "def func_numer_faktury(df):\n",
    "    df['FAKTURA_NUMER']=df['FAKTURA'].apply(lambda x: x[4:])\n",
    "    return df\n",
    "    \n",
    "def func_str_to_float(s):\n",
    "    s=s.astype(str)\n",
    "    s=s.apply(lambda x: x.replace(',','.'))\n",
    "    s=s.astype(float)\n",
    "    return s\n",
    "\n",
    "def func_add_time(df):\n",
    "    \n",
    "    df['Z_DNIA']=pd.to_datetime(df['Z_DNIA'], format='%y/%m/%d')\n",
    "    \n",
    "    df['year']=df['Z_DNIA'].apply(lambda x: x.year)\n",
    "    df['month']=df['Z_DNIA'].apply(lambda x: x.month)\n",
    "    df['day_of_year']=df['Z_DNIA'].apply(lambda x: x.timetuple().tm_yday)\n",
    "    df['week']=df['Z_DNIA'].apply(lambda x: x.isocalendar()[1])\n",
    "    df['week_day']=df['Z_DNIA'].apply(lambda x: x.isocalendar()[2])\n",
    "    df['year_month']=df['year'].astype(str)+'-'+df['month'].astype(str)+'-'+'01'\n",
    "    df['year_month']=df['year_month'].apply(lambda x: x[:5]+'0'+x[5:] if len(x)==9 else x)\n",
    "    df['year_month']=pd.to_datetime(df['year_month'], format='%Y-%m-%d')\n",
    "    df['year_week']=df['year'].astype(str)+'--'+df['week'].astype(str)\n",
    "    df['year_week']=df['year_week'].apply(lambda x: x[:6]+'0'+x[6:] if len(x)==7 else x)\n",
    "    df['year_day']=df['year'].astype(str)+'--'+df['day_of_year'].astype(str)\n",
    "    df['year_day']=df['year_day'].apply(lambda x: x[:6]+'0'+x[6:] if len(x)<9 else x)\n",
    "    return df\n",
    "\n",
    "def func_add_kod_fili(df, col_kod):\n",
    "    df_filia=pd.read_csv('../słowniki/filie.csv',\n",
    "                         encoding='Cp1250',\n",
    "                          sep=\"|\")\n",
    "    df_filia=df_filia.loc[df_filia['IS_DELETED']=='N'][['KOD','ANALIT01','ANALIT02']]\n",
    "    df_filia.loc[df_filia.loc[df_filia['KOD']=='LI'].index, 'ANALIT01']='LI'\n",
    "    df_filia.loc[df_filia.loc[df_filia['KOD']=='LI'].index, 'ANALIT02']='LIKWIDACJA'\n",
    "    df_filia.loc[df_filia.loc[df_filia['KOD']=='00'].index, 'ANALIT01']='00'\n",
    "    df_filia.loc[df_filia.loc[df_filia['KOD']=='00'].index, 'ANALIT02']='MAGAZYN_00'\n",
    "    df_filia.loc[df_filia.loc[df_filia['KOD']=='65'].index, 'ANALIT01']='FE'\n",
    "    df_filia.loc[df_filia.loc[df_filia['KOD']=='65'].index, 'ANALIT02']='FELER'\n",
    "    df=df.merge(df_filia, how='left', left_on=col_kod, right_on='KOD')\n",
    "    return df\n",
    "\n",
    "def func_add_slownik(df):\n",
    "    df_slownik=pd.read_csv('../słowniki/slownik.csv',\n",
    "                           encoding='Cp1250',\n",
    "                          sep=\"|\")\n",
    "    df_slownik=df_slownik.loc[df_slownik['IS_DELETED']=='N'][['KOD_TEMA','ZNACZNIK','DOSTAWCA']]\n",
    "    df=df.merge(df_slownik, how='left', on='KOD_TEMA')\n",
    "    df=func_add_znacznik(df)\n",
    "    return df\n",
    "\n",
    "def func_add_znacznik(df):\n",
    "    df_znacznik=pd.read_csv('../słowniki/znacznik.csv',\n",
    "                            encoding='Cp1250',\n",
    "                              sep=\"|\")\n",
    "    df_znacznik=df_znacznik.loc[df_znacznik['IS_DELETED']=='N'][['ZNACZNIK','NAZWA']]\n",
    "    df_znacznik=df_znacznik.rename(columns={'NAZWA':'NAZWA_ZNACZNIK'})\n",
    "    df=df.merge(df_znacznik, how='left', on='ZNACZNIK')\n",
    "    return df\n",
    "\n",
    "def func_sell(path):\n",
    "    df=pd.read_csv('../sprzedaz_fakty_bi/'+path+'.csv',\n",
    "                            encoding='Cp1250',\n",
    "                              sep=\"|\")\n",
    "    df=func_add_slownik(df)\n",
    "    df=func_add_time(df)\n",
    "    df['WARTOB_SUM']=func_str_to_float(df['WARTOB_SUM'])\n",
    "    df['ILOSC_SUM']=func_str_to_float(df['ILOSC_SUM'])\n",
    "    df=func_add_kod_fili(df, 'FILIA')\n",
    "    return df"
   ]
  },
  {
   "cell_type": "code",
   "execution_count": 230,
   "id": "564e1244-b36a-4e40-9cdb-d937792e19e2",
   "metadata": {},
   "outputs": [],
   "source": [
    "df_sell=func_sell('hurtbi_fakty_sprz_22')\n"
   ]
  },
  {
   "cell_type": "code",
   "execution_count": 237,
   "id": "c7c7332e-84f8-407d-96ee-d7976f708c9b",
   "metadata": {},
   "outputs": [
    {
     "data": {
      "application/vnd.plotly.v1+json": {
       "config": {
        "plotlyServerURL": "https://plot.ly"
       },
       "data": [
        {
         "alignmentgroup": "True",
         "hovertemplate": "year_week=%{x}<br>WARTOB_SUM=%{y}<extra></extra>",
         "legendgroup": "",
         "marker": {
          "color": "#636efa",
          "pattern": {
           "shape": ""
          }
         },
         "name": "",
         "offsetgroup": "",
         "orientation": "v",
         "showlegend": false,
         "textposition": "auto",
         "type": "bar",
         "x": [
          "2022--01",
          "2022--02",
          "2022--03",
          "2022--04",
          "2022--05",
          "2022--06",
          "2022--07",
          "2022--08",
          "2022--09",
          "2022--10",
          "2022--11",
          "2022--12",
          "2022--13",
          "2022--14",
          "2022--15",
          "2022--16",
          "2022--17",
          "2022--18",
          "2022--19",
          "2022--20",
          "2022--21",
          "2022--22",
          "2022--23",
          "2022--24",
          "2022--25",
          "2022--26",
          "2022--27",
          "2022--28",
          "2022--29",
          "2022--30",
          "2022--31"
         ],
         "xaxis": "x",
         "y": [
          1817623.017920681,
          3442104.484035128,
          3366878.5197045226,
          3893063.1669133613,
          3571884.829460995,
          5850218.348366139,
          4895597.027589851,
          3817340.834494117,
          3083391.460775674,
          3159904.031892786,
          3558601.590747822,
          4143549.2507731067,
          4942313.154338008,
          4411989.169060054,
          3507649.9074595976,
          2973928.288045831,
          4089817.301628019,
          1867075.577172645,
          2890236.0642583566,
          2703815.332087646,
          2973197.3479269305,
          2982137.9962794147,
          4304095.402072093,
          2560063.6685230853,
          3067363.8624993204,
          3025627.4537479547,
          2612677.809262775,
          3038144.421030937,
          2949256.8758871215,
          3407150.13772768,
          436985.14342463255
         ],
         "yaxis": "y"
        }
       ],
       "layout": {
        "autosize": true,
        "barmode": "relative",
        "legend": {
         "tracegroupgap": 0
        },
        "margin": {
         "t": 60
        },
        "template": {
         "data": {
          "bar": [
           {
            "error_x": {
             "color": "#2a3f5f"
            },
            "error_y": {
             "color": "#2a3f5f"
            },
            "marker": {
             "line": {
              "color": "#E5ECF6",
              "width": 0.5
             },
             "pattern": {
              "fillmode": "overlay",
              "size": 10,
              "solidity": 0.2
             }
            },
            "type": "bar"
           }
          ],
          "barpolar": [
           {
            "marker": {
             "line": {
              "color": "#E5ECF6",
              "width": 0.5
             },
             "pattern": {
              "fillmode": "overlay",
              "size": 10,
              "solidity": 0.2
             }
            },
            "type": "barpolar"
           }
          ],
          "carpet": [
           {
            "aaxis": {
             "endlinecolor": "#2a3f5f",
             "gridcolor": "white",
             "linecolor": "white",
             "minorgridcolor": "white",
             "startlinecolor": "#2a3f5f"
            },
            "baxis": {
             "endlinecolor": "#2a3f5f",
             "gridcolor": "white",
             "linecolor": "white",
             "minorgridcolor": "white",
             "startlinecolor": "#2a3f5f"
            },
            "type": "carpet"
           }
          ],
          "choropleth": [
           {
            "colorbar": {
             "outlinewidth": 0,
             "ticks": ""
            },
            "type": "choropleth"
           }
          ],
          "contour": [
           {
            "colorbar": {
             "outlinewidth": 0,
             "ticks": ""
            },
            "colorscale": [
             [
              0,
              "#0d0887"
             ],
             [
              0.1111111111111111,
              "#46039f"
             ],
             [
              0.2222222222222222,
              "#7201a8"
             ],
             [
              0.3333333333333333,
              "#9c179e"
             ],
             [
              0.4444444444444444,
              "#bd3786"
             ],
             [
              0.5555555555555556,
              "#d8576b"
             ],
             [
              0.6666666666666666,
              "#ed7953"
             ],
             [
              0.7777777777777778,
              "#fb9f3a"
             ],
             [
              0.8888888888888888,
              "#fdca26"
             ],
             [
              1,
              "#f0f921"
             ]
            ],
            "type": "contour"
           }
          ],
          "contourcarpet": [
           {
            "colorbar": {
             "outlinewidth": 0,
             "ticks": ""
            },
            "type": "contourcarpet"
           }
          ],
          "heatmap": [
           {
            "colorbar": {
             "outlinewidth": 0,
             "ticks": ""
            },
            "colorscale": [
             [
              0,
              "#0d0887"
             ],
             [
              0.1111111111111111,
              "#46039f"
             ],
             [
              0.2222222222222222,
              "#7201a8"
             ],
             [
              0.3333333333333333,
              "#9c179e"
             ],
             [
              0.4444444444444444,
              "#bd3786"
             ],
             [
              0.5555555555555556,
              "#d8576b"
             ],
             [
              0.6666666666666666,
              "#ed7953"
             ],
             [
              0.7777777777777778,
              "#fb9f3a"
             ],
             [
              0.8888888888888888,
              "#fdca26"
             ],
             [
              1,
              "#f0f921"
             ]
            ],
            "type": "heatmap"
           }
          ],
          "heatmapgl": [
           {
            "colorbar": {
             "outlinewidth": 0,
             "ticks": ""
            },
            "colorscale": [
             [
              0,
              "#0d0887"
             ],
             [
              0.1111111111111111,
              "#46039f"
             ],
             [
              0.2222222222222222,
              "#7201a8"
             ],
             [
              0.3333333333333333,
              "#9c179e"
             ],
             [
              0.4444444444444444,
              "#bd3786"
             ],
             [
              0.5555555555555556,
              "#d8576b"
             ],
             [
              0.6666666666666666,
              "#ed7953"
             ],
             [
              0.7777777777777778,
              "#fb9f3a"
             ],
             [
              0.8888888888888888,
              "#fdca26"
             ],
             [
              1,
              "#f0f921"
             ]
            ],
            "type": "heatmapgl"
           }
          ],
          "histogram": [
           {
            "marker": {
             "pattern": {
              "fillmode": "overlay",
              "size": 10,
              "solidity": 0.2
             }
            },
            "type": "histogram"
           }
          ],
          "histogram2d": [
           {
            "colorbar": {
             "outlinewidth": 0,
             "ticks": ""
            },
            "colorscale": [
             [
              0,
              "#0d0887"
             ],
             [
              0.1111111111111111,
              "#46039f"
             ],
             [
              0.2222222222222222,
              "#7201a8"
             ],
             [
              0.3333333333333333,
              "#9c179e"
             ],
             [
              0.4444444444444444,
              "#bd3786"
             ],
             [
              0.5555555555555556,
              "#d8576b"
             ],
             [
              0.6666666666666666,
              "#ed7953"
             ],
             [
              0.7777777777777778,
              "#fb9f3a"
             ],
             [
              0.8888888888888888,
              "#fdca26"
             ],
             [
              1,
              "#f0f921"
             ]
            ],
            "type": "histogram2d"
           }
          ],
          "histogram2dcontour": [
           {
            "colorbar": {
             "outlinewidth": 0,
             "ticks": ""
            },
            "colorscale": [
             [
              0,
              "#0d0887"
             ],
             [
              0.1111111111111111,
              "#46039f"
             ],
             [
              0.2222222222222222,
              "#7201a8"
             ],
             [
              0.3333333333333333,
              "#9c179e"
             ],
             [
              0.4444444444444444,
              "#bd3786"
             ],
             [
              0.5555555555555556,
              "#d8576b"
             ],
             [
              0.6666666666666666,
              "#ed7953"
             ],
             [
              0.7777777777777778,
              "#fb9f3a"
             ],
             [
              0.8888888888888888,
              "#fdca26"
             ],
             [
              1,
              "#f0f921"
             ]
            ],
            "type": "histogram2dcontour"
           }
          ],
          "mesh3d": [
           {
            "colorbar": {
             "outlinewidth": 0,
             "ticks": ""
            },
            "type": "mesh3d"
           }
          ],
          "parcoords": [
           {
            "line": {
             "colorbar": {
              "outlinewidth": 0,
              "ticks": ""
             }
            },
            "type": "parcoords"
           }
          ],
          "pie": [
           {
            "automargin": true,
            "type": "pie"
           }
          ],
          "scatter": [
           {
            "fillpattern": {
             "fillmode": "overlay",
             "size": 10,
             "solidity": 0.2
            },
            "type": "scatter"
           }
          ],
          "scatter3d": [
           {
            "line": {
             "colorbar": {
              "outlinewidth": 0,
              "ticks": ""
             }
            },
            "marker": {
             "colorbar": {
              "outlinewidth": 0,
              "ticks": ""
             }
            },
            "type": "scatter3d"
           }
          ],
          "scattercarpet": [
           {
            "marker": {
             "colorbar": {
              "outlinewidth": 0,
              "ticks": ""
             }
            },
            "type": "scattercarpet"
           }
          ],
          "scattergeo": [
           {
            "marker": {
             "colorbar": {
              "outlinewidth": 0,
              "ticks": ""
             }
            },
            "type": "scattergeo"
           }
          ],
          "scattergl": [
           {
            "marker": {
             "colorbar": {
              "outlinewidth": 0,
              "ticks": ""
             }
            },
            "type": "scattergl"
           }
          ],
          "scattermapbox": [
           {
            "marker": {
             "colorbar": {
              "outlinewidth": 0,
              "ticks": ""
             }
            },
            "type": "scattermapbox"
           }
          ],
          "scatterpolar": [
           {
            "marker": {
             "colorbar": {
              "outlinewidth": 0,
              "ticks": ""
             }
            },
            "type": "scatterpolar"
           }
          ],
          "scatterpolargl": [
           {
            "marker": {
             "colorbar": {
              "outlinewidth": 0,
              "ticks": ""
             }
            },
            "type": "scatterpolargl"
           }
          ],
          "scatterternary": [
           {
            "marker": {
             "colorbar": {
              "outlinewidth": 0,
              "ticks": ""
             }
            },
            "type": "scatterternary"
           }
          ],
          "surface": [
           {
            "colorbar": {
             "outlinewidth": 0,
             "ticks": ""
            },
            "colorscale": [
             [
              0,
              "#0d0887"
             ],
             [
              0.1111111111111111,
              "#46039f"
             ],
             [
              0.2222222222222222,
              "#7201a8"
             ],
             [
              0.3333333333333333,
              "#9c179e"
             ],
             [
              0.4444444444444444,
              "#bd3786"
             ],
             [
              0.5555555555555556,
              "#d8576b"
             ],
             [
              0.6666666666666666,
              "#ed7953"
             ],
             [
              0.7777777777777778,
              "#fb9f3a"
             ],
             [
              0.8888888888888888,
              "#fdca26"
             ],
             [
              1,
              "#f0f921"
             ]
            ],
            "type": "surface"
           }
          ],
          "table": [
           {
            "cells": {
             "fill": {
              "color": "#EBF0F8"
             },
             "line": {
              "color": "white"
             }
            },
            "header": {
             "fill": {
              "color": "#C8D4E3"
             },
             "line": {
              "color": "white"
             }
            },
            "type": "table"
           }
          ]
         },
         "layout": {
          "annotationdefaults": {
           "arrowcolor": "#2a3f5f",
           "arrowhead": 0,
           "arrowwidth": 1
          },
          "autotypenumbers": "strict",
          "coloraxis": {
           "colorbar": {
            "outlinewidth": 0,
            "ticks": ""
           }
          },
          "colorscale": {
           "diverging": [
            [
             0,
             "#8e0152"
            ],
            [
             0.1,
             "#c51b7d"
            ],
            [
             0.2,
             "#de77ae"
            ],
            [
             0.3,
             "#f1b6da"
            ],
            [
             0.4,
             "#fde0ef"
            ],
            [
             0.5,
             "#f7f7f7"
            ],
            [
             0.6,
             "#e6f5d0"
            ],
            [
             0.7,
             "#b8e186"
            ],
            [
             0.8,
             "#7fbc41"
            ],
            [
             0.9,
             "#4d9221"
            ],
            [
             1,
             "#276419"
            ]
           ],
           "sequential": [
            [
             0,
             "#0d0887"
            ],
            [
             0.1111111111111111,
             "#46039f"
            ],
            [
             0.2222222222222222,
             "#7201a8"
            ],
            [
             0.3333333333333333,
             "#9c179e"
            ],
            [
             0.4444444444444444,
             "#bd3786"
            ],
            [
             0.5555555555555556,
             "#d8576b"
            ],
            [
             0.6666666666666666,
             "#ed7953"
            ],
            [
             0.7777777777777778,
             "#fb9f3a"
            ],
            [
             0.8888888888888888,
             "#fdca26"
            ],
            [
             1,
             "#f0f921"
            ]
           ],
           "sequentialminus": [
            [
             0,
             "#0d0887"
            ],
            [
             0.1111111111111111,
             "#46039f"
            ],
            [
             0.2222222222222222,
             "#7201a8"
            ],
            [
             0.3333333333333333,
             "#9c179e"
            ],
            [
             0.4444444444444444,
             "#bd3786"
            ],
            [
             0.5555555555555556,
             "#d8576b"
            ],
            [
             0.6666666666666666,
             "#ed7953"
            ],
            [
             0.7777777777777778,
             "#fb9f3a"
            ],
            [
             0.8888888888888888,
             "#fdca26"
            ],
            [
             1,
             "#f0f921"
            ]
           ]
          },
          "colorway": [
           "#636efa",
           "#EF553B",
           "#00cc96",
           "#ab63fa",
           "#FFA15A",
           "#19d3f3",
           "#FF6692",
           "#B6E880",
           "#FF97FF",
           "#FECB52"
          ],
          "font": {
           "color": "#2a3f5f"
          },
          "geo": {
           "bgcolor": "white",
           "lakecolor": "white",
           "landcolor": "#E5ECF6",
           "showlakes": true,
           "showland": true,
           "subunitcolor": "white"
          },
          "hoverlabel": {
           "align": "left"
          },
          "hovermode": "closest",
          "mapbox": {
           "style": "light"
          },
          "paper_bgcolor": "white",
          "plot_bgcolor": "#E5ECF6",
          "polar": {
           "angularaxis": {
            "gridcolor": "white",
            "linecolor": "white",
            "ticks": ""
           },
           "bgcolor": "#E5ECF6",
           "radialaxis": {
            "gridcolor": "white",
            "linecolor": "white",
            "ticks": ""
           }
          },
          "scene": {
           "xaxis": {
            "backgroundcolor": "#E5ECF6",
            "gridcolor": "white",
            "gridwidth": 2,
            "linecolor": "white",
            "showbackground": true,
            "ticks": "",
            "zerolinecolor": "white"
           },
           "yaxis": {
            "backgroundcolor": "#E5ECF6",
            "gridcolor": "white",
            "gridwidth": 2,
            "linecolor": "white",
            "showbackground": true,
            "ticks": "",
            "zerolinecolor": "white"
           },
           "zaxis": {
            "backgroundcolor": "#E5ECF6",
            "gridcolor": "white",
            "gridwidth": 2,
            "linecolor": "white",
            "showbackground": true,
            "ticks": "",
            "zerolinecolor": "white"
           }
          },
          "shapedefaults": {
           "line": {
            "color": "#2a3f5f"
           }
          },
          "ternary": {
           "aaxis": {
            "gridcolor": "white",
            "linecolor": "white",
            "ticks": ""
           },
           "baxis": {
            "gridcolor": "white",
            "linecolor": "white",
            "ticks": ""
           },
           "bgcolor": "#E5ECF6",
           "caxis": {
            "gridcolor": "white",
            "linecolor": "white",
            "ticks": ""
           }
          },
          "title": {
           "x": 0.05
          },
          "xaxis": {
           "automargin": true,
           "gridcolor": "white",
           "linecolor": "white",
           "ticks": "",
           "title": {
            "standoff": 15
           },
           "zerolinecolor": "white",
           "zerolinewidth": 2
          },
          "yaxis": {
           "automargin": true,
           "gridcolor": "white",
           "linecolor": "white",
           "ticks": "",
           "title": {
            "standoff": 15
           },
           "zerolinecolor": "white",
           "zerolinewidth": 2
          }
         }
        },
        "xaxis": {
         "anchor": "y",
         "autorange": true,
         "domain": [
          0,
          1
         ],
         "range": [
          -0.5,
          30.5
         ],
         "title": {
          "text": "year_week"
         },
         "type": "category"
        },
        "yaxis": {
         "anchor": "x",
         "autorange": true,
         "domain": [
          0,
          1
         ],
         "range": [
          0,
          6158124.577227515
         ],
         "title": {
          "text": "WARTOB_SUM"
         },
         "type": "linear"
        }
       }
      },
      "image/png": "[encoded data removed]",
      "text/html": [
       "<div>                            <div id=\"95c8daba-783c-490b-ac12-78f579b5be14\" class=\"plotly-graph-div\" style=\"height:525px; width:100%;\"></div>            <script type=\"text/javascript\">                require([\"plotly\"], function(Plotly) {                    window.PLOTLYENV=window.PLOTLYENV || {};                                    if (document.getElementById(\"95c8daba-783c-490b-ac12-78f579b5be14\")) {                    Plotly.newPlot(                        \"95c8daba-783c-490b-ac12-78f579b5be14\",                        [{\"alignmentgroup\":\"True\",\"hovertemplate\":\"year_week=%{x}<br>WARTOB_SUM=%{y}<extra></extra>\",\"legendgroup\":\"\",\"marker\":{\"color\":\"#636efa\",\"pattern\":{\"shape\":\"\"}},\"name\":\"\",\"offsetgroup\":\"\",\"orientation\":\"v\",\"showlegend\":false,\"textposition\":\"auto\",\"x\":[\"2022--01\",\"2022--02\",\"2022--03\",\"2022--04\",\"2022--05\",\"2022--06\",\"2022--07\",\"2022--08\",\"2022--09\",\"2022--10\",\"2022--11\",\"2022--12\",\"2022--13\",\"2022--14\",\"2022--15\",\"2022--16\",\"2022--17\",\"2022--18\",\"2022--19\",\"2022--20\",\"2022--21\",\"2022--22\",\"2022--23\",\"2022--24\",\"2022--25\",\"2022--26\",\"2022--27\",\"2022--28\",\"2022--29\",\"2022--30\",\"2022--31\"],\"xaxis\":\"x\",\"y\":[1817623.017920681,3442104.484035128,3366878.5197045226,3893063.1669133613,3571884.829460995,5850218.348366139,4895597.027589851,3817340.834494117,3083391.460775674,3159904.031892786,3558601.590747822,4143549.2507731067,4942313.154338008,4411989.169060054,3507649.9074595976,2973928.288045831,4089817.301628019,1867075.577172645,2890236.0642583566,2703815.332087646,2973197.3479269305,2982137.9962794147,4304095.402072093,2560063.6685230853,3067363.8624993204,3025627.4537479547,2612677.809262775,3038144.421030937,2949256.8758871215,3407150.13772768,436985.14342463255],\"yaxis\":\"y\",\"type\":\"bar\"}],                        {\"template\":{\"data\":{\"histogram2dcontour\":[{\"type\":\"histogram2dcontour\",\"colorbar\":{\"outlinewidth\":0,\"ticks\":\"\"},\"colorscale\":[[0.0,\"#0d0887\"],[0.1111111111111111,\"#46039f\"],[0.2222222222222222,\"#7201a8\"],[0.3333333333333333,\"#9c179e\"],[0.4444444444444444,\"#bd3786\"],[0.5555555555555556,\"#d8576b\"],[0.6666666666666666,\"#ed7953\"],[0.7777777777777778,\"#fb9f3a\"],[0.8888888888888888,\"#fdca26\"],[1.0,\"#f0f921\"]]}],\"choropleth\":[{\"type\":\"choropleth\",\"colorbar\":{\"outlinewidth\":0,\"ticks\":\"\"}}],\"histogram2d\":[{\"type\":\"histogram2d\",\"colorbar\":{\"outlinewidth\":0,\"ticks\":\"\"},\"colorscale\":[[0.0,\"#0d0887\"],[0.1111111111111111,\"#46039f\"],[0.2222222222222222,\"#7201a8\"],[0.3333333333333333,\"#9c179e\"],[0.4444444444444444,\"#bd3786\"],[0.5555555555555556,\"#d8576b\"],[0.6666666666666666,\"#ed7953\"],[0.7777777777777778,\"#fb9f3a\"],[0.8888888888888888,\"#fdca26\"],[1.0,\"#f0f921\"]]}],\"heatmap\":[{\"type\":\"heatmap\",\"colorbar\":{\"outlinewidth\":0,\"ticks\":\"\"},\"colorscale\":[[0.0,\"#0d0887\"],[0.1111111111111111,\"#46039f\"],[0.2222222222222222,\"#7201a8\"],[0.3333333333333333,\"#9c179e\"],[0.4444444444444444,\"#bd3786\"],[0.5555555555555556,\"#d8576b\"],[0.6666666666666666,\"#ed7953\"],[0.7777777777777778,\"#fb9f3a\"],[0.8888888888888888,\"#fdca26\"],[1.0,\"#f0f921\"]]}],\"heatmapgl\":[{\"type\":\"heatmapgl\",\"colorbar\":{\"outlinewidth\":0,\"ticks\":\"\"},\"colorscale\":[[0.0,\"#0d0887\"],[0.1111111111111111,\"#46039f\"],[0.2222222222222222,\"#7201a8\"],[0.3333333333333333,\"#9c179e\"],[0.4444444444444444,\"#bd3786\"],[0.5555555555555556,\"#d8576b\"],[0.6666666666666666,\"#ed7953\"],[0.7777777777777778,\"#fb9f3a\"],[0.8888888888888888,\"#fdca26\"],[1.0,\"#f0f921\"]]}],\"contourcarpet\":[{\"type\":\"contourcarpet\",\"colorbar\":{\"outlinewidth\":0,\"ticks\":\"\"}}],\"contour\":[{\"type\":\"contour\",\"colorbar\":{\"outlinewidth\":0,\"ticks\":\"\"},\"colorscale\":[[0.0,\"#0d0887\"],[0.1111111111111111,\"#46039f\"],[0.2222222222222222,\"#7201a8\"],[0.3333333333333333,\"#9c179e\"],[0.4444444444444444,\"#bd3786\"],[0.5555555555555556,\"#d8576b\"],[0.6666666666666666,\"#ed7953\"],[0.7777777777777778,\"#fb9f3a\"],[0.8888888888888888,\"#fdca26\"],[1.0,\"#f0f921\"]]}],\"surface\":[{\"type\":\"surface\",\"colorbar\":{\"outlinewidth\":0,\"ticks\":\"\"},\"colorscale\":[[0.0,\"#0d0887\"],[0.1111111111111111,\"#46039f\"],[0.2222222222222222,\"#7201a8\"],[0.3333333333333333,\"#9c179e\"],[0.4444444444444444,\"#bd3786\"],[0.5555555555555556,\"#d8576b\"],[0.6666666666666666,\"#ed7953\"],[0.7777777777777778,\"#fb9f3a\"],[0.8888888888888888,\"#fdca26\"],[1.0,\"#f0f921\"]]}],\"mesh3d\":[{\"type\":\"mesh3d\",\"colorbar\":{\"outlinewidth\":0,\"ticks\":\"\"}}],\"scatter\":[{\"fillpattern\":{\"fillmode\":\"overlay\",\"size\":10,\"solidity\":0.2},\"type\":\"scatter\"}],\"parcoords\":[{\"type\":\"parcoords\",\"line\":{\"colorbar\":{\"outlinewidth\":0,\"ticks\":\"\"}}}],\"scatterpolargl\":[{\"type\":\"scatterpolargl\",\"marker\":{\"colorbar\":{\"outlinewidth\":0,\"ticks\":\"\"}}}],\"bar\":[{\"error_x\":{\"color\":\"#2a3f5f\"},\"error_y\":{\"color\":\"#2a3f5f\"},\"marker\":{\"line\":{\"color\":\"#E5ECF6\",\"width\":0.5},\"pattern\":{\"fillmode\":\"overlay\",\"size\":10,\"solidity\":0.2}},\"type\":\"bar\"}],\"scattergeo\":[{\"type\":\"scattergeo\",\"marker\":{\"colorbar\":{\"outlinewidth\":0,\"ticks\":\"\"}}}],\"scatterpolar\":[{\"type\":\"scatterpolar\",\"marker\":{\"colorbar\":{\"outlinewidth\":0,\"ticks\":\"\"}}}],\"histogram\":[{\"marker\":{\"pattern\":{\"fillmode\":\"overlay\",\"size\":10,\"solidity\":0.2}},\"type\":\"histogram\"}],\"scattergl\":[{\"type\":\"scattergl\",\"marker\":{\"colorbar\":{\"outlinewidth\":0,\"ticks\":\"\"}}}],\"scatter3d\":[{\"type\":\"scatter3d\",\"line\":{\"colorbar\":{\"outlinewidth\":0,\"ticks\":\"\"}},\"marker\":{\"colorbar\":{\"outlinewidth\":0,\"ticks\":\"\"}}}],\"scattermapbox\":[{\"type\":\"scattermapbox\",\"marker\":{\"colorbar\":{\"outlinewidth\":0,\"ticks\":\"\"}}}],\"scatterternary\":[{\"type\":\"scatterternary\",\"marker\":{\"colorbar\":{\"outlinewidth\":0,\"ticks\":\"\"}}}],\"scattercarpet\":[{\"type\":\"scattercarpet\",\"marker\":{\"colorbar\":{\"outlinewidth\":0,\"ticks\":\"\"}}}],\"carpet\":[{\"aaxis\":{\"endlinecolor\":\"#2a3f5f\",\"gridcolor\":\"white\",\"linecolor\":\"white\",\"minorgridcolor\":\"white\",\"startlinecolor\":\"#2a3f5f\"},\"baxis\":{\"endlinecolor\":\"#2a3f5f\",\"gridcolor\":\"white\",\"linecolor\":\"white\",\"minorgridcolor\":\"white\",\"startlinecolor\":\"#2a3f5f\"},\"type\":\"carpet\"}],\"table\":[{\"cells\":{\"fill\":{\"color\":\"#EBF0F8\"},\"line\":{\"color\":\"white\"}},\"header\":{\"fill\":{\"color\":\"#C8D4E3\"},\"line\":{\"color\":\"white\"}},\"type\":\"table\"}],\"barpolar\":[{\"marker\":{\"line\":{\"color\":\"#E5ECF6\",\"width\":0.5},\"pattern\":{\"fillmode\":\"overlay\",\"size\":10,\"solidity\":0.2}},\"type\":\"barpolar\"}],\"pie\":[{\"automargin\":true,\"type\":\"pie\"}]},\"layout\":{\"autotypenumbers\":\"strict\",\"colorway\":[\"#636efa\",\"#EF553B\",\"#00cc96\",\"#ab63fa\",\"#FFA15A\",\"#19d3f3\",\"#FF6692\",\"#B6E880\",\"#FF97FF\",\"#FECB52\"],\"font\":{\"color\":\"#2a3f5f\"},\"hovermode\":\"closest\",\"hoverlabel\":{\"align\":\"left\"},\"paper_bgcolor\":\"white\",\"plot_bgcolor\":\"#E5ECF6\",\"polar\":{\"bgcolor\":\"#E5ECF6\",\"angularaxis\":{\"gridcolor\":\"white\",\"linecolor\":\"white\",\"ticks\":\"\"},\"radialaxis\":{\"gridcolor\":\"white\",\"linecolor\":\"white\",\"ticks\":\"\"}},\"ternary\":{\"bgcolor\":\"#E5ECF6\",\"aaxis\":{\"gridcolor\":\"white\",\"linecolor\":\"white\",\"ticks\":\"\"},\"baxis\":{\"gridcolor\":\"white\",\"linecolor\":\"white\",\"ticks\":\"\"},\"caxis\":{\"gridcolor\":\"white\",\"linecolor\":\"white\",\"ticks\":\"\"}},\"coloraxis\":{\"colorbar\":{\"outlinewidth\":0,\"ticks\":\"\"}},\"colorscale\":{\"sequential\":[[0.0,\"#0d0887\"],[0.1111111111111111,\"#46039f\"],[0.2222222222222222,\"#7201a8\"],[0.3333333333333333,\"#9c179e\"],[0.4444444444444444,\"#bd3786\"],[0.5555555555555556,\"#d8576b\"],[0.6666666666666666,\"#ed7953\"],[0.7777777777777778,\"#fb9f3a\"],[0.8888888888888888,\"#fdca26\"],[1.0,\"#f0f921\"]],\"sequentialminus\":[[0.0,\"#0d0887\"],[0.1111111111111111,\"#46039f\"],[0.2222222222222222,\"#7201a8\"],[0.3333333333333333,\"#9c179e\"],[0.4444444444444444,\"#bd3786\"],[0.5555555555555556,\"#d8576b\"],[0.6666666666666666,\"#ed7953\"],[0.7777777777777778,\"#fb9f3a\"],[0.8888888888888888,\"#fdca26\"],[1.0,\"#f0f921\"]],\"diverging\":[[0,\"#8e0152\"],[0.1,\"#c51b7d\"],[0.2,\"#de77ae\"],[0.3,\"#f1b6da\"],[0.4,\"#fde0ef\"],[0.5,\"#f7f7f7\"],[0.6,\"#e6f5d0\"],[0.7,\"#b8e186\"],[0.8,\"#7fbc41\"],[0.9,\"#4d9221\"],[1,\"#276419\"]]},\"xaxis\":{\"gridcolor\":\"white\",\"linecolor\":\"white\",\"ticks\":\"\",\"title\":{\"standoff\":15},\"zerolinecolor\":\"white\",\"automargin\":true,\"zerolinewidth\":2},\"yaxis\":{\"gridcolor\":\"white\",\"linecolor\":\"white\",\"ticks\":\"\",\"title\":{\"standoff\":15},\"zerolinecolor\":\"white\",\"automargin\":true,\"zerolinewidth\":2},\"scene\":{\"xaxis\":{\"backgroundcolor\":\"#E5ECF6\",\"gridcolor\":\"white\",\"linecolor\":\"white\",\"showbackground\":true,\"ticks\":\"\",\"zerolinecolor\":\"white\",\"gridwidth\":2},\"yaxis\":{\"backgroundcolor\":\"#E5ECF6\",\"gridcolor\":\"white\",\"linecolor\":\"white\",\"showbackground\":true,\"ticks\":\"\",\"zerolinecolor\":\"white\",\"gridwidth\":2},\"zaxis\":{\"backgroundcolor\":\"#E5ECF6\",\"gridcolor\":\"white\",\"linecolor\":\"white\",\"showbackground\":true,\"ticks\":\"\",\"zerolinecolor\":\"white\",\"gridwidth\":2}},\"shapedefaults\":{\"line\":{\"color\":\"#2a3f5f\"}},\"annotationdefaults\":{\"arrowcolor\":\"#2a3f5f\",\"arrowhead\":0,\"arrowwidth\":1},\"geo\":{\"bgcolor\":\"white\",\"landcolor\":\"#E5ECF6\",\"subunitcolor\":\"white\",\"showland\":true,\"showlakes\":true,\"lakecolor\":\"white\"},\"title\":{\"x\":0.05},\"mapbox\":{\"style\":\"light\"}}},\"xaxis\":{\"anchor\":\"y\",\"domain\":[0.0,1.0],\"title\":{\"text\":\"year_week\"}},\"yaxis\":{\"anchor\":\"x\",\"domain\":[0.0,1.0],\"title\":{\"text\":\"WARTOB_SUM\"}},\"legend\":{\"tracegroupgap\":0},\"margin\":{\"t\":60},\"barmode\":\"relative\"},                        {\"responsive\": true}                    ).then(function(){\n",
       "                            \n",
       "var gd = document.getElementById('95c8daba-783c-490b-ac12-78f579b5be14');\n",
       "var x = new MutationObserver(function (mutations, observer) {{\n",
       "        var display = window.getComputedStyle(gd).display;\n",
       "        if (!display || display === 'none') {{\n",
       "            console.log([gd, 'removed!']);\n",
       "            Plotly.purge(gd);\n",
       "            observer.disconnect();\n",
       "        }}\n",
       "}});\n",
       "\n",
       "// Listen for the removal of the full notebook cells\n",
       "var notebookContainer = gd.closest('#notebook-container');\n",
       "if (notebookContainer) {{\n",
       "    x.observe(notebookContainer, {childList: true});\n",
       "}}\n",
       "\n",
       "// Listen for the clearing of the current output cell\n",
       "var outputEl = gd.closest('.output');\n",
       "if (outputEl) {{\n",
       "    x.observe(outputEl, {childList: true});\n",
       "}}\n",
       "\n",
       "                        })                };                });            </script>        </div>"
      ]
     },
     "metadata": {},
     "output_type": "display_data"
    }
   ],
   "source": [
    "px.bar(df_sell.groupby(['year_week']).agg({'WARTOB_SUM':'sum'}).reset_index(),\n",
    "x='year_week',\n",
    "y='WARTOB_SUM')"
   ]
  },
  {
   "cell_type": "code",
   "execution_count": 231,
   "id": "52748645-df92-4270-8683-db6bea52abd2",
   "metadata": {},
   "outputs": [],
   "source": [
    "df_fi=func_read_data('f56fi_wszystkie_kody_fili')\n",
    "df_fi=func_numer_faktury(df_fi)\n",
    "df_fi=func_add_slownik(df_fi)\n",
    "df_fi=func_add_time(df_fi)\n",
    "df_fi['WARTOSC_B']=func_str_to_float(df_fi['WARTOSC_B'])\n",
    "df_fi['ILOSC']=func_str_to_float(df_fi['ILOSC'])\n",
    "df_fi=func_add_kod_fili(df_fi, 'KOD')"
   ]
  },
  {
   "cell_type": "code",
   "execution_count": 232,
   "id": "04ccd063-6c37-485b-96b9-508d95bef03a",
   "metadata": {},
   "outputs": [
    {
     "data": {
      "text/html": [
       "<div>\n",
       "<style scoped>\n",
       "    .dataframe tbody tr th:only-of-type {\n",
       "        vertical-align: middle;\n",
       "    }\n",
       "\n",
       "    .dataframe tbody tr th {\n",
       "        vertical-align: top;\n",
       "    }\n",
       "\n",
       "    .dataframe thead th {\n",
       "        text-align: right;\n",
       "    }\n",
       "</style>\n",
       "<table border=\"1\" class=\"dataframe\">\n",
       "  <thead>\n",
       "    <tr style=\"text-align: right;\">\n",
       "      <th></th>\n",
       "      <th></th>\n",
       "      <th>FAKTURA</th>\n",
       "      <th>ILOSC</th>\n",
       "    </tr>\n",
       "    <tr>\n",
       "      <th>ANALIT01</th>\n",
       "      <th>ANALIT02</th>\n",
       "      <th></th>\n",
       "      <th></th>\n",
       "    </tr>\n",
       "  </thead>\n",
       "  <tbody>\n",
       "    <tr>\n",
       "      <th>00</th>\n",
       "      <th>MAGAZYN_00</th>\n",
       "      <td>18615</td>\n",
       "      <td>163290.22</td>\n",
       "    </tr>\n",
       "    <tr>\n",
       "      <th>OU</th>\n",
       "      <th>OUTLET</th>\n",
       "      <td>3517</td>\n",
       "      <td>12821.66</td>\n",
       "    </tr>\n",
       "    <tr>\n",
       "      <th>LI</th>\n",
       "      <th>LIKWIDACJA</th>\n",
       "      <td>2120</td>\n",
       "      <td>5858.30</td>\n",
       "    </tr>\n",
       "    <tr>\n",
       "      <th>FE</th>\n",
       "      <th>FELER</th>\n",
       "      <td>674</td>\n",
       "      <td>5338.12</td>\n",
       "    </tr>\n",
       "    <tr>\n",
       "      <th></th>\n",
       "      <th></th>\n",
       "      <td>406</td>\n",
       "      <td>7554.98</td>\n",
       "    </tr>\n",
       "    <tr>\n",
       "      <th>SF</th>\n",
       "      <th></th>\n",
       "      <td>29</td>\n",
       "      <td>128.10</td>\n",
       "    </tr>\n",
       "    <tr>\n",
       "      <th rowspan=\"10\" valign=\"top\">SW</th>\n",
       "      <th>BIELSKO</th>\n",
       "      <td>7</td>\n",
       "      <td>15.30</td>\n",
       "    </tr>\n",
       "    <tr>\n",
       "      <th>JANKI</th>\n",
       "      <td>7</td>\n",
       "      <td>451.00</td>\n",
       "    </tr>\n",
       "    <tr>\n",
       "      <th>RZESZÓW</th>\n",
       "      <td>7</td>\n",
       "      <td>26.60</td>\n",
       "    </tr>\n",
       "    <tr>\n",
       "      <th>CZĘSTOCHOW</th>\n",
       "      <td>5</td>\n",
       "      <td>19.00</td>\n",
       "    </tr>\n",
       "    <tr>\n",
       "      <th>SZCZECIN</th>\n",
       "      <td>5</td>\n",
       "      <td>27.00</td>\n",
       "    </tr>\n",
       "    <tr>\n",
       "      <th>ŁÓDŹ</th>\n",
       "      <td>3</td>\n",
       "      <td>19.00</td>\n",
       "    </tr>\n",
       "    <tr>\n",
       "      <th>KALISZ</th>\n",
       "      <td>1</td>\n",
       "      <td>10.00</td>\n",
       "    </tr>\n",
       "    <tr>\n",
       "      <th>PŁOCK</th>\n",
       "      <td>1</td>\n",
       "      <td>6.00</td>\n",
       "    </tr>\n",
       "    <tr>\n",
       "      <th>RADOM</th>\n",
       "      <td>1</td>\n",
       "      <td>6.00</td>\n",
       "    </tr>\n",
       "    <tr>\n",
       "      <th>WŁOCŁAWEK</th>\n",
       "      <td>1</td>\n",
       "      <td>6.00</td>\n",
       "    </tr>\n",
       "  </tbody>\n",
       "</table>\n",
       "</div>"
      ],
      "text/plain": [
       "                     FAKTURA      ILOSC\n",
       "ANALIT01 ANALIT02                      \n",
       "00       MAGAZYN_00    18615  163290.22\n",
       "OU       OUTLET         3517   12821.66\n",
       "LI       LIKWIDACJA     2120    5858.30\n",
       "FE       FELER           674    5338.12\n",
       "                         406    7554.98\n",
       "SF                        29     128.10\n",
       "SW       BIELSKO           7      15.30\n",
       "         JANKI             7     451.00\n",
       "         RZESZÓW           7      26.60\n",
       "         CZĘSTOCHOW        5      19.00\n",
       "         SZCZECIN          5      27.00\n",
       "         ŁÓDŹ              3      19.00\n",
       "         KALISZ            1      10.00\n",
       "         PŁOCK             1       6.00\n",
       "         RADOM             1       6.00\n",
       "         WŁOCŁAWEK         1       6.00"
      ]
     },
     "execution_count": 232,
     "metadata": {},
     "output_type": "execute_result"
    }
   ],
   "source": [
    "df_fi.groupby(['ANALIT01','ANALIT02']).agg({'FAKTURA':'nunique',\n",
    "                                      'ILOSC':'sum'}).sort_values(by='FAKTURA', ascending=False)"
   ]
  },
  {
   "cell_type": "code",
   "execution_count": 62,
   "id": "7c5e7b5d-5ecf-45bf-a02f-2482b747e7ee",
   "metadata": {},
   "outputs": [
    {
     "data": {
      "text/plain": [
       "'LI'"
      ]
     },
     "metadata": {},
     "output_type": "display_data"
    },
    {
     "data": {
      "text/html": [
       "<div>\n",
       "<style scoped>\n",
       "    .dataframe tbody tr th:only-of-type {\n",
       "        vertical-align: middle;\n",
       "    }\n",
       "\n",
       "    .dataframe tbody tr th {\n",
       "        vertical-align: top;\n",
       "    }\n",
       "\n",
       "    .dataframe thead th {\n",
       "        text-align: right;\n",
       "    }\n",
       "</style>\n",
       "<table border=\"1\" class=\"dataframe\">\n",
       "  <thead>\n",
       "    <tr style=\"text-align: right;\">\n",
       "      <th></th>\n",
       "      <th>ILOSC</th>\n",
       "    </tr>\n",
       "    <tr>\n",
       "      <th>RODZAJ</th>\n",
       "      <th></th>\n",
       "    </tr>\n",
       "  </thead>\n",
       "  <tbody>\n",
       "    <tr>\n",
       "      <th>140X250 PRZEL</th>\n",
       "      <td>457.0</td>\n",
       "    </tr>\n",
       "    <tr>\n",
       "      <th>0.38</th>\n",
       "      <td>424.0</td>\n",
       "    </tr>\n",
       "    <tr>\n",
       "      <th>0.61</th>\n",
       "      <td>300.0</td>\n",
       "    </tr>\n",
       "    <tr>\n",
       "      <th>70X140 (X3) 500</th>\n",
       "      <td>272.0</td>\n",
       "    </tr>\n",
       "    <tr>\n",
       "      <th>50X90  (X6) 500</th>\n",
       "      <td>248.0</td>\n",
       "    </tr>\n",
       "    <tr>\n",
       "      <th>...</th>\n",
       "      <td>...</td>\n",
       "    </tr>\n",
       "    <tr>\n",
       "      <th>0.70/1301 WHITE</th>\n",
       "      <td>0.3</td>\n",
       "    </tr>\n",
       "    <tr>\n",
       "      <th>0.90</th>\n",
       "      <td>0.3</td>\n",
       "    </tr>\n",
       "    <tr>\n",
       "      <th>0.90/1301 WHITE</th>\n",
       "      <td>0.3</td>\n",
       "    </tr>\n",
       "    <tr>\n",
       "      <th>0.45/1301 WHITE</th>\n",
       "      <td>0.3</td>\n",
       "    </tr>\n",
       "    <tr>\n",
       "      <th>300/5487 H6</th>\n",
       "      <td>0.3</td>\n",
       "    </tr>\n",
       "  </tbody>\n",
       "</table>\n",
       "<p>1578 rows × 1 columns</p>\n",
       "</div>"
      ],
      "text/plain": [
       "                 ILOSC\n",
       "RODZAJ                \n",
       "140X250 PRZEL    457.0\n",
       "0.38             424.0\n",
       "0.61             300.0\n",
       "70X140 (X3) 500  272.0\n",
       "50X90  (X6) 500  248.0\n",
       "...                ...\n",
       "0.70/1301 WHITE    0.3\n",
       "0.90               0.3\n",
       "0.90/1301 WHITE    0.3\n",
       "0.45/1301 WHITE    0.3\n",
       "300/5487 H6        0.3\n",
       "\n",
       "[1578 rows x 1 columns]"
      ]
     },
     "metadata": {},
     "output_type": "display_data"
    },
    {
     "data": {
      "text/plain": [
       "'FE'"
      ]
     },
     "metadata": {},
     "output_type": "display_data"
    },
    {
     "data": {
      "text/html": [
       "<div>\n",
       "<style scoped>\n",
       "    .dataframe tbody tr th:only-of-type {\n",
       "        vertical-align: middle;\n",
       "    }\n",
       "\n",
       "    .dataframe tbody tr th {\n",
       "        vertical-align: top;\n",
       "    }\n",
       "\n",
       "    .dataframe thead th {\n",
       "        text-align: right;\n",
       "    }\n",
       "</style>\n",
       "<table border=\"1\" class=\"dataframe\">\n",
       "  <thead>\n",
       "    <tr style=\"text-align: right;\">\n",
       "      <th></th>\n",
       "      <th>ILOSC</th>\n",
       "    </tr>\n",
       "    <tr>\n",
       "      <th>RODZAJ</th>\n",
       "      <th></th>\n",
       "    </tr>\n",
       "  </thead>\n",
       "  <tbody>\n",
       "    <tr>\n",
       "      <th>140X250 PRZEL</th>\n",
       "      <td>254.0</td>\n",
       "    </tr>\n",
       "    <tr>\n",
       "      <th>AB098-3</th>\n",
       "      <td>160.0</td>\n",
       "    </tr>\n",
       "    <tr>\n",
       "      <th>300/17489</th>\n",
       "      <td>155.6</td>\n",
       "    </tr>\n",
       "    <tr>\n",
       "      <th>300/WHITE</th>\n",
       "      <td>130.2</td>\n",
       "    </tr>\n",
       "    <tr>\n",
       "      <th>140X270 T</th>\n",
       "      <td>128.0</td>\n",
       "    </tr>\n",
       "    <tr>\n",
       "      <th>...</th>\n",
       "      <td>...</td>\n",
       "    </tr>\n",
       "    <tr>\n",
       "      <th>280/HRT-38685</th>\n",
       "      <td>0.6</td>\n",
       "    </tr>\n",
       "    <tr>\n",
       "      <th>300/12</th>\n",
       "      <td>0.6</td>\n",
       "    </tr>\n",
       "    <tr>\n",
       "      <th>280/81558</th>\n",
       "      <td>0.5</td>\n",
       "    </tr>\n",
       "    <tr>\n",
       "      <th>140/HRT-38711</th>\n",
       "      <td>0.5</td>\n",
       "    </tr>\n",
       "    <tr>\n",
       "      <th>0.60</th>\n",
       "      <td>0.5</td>\n",
       "    </tr>\n",
       "  </tbody>\n",
       "</table>\n",
       "<p>907 rows × 1 columns</p>\n",
       "</div>"
      ],
      "text/plain": [
       "               ILOSC\n",
       "RODZAJ              \n",
       "140X250 PRZEL  254.0\n",
       "AB098-3        160.0\n",
       "300/17489      155.6\n",
       "300/WHITE      130.2\n",
       "140X270 T      128.0\n",
       "...              ...\n",
       "280/HRT-38685    0.6\n",
       "300/12           0.6\n",
       "280/81558        0.5\n",
       "140/HRT-38711    0.5\n",
       "0.60             0.5\n",
       "\n",
       "[907 rows x 1 columns]"
      ]
     },
     "metadata": {},
     "output_type": "display_data"
    },
    {
     "data": {
      "text/plain": [
       "'OU'"
      ]
     },
     "metadata": {},
     "output_type": "display_data"
    },
    {
     "data": {
      "text/html": [
       "<div>\n",
       "<style scoped>\n",
       "    .dataframe tbody tr th:only-of-type {\n",
       "        vertical-align: middle;\n",
       "    }\n",
       "\n",
       "    .dataframe tbody tr th {\n",
       "        vertical-align: top;\n",
       "    }\n",
       "\n",
       "    .dataframe thead th {\n",
       "        text-align: right;\n",
       "    }\n",
       "</style>\n",
       "<table border=\"1\" class=\"dataframe\">\n",
       "  <thead>\n",
       "    <tr style=\"text-align: right;\">\n",
       "      <th></th>\n",
       "      <th>ILOSC</th>\n",
       "    </tr>\n",
       "    <tr>\n",
       "      <th>RODZAJ</th>\n",
       "      <th></th>\n",
       "    </tr>\n",
       "  </thead>\n",
       "  <tbody>\n",
       "    <tr>\n",
       "      <th>140X250 PRZEL</th>\n",
       "      <td>567.00</td>\n",
       "    </tr>\n",
       "    <tr>\n",
       "      <th>140X270 T</th>\n",
       "      <td>332.00</td>\n",
       "    </tr>\n",
       "    <tr>\n",
       "      <th>0.50</th>\n",
       "      <td>293.00</td>\n",
       "    </tr>\n",
       "    <tr>\n",
       "      <th>0.80</th>\n",
       "      <td>200.00</td>\n",
       "    </tr>\n",
       "    <tr>\n",
       "      <th>ZIEL</th>\n",
       "      <td>176.00</td>\n",
       "    </tr>\n",
       "    <tr>\n",
       "      <th>...</th>\n",
       "      <td>...</td>\n",
       "    </tr>\n",
       "    <tr>\n",
       "      <th>300/BEŻ+TURK</th>\n",
       "      <td>0.90</td>\n",
       "    </tr>\n",
       "    <tr>\n",
       "      <th>280/5</th>\n",
       "      <td>0.90</td>\n",
       "    </tr>\n",
       "    <tr>\n",
       "      <th>280/45151</th>\n",
       "      <td>0.75</td>\n",
       "    </tr>\n",
       "    <tr>\n",
       "      <th>280/WHITE 1301</th>\n",
       "      <td>0.50</td>\n",
       "    </tr>\n",
       "    <tr>\n",
       "      <th>AN REKLAMY</th>\n",
       "      <td>0.41</td>\n",
       "    </tr>\n",
       "  </tbody>\n",
       "</table>\n",
       "<p>2005 rows × 1 columns</p>\n",
       "</div>"
      ],
      "text/plain": [
       "                 ILOSC\n",
       "RODZAJ                \n",
       "140X250 PRZEL   567.00\n",
       "140X270 T       332.00\n",
       "0.50            293.00\n",
       "0.80            200.00\n",
       "ZIEL            176.00\n",
       "...                ...\n",
       "300/BEŻ+TURK      0.90\n",
       "280/5             0.90\n",
       "280/45151         0.75\n",
       "280/WHITE 1301    0.50\n",
       "AN REKLAMY        0.41\n",
       "\n",
       "[2005 rows x 1 columns]"
      ]
     },
     "metadata": {},
     "output_type": "display_data"
    }
   ],
   "source": [
    "for i in ['LI','FE', 'OU']:\n",
    "    display(i, df_fi.loc[df_fi['ANALIT01']==i].groupby('RODZAJ').agg({'ILOSC':'sum'}).sort_values(by='ILOSC', ascending=False))"
   ]
  },
  {
   "cell_type": "code",
   "execution_count": 105,
   "id": "c45a5926-a012-4abf-9ebf-e2c9c8ac65ec",
   "metadata": {},
   "outputs": [],
   "source": [
    "df_szac=func_read_data('f56szac')\n",
    "df_szac=func_numer_faktury(df_szac)\n",
    "df_szac=func_add_slownik(df_szac)\n",
    "df_szac=func_add_time(df_szac)\n",
    "df_szac['CENA_Z1']=func_str_to_float(df_szac['CENA_Z1'])\n",
    "df_szac['CENA_Z2']=func_str_to_float(df_szac['CENA_Z2'])"
   ]
  },
  {
   "cell_type": "code",
   "execution_count": 86,
   "id": "38d9de05-bf6e-4618-9440-2fa95ac4378f",
   "metadata": {},
   "outputs": [],
   "source": [
    "df_szac['uz_nr']=df_szac['UZASADNIEN'].apply(lambda x: x[-8:])"
   ]
  },
  {
   "cell_type": "code",
   "execution_count": 20,
   "id": "cc84cf66-5f86-4c43-9f7b-f428d59f6c67",
   "metadata": {},
   "outputs": [
    {
     "data": {
      "text/html": [
       "<div>\n",
       "<style scoped>\n",
       "    .dataframe tbody tr th:only-of-type {\n",
       "        vertical-align: middle;\n",
       "    }\n",
       "\n",
       "    .dataframe tbody tr th {\n",
       "        vertical-align: top;\n",
       "    }\n",
       "\n",
       "    .dataframe thead th {\n",
       "        text-align: right;\n",
       "    }\n",
       "</style>\n",
       "<table border=\"1\" class=\"dataframe\">\n",
       "  <thead>\n",
       "    <tr style=\"text-align: right;\">\n",
       "      <th></th>\n",
       "      <th>FAKTURA</th>\n",
       "    </tr>\n",
       "    <tr>\n",
       "      <th>OPIS</th>\n",
       "      <th></th>\n",
       "    </tr>\n",
       "  </thead>\n",
       "  <tbody>\n",
       "    <tr>\n",
       "      <th>,</th>\n",
       "      <td>1</td>\n",
       "    </tr>\n",
       "    <tr>\n",
       "      <th>KV5600000360 KF5622/00009</th>\n",
       "      <td>1</td>\n",
       "    </tr>\n",
       "    <tr>\n",
       "      <th>KV5600000359 KF5622/00008</th>\n",
       "      <td>1</td>\n",
       "    </tr>\n",
       "    <tr>\n",
       "      <th>KATIE/ZAS/ST+SRE 280</th>\n",
       "      <td>1</td>\n",
       "    </tr>\n",
       "    <tr>\n",
       "      <th>GRANIT/ZAS/POPI  285/29265-1</th>\n",
       "      <td>1</td>\n",
       "    </tr>\n",
       "    <tr>\n",
       "      <th>...</th>\n",
       "      <td>...</td>\n",
       "    </tr>\n",
       "    <tr>\n",
       "      <th>ADEN/B           300</th>\n",
       "      <td>6</td>\n",
       "    </tr>\n",
       "    <tr>\n",
       "      <th>Nowe pozycje stanu</th>\n",
       "      <td>11</td>\n",
       "    </tr>\n",
       "    <tr>\n",
       "      <th>Zmiana stanu</th>\n",
       "      <td>86</td>\n",
       "    </tr>\n",
       "    <tr>\n",
       "      <th>Podmiana</th>\n",
       "      <td>620</td>\n",
       "    </tr>\n",
       "    <tr>\n",
       "      <th>Przecena towaru</th>\n",
       "      <td>3266</td>\n",
       "    </tr>\n",
       "  </tbody>\n",
       "</table>\n",
       "<p>122 rows × 1 columns</p>\n",
       "</div>"
      ],
      "text/plain": [
       "                              FAKTURA\n",
       "OPIS                                 \n",
       ",                                   1\n",
       "KV5600000360 KF5622/00009           1\n",
       "KV5600000359 KF5622/00008           1\n",
       "KATIE/ZAS/ST+SRE 280                1\n",
       "GRANIT/ZAS/POPI  285/29265-1        1\n",
       "...                               ...\n",
       "ADEN/B           300                6\n",
       "Nowe pozycje stanu                 11\n",
       "Zmiana stanu                       86\n",
       "Podmiana                          620\n",
       "Przecena towaru                  3266\n",
       "\n",
       "[122 rows x 1 columns]"
      ]
     },
     "execution_count": 20,
     "metadata": {},
     "output_type": "execute_result"
    }
   ],
   "source": [
    "df_szac.groupby(['OPIS']).agg({'FAKTURA':'nunique'}).sort_values(by='FAKTURA')"
   ]
  },
  {
   "cell_type": "code",
   "execution_count": 80,
   "id": "dfc0dabe-3ae8-4b34-9909-07f83c3cbf3d",
   "metadata": {},
   "outputs": [
    {
     "data": {
      "text/html": [
       "<div>\n",
       "<style scoped>\n",
       "    .dataframe tbody tr th:only-of-type {\n",
       "        vertical-align: middle;\n",
       "    }\n",
       "\n",
       "    .dataframe tbody tr th {\n",
       "        vertical-align: top;\n",
       "    }\n",
       "\n",
       "    .dataframe thead th {\n",
       "        text-align: right;\n",
       "    }\n",
       "</style>\n",
       "<table border=\"1\" class=\"dataframe\">\n",
       "  <thead>\n",
       "    <tr style=\"text-align: right;\">\n",
       "      <th></th>\n",
       "      <th>FAKTURA_x</th>\n",
       "      <th>FAKTURA_FK</th>\n",
       "      <th>Z_DNIA_x</th>\n",
       "      <th>WARTOSC_B</th>\n",
       "      <th>KOD</th>\n",
       "      <th>OPIS_x</th>\n",
       "      <th>NAZWA</th>\n",
       "      <th>RODZAJ</th>\n",
       "      <th>KOD_TEMA_x</th>\n",
       "      <th>ILOSC</th>\n",
       "      <th>FAKTURA_NUMER_x</th>\n",
       "      <th>year_x</th>\n",
       "      <th>month_x</th>\n",
       "      <th>day_of_year_x</th>\n",
       "      <th>week_x</th>\n",
       "      <th>week_day_x</th>\n",
       "      <th>year_month_x</th>\n",
       "      <th>year_week_x</th>\n",
       "      <th>year_day_x</th>\n",
       "      <th>ANALIT01</th>\n",
       "      <th>ANALIT02</th>\n",
       "      <th>FAKTURA_y</th>\n",
       "      <th>FK</th>\n",
       "      <th>Z_DNIA_y</th>\n",
       "      <th>OPIS_y</th>\n",
       "      <th>TYP_PRZESZ</th>\n",
       "      <th>UZASADNIEN</th>\n",
       "      <th>NAZWA1</th>\n",
       "      <th>NAZWA2</th>\n",
       "      <th>KOD_TEMA_y</th>\n",
       "      <th>ILOSC1</th>\n",
       "      <th>ILOSC2</th>\n",
       "      <th>CENA_Z1</th>\n",
       "      <th>CENA_Z2</th>\n",
       "      <th>FAKTURA_NUMER_y</th>\n",
       "      <th>year_y</th>\n",
       "      <th>month_y</th>\n",
       "      <th>day_of_year_y</th>\n",
       "      <th>week_y</th>\n",
       "      <th>week_day_y</th>\n",
       "      <th>year_month_y</th>\n",
       "      <th>year_week_y</th>\n",
       "      <th>year_day_y</th>\n",
       "      <th>uz_nr</th>\n",
       "    </tr>\n",
       "  </thead>\n",
       "  <tbody>\n",
       "    <tr>\n",
       "      <th>0</th>\n",
       "      <td>MM5600139273</td>\n",
       "      <td></td>\n",
       "      <td>2022-04-05</td>\n",
       "      <td>32.53</td>\n",
       "      <td>K1</td>\n",
       "      <td>0</td>\n",
       "      <td>F/ZAS/INGRID/GF+</td>\n",
       "      <td>140X250 PRZEL</td>\n",
       "      <td>368329</td>\n",
       "      <td>1.0</td>\n",
       "      <td>00139273</td>\n",
       "      <td>2022</td>\n",
       "      <td>4</td>\n",
       "      <td>95</td>\n",
       "      <td>14</td>\n",
       "      <td>2</td>\n",
       "      <td>2022-04-01</td>\n",
       "      <td>2022--14</td>\n",
       "      <td>2022--095</td>\n",
       "      <td>OU</td>\n",
       "      <td>OUTLET</td>\n",
       "      <td>SC5600033841</td>\n",
       "      <td>N</td>\n",
       "      <td>2022-01-10</td>\n",
       "      <td>Przecena towaru</td>\n",
       "      <td>8</td>\n",
       "      <td>Na podstawie korekty: ZF5600139273</td>\n",
       "      <td>POS/ST/BLINK/2</td>\n",
       "      <td>POS/ST/BLINK/2</td>\n",
       "      <td>383308</td>\n",
       "      <td>1</td>\n",
       "      <td>0</td>\n",
       "      <td>58.63</td>\n",
       "      <td>58.63</td>\n",
       "      <td>00033841</td>\n",
       "      <td>2022</td>\n",
       "      <td>1</td>\n",
       "      <td>10</td>\n",
       "      <td>2</td>\n",
       "      <td>1</td>\n",
       "      <td>2022-01-01</td>\n",
       "      <td>2022--02</td>\n",
       "      <td>2022--010</td>\n",
       "      <td>00139273</td>\n",
       "    </tr>\n",
       "    <tr>\n",
       "      <th>1</th>\n",
       "      <td>MM5600139273</td>\n",
       "      <td></td>\n",
       "      <td>2022-04-05</td>\n",
       "      <td>32.53</td>\n",
       "      <td>K1</td>\n",
       "      <td>0</td>\n",
       "      <td>F/ZAS/INGRID/GF+</td>\n",
       "      <td>140X250 PRZEL</td>\n",
       "      <td>368329</td>\n",
       "      <td>1.0</td>\n",
       "      <td>00139273</td>\n",
       "      <td>2022</td>\n",
       "      <td>4</td>\n",
       "      <td>95</td>\n",
       "      <td>14</td>\n",
       "      <td>2</td>\n",
       "      <td>2022-04-01</td>\n",
       "      <td>2022--14</td>\n",
       "      <td>2022--095</td>\n",
       "      <td>OU</td>\n",
       "      <td>OUTLET</td>\n",
       "      <td>SC5600033841</td>\n",
       "      <td>N</td>\n",
       "      <td>2022-01-10</td>\n",
       "      <td>Przecena towaru</td>\n",
       "      <td>8</td>\n",
       "      <td>Na podstawie korekty: ZF5600139273</td>\n",
       "      <td>F/POS/ST/BLINK/2</td>\n",
       "      <td>F/POS/ST/BLINK/2</td>\n",
       "      <td>406273</td>\n",
       "      <td>0</td>\n",
       "      <td>1</td>\n",
       "      <td>58.63</td>\n",
       "      <td>58.63</td>\n",
       "      <td>00033841</td>\n",
       "      <td>2022</td>\n",
       "      <td>1</td>\n",
       "      <td>10</td>\n",
       "      <td>2</td>\n",
       "      <td>1</td>\n",
       "      <td>2022-01-01</td>\n",
       "      <td>2022--02</td>\n",
       "      <td>2022--010</td>\n",
       "      <td>00139273</td>\n",
       "    </tr>\n",
       "    <tr>\n",
       "      <th>2</th>\n",
       "      <td>MM5600139273</td>\n",
       "      <td></td>\n",
       "      <td>2022-04-05</td>\n",
       "      <td>32.53</td>\n",
       "      <td>K1</td>\n",
       "      <td>0</td>\n",
       "      <td>F/ZAS/INGRID/GF+</td>\n",
       "      <td>140X250 PRZEL</td>\n",
       "      <td>368329</td>\n",
       "      <td>1.0</td>\n",
       "      <td>00139273</td>\n",
       "      <td>2022</td>\n",
       "      <td>4</td>\n",
       "      <td>95</td>\n",
       "      <td>14</td>\n",
       "      <td>2</td>\n",
       "      <td>2022-04-01</td>\n",
       "      <td>2022--14</td>\n",
       "      <td>2022--095</td>\n",
       "      <td>OU</td>\n",
       "      <td>OUTLET</td>\n",
       "      <td>SC5600033841</td>\n",
       "      <td>N</td>\n",
       "      <td>2022-01-10</td>\n",
       "      <td>Przecena towaru</td>\n",
       "      <td>8</td>\n",
       "      <td>Na podstawie korekty: ZF5600139273</td>\n",
       "      <td>MS/POS/ST/AIDA</td>\n",
       "      <td>MS/POS/ST/AIDA</td>\n",
       "      <td>364528</td>\n",
       "      <td>1</td>\n",
       "      <td>0</td>\n",
       "      <td>90.61</td>\n",
       "      <td>90.61</td>\n",
       "      <td>00033841</td>\n",
       "      <td>2022</td>\n",
       "      <td>1</td>\n",
       "      <td>10</td>\n",
       "      <td>2</td>\n",
       "      <td>1</td>\n",
       "      <td>2022-01-01</td>\n",
       "      <td>2022--02</td>\n",
       "      <td>2022--010</td>\n",
       "      <td>00139273</td>\n",
       "    </tr>\n",
       "    <tr>\n",
       "      <th>3</th>\n",
       "      <td>MM5600139273</td>\n",
       "      <td></td>\n",
       "      <td>2022-04-05</td>\n",
       "      <td>32.53</td>\n",
       "      <td>K1</td>\n",
       "      <td>0</td>\n",
       "      <td>F/ZAS/INGRID/GF+</td>\n",
       "      <td>140X250 PRZEL</td>\n",
       "      <td>368329</td>\n",
       "      <td>1.0</td>\n",
       "      <td>00139273</td>\n",
       "      <td>2022</td>\n",
       "      <td>4</td>\n",
       "      <td>95</td>\n",
       "      <td>14</td>\n",
       "      <td>2</td>\n",
       "      <td>2022-04-01</td>\n",
       "      <td>2022--14</td>\n",
       "      <td>2022--095</td>\n",
       "      <td>OU</td>\n",
       "      <td>OUTLET</td>\n",
       "      <td>SC5600033841</td>\n",
       "      <td>N</td>\n",
       "      <td>2022-01-10</td>\n",
       "      <td>Przecena towaru</td>\n",
       "      <td>8</td>\n",
       "      <td>Na podstawie korekty: ZF5600139273</td>\n",
       "      <td>F/MS/POS/ST/AIDA</td>\n",
       "      <td>F/MS/POS/ST/AIDA</td>\n",
       "      <td>381174</td>\n",
       "      <td>0</td>\n",
       "      <td>1</td>\n",
       "      <td>90.61</td>\n",
       "      <td>90.61</td>\n",
       "      <td>00033841</td>\n",
       "      <td>2022</td>\n",
       "      <td>1</td>\n",
       "      <td>10</td>\n",
       "      <td>2</td>\n",
       "      <td>1</td>\n",
       "      <td>2022-01-01</td>\n",
       "      <td>2022--02</td>\n",
       "      <td>2022--010</td>\n",
       "      <td>00139273</td>\n",
       "    </tr>\n",
       "    <tr>\n",
       "      <th>4</th>\n",
       "      <td>MM5600139273</td>\n",
       "      <td></td>\n",
       "      <td>2022-04-05</td>\n",
       "      <td>32.53</td>\n",
       "      <td>K1</td>\n",
       "      <td>0</td>\n",
       "      <td>F/ZAS/INGRID/GF+</td>\n",
       "      <td>140X250 PRZEL</td>\n",
       "      <td>368329</td>\n",
       "      <td>1.0</td>\n",
       "      <td>00139273</td>\n",
       "      <td>2022</td>\n",
       "      <td>4</td>\n",
       "      <td>95</td>\n",
       "      <td>14</td>\n",
       "      <td>2</td>\n",
       "      <td>2022-04-01</td>\n",
       "      <td>2022--14</td>\n",
       "      <td>2022--095</td>\n",
       "      <td>OU</td>\n",
       "      <td>OUTLET</td>\n",
       "      <td>SC5600033841</td>\n",
       "      <td>N</td>\n",
       "      <td>2022-01-10</td>\n",
       "      <td>Przecena towaru</td>\n",
       "      <td>8</td>\n",
       "      <td>Na podstawie korekty: ZF5600139273</td>\n",
       "      <td>CHP/STELA/K+ZŁOT</td>\n",
       "      <td>CHP/STELA/K+ZŁOT</td>\n",
       "      <td>381911</td>\n",
       "      <td>1</td>\n",
       "      <td>0</td>\n",
       "      <td>8.38</td>\n",
       "      <td>8.38</td>\n",
       "      <td>00033841</td>\n",
       "      <td>2022</td>\n",
       "      <td>1</td>\n",
       "      <td>10</td>\n",
       "      <td>2</td>\n",
       "      <td>1</td>\n",
       "      <td>2022-01-01</td>\n",
       "      <td>2022--02</td>\n",
       "      <td>2022--010</td>\n",
       "      <td>00139273</td>\n",
       "    </tr>\n",
       "    <tr>\n",
       "      <th>...</th>\n",
       "      <td>...</td>\n",
       "      <td>...</td>\n",
       "      <td>...</td>\n",
       "      <td>...</td>\n",
       "      <td>...</td>\n",
       "      <td>...</td>\n",
       "      <td>...</td>\n",
       "      <td>...</td>\n",
       "      <td>...</td>\n",
       "      <td>...</td>\n",
       "      <td>...</td>\n",
       "      <td>...</td>\n",
       "      <td>...</td>\n",
       "      <td>...</td>\n",
       "      <td>...</td>\n",
       "      <td>...</td>\n",
       "      <td>...</td>\n",
       "      <td>...</td>\n",
       "      <td>...</td>\n",
       "      <td>...</td>\n",
       "      <td>...</td>\n",
       "      <td>...</td>\n",
       "      <td>...</td>\n",
       "      <td>...</td>\n",
       "      <td>...</td>\n",
       "      <td>...</td>\n",
       "      <td>...</td>\n",
       "      <td>...</td>\n",
       "      <td>...</td>\n",
       "      <td>...</td>\n",
       "      <td>...</td>\n",
       "      <td>...</td>\n",
       "      <td>...</td>\n",
       "      <td>...</td>\n",
       "      <td>...</td>\n",
       "      <td>...</td>\n",
       "      <td>...</td>\n",
       "      <td>...</td>\n",
       "      <td>...</td>\n",
       "      <td>...</td>\n",
       "      <td>...</td>\n",
       "      <td>...</td>\n",
       "      <td>...</td>\n",
       "      <td>...</td>\n",
       "    </tr>\n",
       "    <tr>\n",
       "      <th>407</th>\n",
       "      <td>MM5600147769</td>\n",
       "      <td></td>\n",
       "      <td>2022-06-20</td>\n",
       "      <td>653.38</td>\n",
       "      <td>00</td>\n",
       "      <td>38</td>\n",
       "      <td>ZAS/RIA/K</td>\n",
       "      <td>140X250 PRZE 10</td>\n",
       "      <td>366802</td>\n",
       "      <td>2.0</td>\n",
       "      <td>00147769</td>\n",
       "      <td>2022</td>\n",
       "      <td>6</td>\n",
       "      <td>171</td>\n",
       "      <td>25</td>\n",
       "      <td>1</td>\n",
       "      <td>2022-06-01</td>\n",
       "      <td>2022--25</td>\n",
       "      <td>2022--171</td>\n",
       "      <td>00</td>\n",
       "      <td>MAGAZYN_00</td>\n",
       "      <td>SC5600034162</td>\n",
       "      <td>N</td>\n",
       "      <td>2022-01-26</td>\n",
       "      <td>Przecena towaru</td>\n",
       "      <td>8</td>\n",
       "      <td>Na podstawie korekty: ZF5600147769</td>\n",
       "      <td>F/FIR/BELISSA/B</td>\n",
       "      <td>F/FIR/BELISSA/B</td>\n",
       "      <td>404980</td>\n",
       "      <td>0</td>\n",
       "      <td>1</td>\n",
       "      <td>26.89</td>\n",
       "      <td>26.89</td>\n",
       "      <td>00034162</td>\n",
       "      <td>2022</td>\n",
       "      <td>1</td>\n",
       "      <td>26</td>\n",
       "      <td>4</td>\n",
       "      <td>3</td>\n",
       "      <td>2022-01-01</td>\n",
       "      <td>2022--04</td>\n",
       "      <td>2022--026</td>\n",
       "      <td>00147769</td>\n",
       "    </tr>\n",
       "    <tr>\n",
       "      <th>408</th>\n",
       "      <td>MM5600147769</td>\n",
       "      <td></td>\n",
       "      <td>2022-06-20</td>\n",
       "      <td>653.38</td>\n",
       "      <td>00</td>\n",
       "      <td>38</td>\n",
       "      <td>ZAS/ADELLE/STA</td>\n",
       "      <td>140X250 PRZEL</td>\n",
       "      <td>367154</td>\n",
       "      <td>2.0</td>\n",
       "      <td>00147769</td>\n",
       "      <td>2022</td>\n",
       "      <td>6</td>\n",
       "      <td>171</td>\n",
       "      <td>25</td>\n",
       "      <td>1</td>\n",
       "      <td>2022-06-01</td>\n",
       "      <td>2022--25</td>\n",
       "      <td>2022--171</td>\n",
       "      <td>00</td>\n",
       "      <td>MAGAZYN_00</td>\n",
       "      <td>SC5600034162</td>\n",
       "      <td>N</td>\n",
       "      <td>2022-01-26</td>\n",
       "      <td>Przecena towaru</td>\n",
       "      <td>8</td>\n",
       "      <td>Na podstawie korekty: ZF5600147769</td>\n",
       "      <td>FIR/BELISSA/B</td>\n",
       "      <td>FIR/BELISSA/B</td>\n",
       "      <td>390143</td>\n",
       "      <td>1</td>\n",
       "      <td>0</td>\n",
       "      <td>26.89</td>\n",
       "      <td>26.89</td>\n",
       "      <td>00034162</td>\n",
       "      <td>2022</td>\n",
       "      <td>1</td>\n",
       "      <td>26</td>\n",
       "      <td>4</td>\n",
       "      <td>3</td>\n",
       "      <td>2022-01-01</td>\n",
       "      <td>2022--04</td>\n",
       "      <td>2022--026</td>\n",
       "      <td>00147769</td>\n",
       "    </tr>\n",
       "    <tr>\n",
       "      <th>409</th>\n",
       "      <td>MM5600147769</td>\n",
       "      <td></td>\n",
       "      <td>2022-06-20</td>\n",
       "      <td>653.38</td>\n",
       "      <td>00</td>\n",
       "      <td>38</td>\n",
       "      <td>ZAS/ADELLE/STA</td>\n",
       "      <td>140X250 PRZEL</td>\n",
       "      <td>367154</td>\n",
       "      <td>2.0</td>\n",
       "      <td>00147769</td>\n",
       "      <td>2022</td>\n",
       "      <td>6</td>\n",
       "      <td>171</td>\n",
       "      <td>25</td>\n",
       "      <td>1</td>\n",
       "      <td>2022-06-01</td>\n",
       "      <td>2022--25</td>\n",
       "      <td>2022--171</td>\n",
       "      <td>00</td>\n",
       "      <td>MAGAZYN_00</td>\n",
       "      <td>SC5600034162</td>\n",
       "      <td>N</td>\n",
       "      <td>2022-01-26</td>\n",
       "      <td>Przecena towaru</td>\n",
       "      <td>8</td>\n",
       "      <td>Na podstawie korekty: ZF5600147769</td>\n",
       "      <td>F/FIR/BELISSA/B</td>\n",
       "      <td>F/FIR/BELISSA/B</td>\n",
       "      <td>404980</td>\n",
       "      <td>0</td>\n",
       "      <td>1</td>\n",
       "      <td>26.89</td>\n",
       "      <td>26.89</td>\n",
       "      <td>00034162</td>\n",
       "      <td>2022</td>\n",
       "      <td>1</td>\n",
       "      <td>26</td>\n",
       "      <td>4</td>\n",
       "      <td>3</td>\n",
       "      <td>2022-01-01</td>\n",
       "      <td>2022--04</td>\n",
       "      <td>2022--026</td>\n",
       "      <td>00147769</td>\n",
       "    </tr>\n",
       "    <tr>\n",
       "      <th>410</th>\n",
       "      <td>MM5600147769</td>\n",
       "      <td></td>\n",
       "      <td>2022-06-20</td>\n",
       "      <td>653.38</td>\n",
       "      <td>00</td>\n",
       "      <td>38</td>\n",
       "      <td>LC/LOTOS4/ZAS</td>\n",
       "      <td>140X250 PRZEL TUR+ZŁ</td>\n",
       "      <td>394391</td>\n",
       "      <td>2.0</td>\n",
       "      <td>00147769</td>\n",
       "      <td>2022</td>\n",
       "      <td>6</td>\n",
       "      <td>171</td>\n",
       "      <td>25</td>\n",
       "      <td>1</td>\n",
       "      <td>2022-06-01</td>\n",
       "      <td>2022--25</td>\n",
       "      <td>2022--171</td>\n",
       "      <td>00</td>\n",
       "      <td>MAGAZYN_00</td>\n",
       "      <td>SC5600034162</td>\n",
       "      <td>N</td>\n",
       "      <td>2022-01-26</td>\n",
       "      <td>Przecena towaru</td>\n",
       "      <td>8</td>\n",
       "      <td>Na podstawie korekty: ZF5600147769</td>\n",
       "      <td>FIR/BELISSA/B</td>\n",
       "      <td>FIR/BELISSA/B</td>\n",
       "      <td>390143</td>\n",
       "      <td>1</td>\n",
       "      <td>0</td>\n",
       "      <td>26.89</td>\n",
       "      <td>26.89</td>\n",
       "      <td>00034162</td>\n",
       "      <td>2022</td>\n",
       "      <td>1</td>\n",
       "      <td>26</td>\n",
       "      <td>4</td>\n",
       "      <td>3</td>\n",
       "      <td>2022-01-01</td>\n",
       "      <td>2022--04</td>\n",
       "      <td>2022--026</td>\n",
       "      <td>00147769</td>\n",
       "    </tr>\n",
       "    <tr>\n",
       "      <th>411</th>\n",
       "      <td>MM5600147769</td>\n",
       "      <td></td>\n",
       "      <td>2022-06-20</td>\n",
       "      <td>653.38</td>\n",
       "      <td>00</td>\n",
       "      <td>38</td>\n",
       "      <td>LC/LOTOS4/ZAS</td>\n",
       "      <td>140X250 PRZEL TUR+ZŁ</td>\n",
       "      <td>394391</td>\n",
       "      <td>2.0</td>\n",
       "      <td>00147769</td>\n",
       "      <td>2022</td>\n",
       "      <td>6</td>\n",
       "      <td>171</td>\n",
       "      <td>25</td>\n",
       "      <td>1</td>\n",
       "      <td>2022-06-01</td>\n",
       "      <td>2022--25</td>\n",
       "      <td>2022--171</td>\n",
       "      <td>00</td>\n",
       "      <td>MAGAZYN_00</td>\n",
       "      <td>SC5600034162</td>\n",
       "      <td>N</td>\n",
       "      <td>2022-01-26</td>\n",
       "      <td>Przecena towaru</td>\n",
       "      <td>8</td>\n",
       "      <td>Na podstawie korekty: ZF5600147769</td>\n",
       "      <td>F/FIR/BELISSA/B</td>\n",
       "      <td>F/FIR/BELISSA/B</td>\n",
       "      <td>404980</td>\n",
       "      <td>0</td>\n",
       "      <td>1</td>\n",
       "      <td>26.89</td>\n",
       "      <td>26.89</td>\n",
       "      <td>00034162</td>\n",
       "      <td>2022</td>\n",
       "      <td>1</td>\n",
       "      <td>26</td>\n",
       "      <td>4</td>\n",
       "      <td>3</td>\n",
       "      <td>2022-01-01</td>\n",
       "      <td>2022--04</td>\n",
       "      <td>2022--026</td>\n",
       "      <td>00147769</td>\n",
       "    </tr>\n",
       "  </tbody>\n",
       "</table>\n",
       "<p>412 rows × 44 columns</p>\n",
       "</div>"
      ],
      "text/plain": [
       "        FAKTURA_x FAKTURA_FK   Z_DNIA_x  WARTOSC_B KOD  OPIS_x  \\\n",
       "0    MM5600139273            2022-04-05      32.53  K1       0   \n",
       "1    MM5600139273            2022-04-05      32.53  K1       0   \n",
       "2    MM5600139273            2022-04-05      32.53  K1       0   \n",
       "3    MM5600139273            2022-04-05      32.53  K1       0   \n",
       "4    MM5600139273            2022-04-05      32.53  K1       0   \n",
       "..            ...        ...        ...        ...  ..     ...   \n",
       "407  MM5600147769            2022-06-20     653.38  00      38   \n",
       "408  MM5600147769            2022-06-20     653.38  00      38   \n",
       "409  MM5600147769            2022-06-20     653.38  00      38   \n",
       "410  MM5600147769            2022-06-20     653.38  00      38   \n",
       "411  MM5600147769            2022-06-20     653.38  00      38   \n",
       "\n",
       "                NAZWA                RODZAJ  KOD_TEMA_x  ILOSC  \\\n",
       "0    F/ZAS/INGRID/GF+         140X250 PRZEL      368329    1.0   \n",
       "1    F/ZAS/INGRID/GF+         140X250 PRZEL      368329    1.0   \n",
       "2    F/ZAS/INGRID/GF+         140X250 PRZEL      368329    1.0   \n",
       "3    F/ZAS/INGRID/GF+         140X250 PRZEL      368329    1.0   \n",
       "4    F/ZAS/INGRID/GF+         140X250 PRZEL      368329    1.0   \n",
       "..                ...                   ...         ...    ...   \n",
       "407         ZAS/RIA/K       140X250 PRZE 10      366802    2.0   \n",
       "408    ZAS/ADELLE/STA         140X250 PRZEL      367154    2.0   \n",
       "409    ZAS/ADELLE/STA         140X250 PRZEL      367154    2.0   \n",
       "410     LC/LOTOS4/ZAS  140X250 PRZEL TUR+ZŁ      394391    2.0   \n",
       "411     LC/LOTOS4/ZAS  140X250 PRZEL TUR+ZŁ      394391    2.0   \n",
       "\n",
       "    FAKTURA_NUMER_x  year_x  month_x  day_of_year_x  week_x  week_day_x  \\\n",
       "0          00139273    2022        4             95      14           2   \n",
       "1          00139273    2022        4             95      14           2   \n",
       "2          00139273    2022        4             95      14           2   \n",
       "3          00139273    2022        4             95      14           2   \n",
       "4          00139273    2022        4             95      14           2   \n",
       "..              ...     ...      ...            ...     ...         ...   \n",
       "407        00147769    2022        6            171      25           1   \n",
       "408        00147769    2022        6            171      25           1   \n",
       "409        00147769    2022        6            171      25           1   \n",
       "410        00147769    2022        6            171      25           1   \n",
       "411        00147769    2022        6            171      25           1   \n",
       "\n",
       "    year_month_x year_week_x year_day_x ANALIT01    ANALIT02     FAKTURA_y FK  \\\n",
       "0     2022-04-01    2022--14  2022--095       OU      OUTLET  SC5600033841  N   \n",
       "1     2022-04-01    2022--14  2022--095       OU      OUTLET  SC5600033841  N   \n",
       "2     2022-04-01    2022--14  2022--095       OU      OUTLET  SC5600033841  N   \n",
       "3     2022-04-01    2022--14  2022--095       OU      OUTLET  SC5600033841  N   \n",
       "4     2022-04-01    2022--14  2022--095       OU      OUTLET  SC5600033841  N   \n",
       "..           ...         ...        ...      ...         ...           ... ..   \n",
       "407   2022-06-01    2022--25  2022--171       00  MAGAZYN_00  SC5600034162  N   \n",
       "408   2022-06-01    2022--25  2022--171       00  MAGAZYN_00  SC5600034162  N   \n",
       "409   2022-06-01    2022--25  2022--171       00  MAGAZYN_00  SC5600034162  N   \n",
       "410   2022-06-01    2022--25  2022--171       00  MAGAZYN_00  SC5600034162  N   \n",
       "411   2022-06-01    2022--25  2022--171       00  MAGAZYN_00  SC5600034162  N   \n",
       "\n",
       "      Z_DNIA_y           OPIS_y TYP_PRZESZ  \\\n",
       "0   2022-01-10  Przecena towaru          8   \n",
       "1   2022-01-10  Przecena towaru          8   \n",
       "2   2022-01-10  Przecena towaru          8   \n",
       "3   2022-01-10  Przecena towaru          8   \n",
       "4   2022-01-10  Przecena towaru          8   \n",
       "..         ...              ...        ...   \n",
       "407 2022-01-26  Przecena towaru          8   \n",
       "408 2022-01-26  Przecena towaru          8   \n",
       "409 2022-01-26  Przecena towaru          8   \n",
       "410 2022-01-26  Przecena towaru          8   \n",
       "411 2022-01-26  Przecena towaru          8   \n",
       "\n",
       "                             UZASADNIEN            NAZWA1            NAZWA2  \\\n",
       "0    Na podstawie korekty: ZF5600139273    POS/ST/BLINK/2    POS/ST/BLINK/2   \n",
       "1    Na podstawie korekty: ZF5600139273  F/POS/ST/BLINK/2  F/POS/ST/BLINK/2   \n",
       "2    Na podstawie korekty: ZF5600139273    MS/POS/ST/AIDA    MS/POS/ST/AIDA   \n",
       "3    Na podstawie korekty: ZF5600139273  F/MS/POS/ST/AIDA  F/MS/POS/ST/AIDA   \n",
       "4    Na podstawie korekty: ZF5600139273  CHP/STELA/K+ZŁOT  CHP/STELA/K+ZŁOT   \n",
       "..                                  ...               ...               ...   \n",
       "407  Na podstawie korekty: ZF5600147769   F/FIR/BELISSA/B   F/FIR/BELISSA/B   \n",
       "408  Na podstawie korekty: ZF5600147769     FIR/BELISSA/B     FIR/BELISSA/B   \n",
       "409  Na podstawie korekty: ZF5600147769   F/FIR/BELISSA/B   F/FIR/BELISSA/B   \n",
       "410  Na podstawie korekty: ZF5600147769     FIR/BELISSA/B     FIR/BELISSA/B   \n",
       "411  Na podstawie korekty: ZF5600147769   F/FIR/BELISSA/B   F/FIR/BELISSA/B   \n",
       "\n",
       "     KOD_TEMA_y ILOSC1 ILOSC2  CENA_Z1  CENA_Z2 FAKTURA_NUMER_y  year_y  \\\n",
       "0        383308      1      0    58.63    58.63        00033841    2022   \n",
       "1        406273      0      1    58.63    58.63        00033841    2022   \n",
       "2        364528      1      0    90.61    90.61        00033841    2022   \n",
       "3        381174      0      1    90.61    90.61        00033841    2022   \n",
       "4        381911      1      0     8.38     8.38        00033841    2022   \n",
       "..          ...    ...    ...      ...      ...             ...     ...   \n",
       "407      404980      0      1    26.89    26.89        00034162    2022   \n",
       "408      390143      1      0    26.89    26.89        00034162    2022   \n",
       "409      404980      0      1    26.89    26.89        00034162    2022   \n",
       "410      390143      1      0    26.89    26.89        00034162    2022   \n",
       "411      404980      0      1    26.89    26.89        00034162    2022   \n",
       "\n",
       "     month_y  day_of_year_y  week_y  week_day_y year_month_y year_week_y  \\\n",
       "0          1             10       2           1   2022-01-01    2022--02   \n",
       "1          1             10       2           1   2022-01-01    2022--02   \n",
       "2          1             10       2           1   2022-01-01    2022--02   \n",
       "3          1             10       2           1   2022-01-01    2022--02   \n",
       "4          1             10       2           1   2022-01-01    2022--02   \n",
       "..       ...            ...     ...         ...          ...         ...   \n",
       "407        1             26       4           3   2022-01-01    2022--04   \n",
       "408        1             26       4           3   2022-01-01    2022--04   \n",
       "409        1             26       4           3   2022-01-01    2022--04   \n",
       "410        1             26       4           3   2022-01-01    2022--04   \n",
       "411        1             26       4           3   2022-01-01    2022--04   \n",
       "\n",
       "    year_day_y     uz_nr  \n",
       "0    2022--010  00139273  \n",
       "1    2022--010  00139273  \n",
       "2    2022--010  00139273  \n",
       "3    2022--010  00139273  \n",
       "4    2022--010  00139273  \n",
       "..         ...       ...  \n",
       "407  2022--026  00147769  \n",
       "408  2022--026  00147769  \n",
       "409  2022--026  00147769  \n",
       "410  2022--026  00147769  \n",
       "411  2022--026  00147769  \n",
       "\n",
       "[412 rows x 44 columns]"
      ]
     },
     "execution_count": 80,
     "metadata": {},
     "output_type": "execute_result"
    }
   ],
   "source": [
    "df_fi.merge(df_szac, how='inner', left_on='FAKTURA_NUMER', right_on='uz_nr')"
   ]
  },
  {
   "cell_type": "code",
   "execution_count": 81,
   "id": "93fd7184-eb33-4ead-b777-816ab7445cf0",
   "metadata": {},
   "outputs": [
    {
     "data": {
      "text/html": [
       "<div>\n",
       "<style scoped>\n",
       "    .dataframe tbody tr th:only-of-type {\n",
       "        vertical-align: middle;\n",
       "    }\n",
       "\n",
       "    .dataframe tbody tr th {\n",
       "        vertical-align: top;\n",
       "    }\n",
       "\n",
       "    .dataframe thead th {\n",
       "        text-align: right;\n",
       "    }\n",
       "</style>\n",
       "<table border=\"1\" class=\"dataframe\">\n",
       "  <thead>\n",
       "    <tr style=\"text-align: right;\">\n",
       "      <th></th>\n",
       "      <th>FAKTURA</th>\n",
       "      <th>FAKTURA_FK</th>\n",
       "      <th>Z_DNIA</th>\n",
       "      <th>WARTOSC_B</th>\n",
       "      <th>KOD</th>\n",
       "      <th>OPIS</th>\n",
       "      <th>NAZWA</th>\n",
       "      <th>RODZAJ</th>\n",
       "      <th>KOD_TEMA</th>\n",
       "      <th>ILOSC</th>\n",
       "      <th>FAKTURA_NUMER</th>\n",
       "      <th>year</th>\n",
       "      <th>month</th>\n",
       "      <th>day_of_year</th>\n",
       "      <th>week</th>\n",
       "      <th>week_day</th>\n",
       "      <th>year_month</th>\n",
       "      <th>year_week</th>\n",
       "      <th>year_day</th>\n",
       "      <th>ANALIT01</th>\n",
       "      <th>ANALIT02</th>\n",
       "    </tr>\n",
       "  </thead>\n",
       "  <tbody>\n",
       "    <tr>\n",
       "      <th>41554</th>\n",
       "      <td>MM5600139273</td>\n",
       "      <td></td>\n",
       "      <td>2022-04-05</td>\n",
       "      <td>32.53</td>\n",
       "      <td>K1</td>\n",
       "      <td>0</td>\n",
       "      <td>F/ZAS/INGRID/GF+</td>\n",
       "      <td>140X250 PRZEL</td>\n",
       "      <td>368329</td>\n",
       "      <td>1.0</td>\n",
       "      <td>00139273</td>\n",
       "      <td>2022</td>\n",
       "      <td>4</td>\n",
       "      <td>95</td>\n",
       "      <td>14</td>\n",
       "      <td>2</td>\n",
       "      <td>2022-04-01</td>\n",
       "      <td>2022--14</td>\n",
       "      <td>2022--095</td>\n",
       "      <td>OU</td>\n",
       "      <td>OUTLET</td>\n",
       "    </tr>\n",
       "  </tbody>\n",
       "</table>\n",
       "</div>"
      ],
      "text/plain": [
       "            FAKTURA FAKTURA_FK     Z_DNIA  WARTOSC_B KOD  OPIS  \\\n",
       "41554  MM5600139273            2022-04-05      32.53  K1     0   \n",
       "\n",
       "                  NAZWA         RODZAJ  KOD_TEMA  ILOSC FAKTURA_NUMER  year  \\\n",
       "41554  F/ZAS/INGRID/GF+  140X250 PRZEL    368329    1.0      00139273  2022   \n",
       "\n",
       "       month  day_of_year  week  week_day year_month year_week   year_day  \\\n",
       "41554      4           95    14         2 2022-04-01  2022--14  2022--095   \n",
       "\n",
       "      ANALIT01 ANALIT02  \n",
       "41554       OU   OUTLET  "
      ]
     },
     "execution_count": 81,
     "metadata": {},
     "output_type": "execute_result"
    }
   ],
   "source": [
    "df_fi.loc[df_fi['FAKTURA_NUMER']=='00139273']"
   ]
  },
  {
   "cell_type": "code",
   "execution_count": 87,
   "id": "13c13c92-ae2e-4c4b-8774-e262902ade4e",
   "metadata": {},
   "outputs": [
    {
     "data": {
      "text/html": [
       "<div>\n",
       "<style scoped>\n",
       "    .dataframe tbody tr th:only-of-type {\n",
       "        vertical-align: middle;\n",
       "    }\n",
       "\n",
       "    .dataframe tbody tr th {\n",
       "        vertical-align: top;\n",
       "    }\n",
       "\n",
       "    .dataframe thead th {\n",
       "        text-align: right;\n",
       "    }\n",
       "</style>\n",
       "<table border=\"1\" class=\"dataframe\">\n",
       "  <thead>\n",
       "    <tr style=\"text-align: right;\">\n",
       "      <th></th>\n",
       "      <th>FAKTURA</th>\n",
       "      <th>FK</th>\n",
       "      <th>Z_DNIA</th>\n",
       "      <th>OPIS</th>\n",
       "      <th>TYP_PRZESZ</th>\n",
       "      <th>UZASADNIEN</th>\n",
       "      <th>NAZWA1</th>\n",
       "      <th>NAZWA2</th>\n",
       "      <th>RODZAJ1</th>\n",
       "      <th>RODZAJ2</th>\n",
       "      <th>KOD_TEMA</th>\n",
       "      <th>ILOSC1</th>\n",
       "      <th>ILOSC2</th>\n",
       "      <th>CENA_Z1</th>\n",
       "      <th>CENA_Z2</th>\n",
       "      <th>FAKTURA_NUMER</th>\n",
       "      <th>year</th>\n",
       "      <th>month</th>\n",
       "      <th>day_of_year</th>\n",
       "      <th>week</th>\n",
       "      <th>week_day</th>\n",
       "      <th>year_month</th>\n",
       "      <th>year_week</th>\n",
       "      <th>year_day</th>\n",
       "      <th>uz_nr</th>\n",
       "    </tr>\n",
       "  </thead>\n",
       "  <tbody>\n",
       "    <tr>\n",
       "      <th>2343</th>\n",
       "      <td>SC5600033841</td>\n",
       "      <td>N</td>\n",
       "      <td>2022-01-10</td>\n",
       "      <td>Przecena towaru</td>\n",
       "      <td>8</td>\n",
       "      <td>Na podstawie korekty: ZF5600139273</td>\n",
       "      <td>POS/ST/BLINK/2</td>\n",
       "      <td>POS/ST/BLINK/2</td>\n",
       "      <td>220X200 70X80/X2 CZA</td>\n",
       "      <td>220X200 70X80/X2 CZA</td>\n",
       "      <td>383308</td>\n",
       "      <td>1</td>\n",
       "      <td>0</td>\n",
       "      <td>58.63</td>\n",
       "      <td>58.63</td>\n",
       "      <td>00033841</td>\n",
       "      <td>2022</td>\n",
       "      <td>1</td>\n",
       "      <td>10</td>\n",
       "      <td>2</td>\n",
       "      <td>1</td>\n",
       "      <td>2022-01-01</td>\n",
       "      <td>2022--02</td>\n",
       "      <td>2022--010</td>\n",
       "      <td>00139273</td>\n",
       "    </tr>\n",
       "    <tr>\n",
       "      <th>2344</th>\n",
       "      <td>SC5600033841</td>\n",
       "      <td>N</td>\n",
       "      <td>2022-01-10</td>\n",
       "      <td>Przecena towaru</td>\n",
       "      <td>8</td>\n",
       "      <td>Na podstawie korekty: ZF5600139273</td>\n",
       "      <td>F/POS/ST/BLINK/2</td>\n",
       "      <td>F/POS/ST/BLINK/2</td>\n",
       "      <td>220X200 70X80/X2 CZA</td>\n",
       "      <td>220X200 70X80/X2 CZA</td>\n",
       "      <td>406273</td>\n",
       "      <td>0</td>\n",
       "      <td>1</td>\n",
       "      <td>58.63</td>\n",
       "      <td>58.63</td>\n",
       "      <td>00033841</td>\n",
       "      <td>2022</td>\n",
       "      <td>1</td>\n",
       "      <td>10</td>\n",
       "      <td>2</td>\n",
       "      <td>1</td>\n",
       "      <td>2022-01-01</td>\n",
       "      <td>2022--02</td>\n",
       "      <td>2022--010</td>\n",
       "      <td>00139273</td>\n",
       "    </tr>\n",
       "    <tr>\n",
       "      <th>2345</th>\n",
       "      <td>SC5600033841</td>\n",
       "      <td>N</td>\n",
       "      <td>2022-01-10</td>\n",
       "      <td>Przecena towaru</td>\n",
       "      <td>8</td>\n",
       "      <td>Na podstawie korekty: ZF5600139273</td>\n",
       "      <td>MS/POS/ST/AIDA</td>\n",
       "      <td>MS/POS/ST/AIDA</td>\n",
       "      <td>220X200 70X80/X2</td>\n",
       "      <td>220X200 70X80/X2</td>\n",
       "      <td>364528</td>\n",
       "      <td>1</td>\n",
       "      <td>0</td>\n",
       "      <td>90.61</td>\n",
       "      <td>90.61</td>\n",
       "      <td>00033841</td>\n",
       "      <td>2022</td>\n",
       "      <td>1</td>\n",
       "      <td>10</td>\n",
       "      <td>2</td>\n",
       "      <td>1</td>\n",
       "      <td>2022-01-01</td>\n",
       "      <td>2022--02</td>\n",
       "      <td>2022--010</td>\n",
       "      <td>00139273</td>\n",
       "    </tr>\n",
       "    <tr>\n",
       "      <th>2346</th>\n",
       "      <td>SC5600033841</td>\n",
       "      <td>N</td>\n",
       "      <td>2022-01-10</td>\n",
       "      <td>Przecena towaru</td>\n",
       "      <td>8</td>\n",
       "      <td>Na podstawie korekty: ZF5600139273</td>\n",
       "      <td>F/MS/POS/ST/AIDA</td>\n",
       "      <td>F/MS/POS/ST/AIDA</td>\n",
       "      <td>220X200 70X80/X2</td>\n",
       "      <td>220X200 70X80/X2</td>\n",
       "      <td>381174</td>\n",
       "      <td>0</td>\n",
       "      <td>1</td>\n",
       "      <td>90.61</td>\n",
       "      <td>90.61</td>\n",
       "      <td>00033841</td>\n",
       "      <td>2022</td>\n",
       "      <td>1</td>\n",
       "      <td>10</td>\n",
       "      <td>2</td>\n",
       "      <td>1</td>\n",
       "      <td>2022-01-01</td>\n",
       "      <td>2022--02</td>\n",
       "      <td>2022--010</td>\n",
       "      <td>00139273</td>\n",
       "    </tr>\n",
       "    <tr>\n",
       "      <th>2347</th>\n",
       "      <td>SC5600033841</td>\n",
       "      <td>N</td>\n",
       "      <td>2022-01-10</td>\n",
       "      <td>Przecena towaru</td>\n",
       "      <td>8</td>\n",
       "      <td>Na podstawie korekty: ZF5600139273</td>\n",
       "      <td>CHP/STELA/K+ZŁOT</td>\n",
       "      <td>CHP/STELA/K+ZŁOT</td>\n",
       "      <td>45X45 K+ZŁOT</td>\n",
       "      <td>45X45 K+ZŁOT</td>\n",
       "      <td>381911</td>\n",
       "      <td>1</td>\n",
       "      <td>0</td>\n",
       "      <td>8.38</td>\n",
       "      <td>8.38</td>\n",
       "      <td>00033841</td>\n",
       "      <td>2022</td>\n",
       "      <td>1</td>\n",
       "      <td>10</td>\n",
       "      <td>2</td>\n",
       "      <td>1</td>\n",
       "      <td>2022-01-01</td>\n",
       "      <td>2022--02</td>\n",
       "      <td>2022--010</td>\n",
       "      <td>00139273</td>\n",
       "    </tr>\n",
       "    <tr>\n",
       "      <th>2348</th>\n",
       "      <td>SC5600033841</td>\n",
       "      <td>N</td>\n",
       "      <td>2022-01-10</td>\n",
       "      <td>Przecena towaru</td>\n",
       "      <td>8</td>\n",
       "      <td>Na podstawie korekty: ZF5600139273</td>\n",
       "      <td>F/CHP/STELA/K+ZŁ</td>\n",
       "      <td>F/CHP/STELA/K+ZŁ</td>\n",
       "      <td>45X45 K+ZŁOT</td>\n",
       "      <td>45X45 K+ZŁOT</td>\n",
       "      <td>406272</td>\n",
       "      <td>0</td>\n",
       "      <td>1</td>\n",
       "      <td>8.38</td>\n",
       "      <td>8.38</td>\n",
       "      <td>00033841</td>\n",
       "      <td>2022</td>\n",
       "      <td>1</td>\n",
       "      <td>10</td>\n",
       "      <td>2</td>\n",
       "      <td>1</td>\n",
       "      <td>2022-01-01</td>\n",
       "      <td>2022--02</td>\n",
       "      <td>2022--010</td>\n",
       "      <td>00139273</td>\n",
       "    </tr>\n",
       "  </tbody>\n",
       "</table>\n",
       "</div>"
      ],
      "text/plain": [
       "           FAKTURA FK     Z_DNIA             OPIS TYP_PRZESZ  \\\n",
       "2343  SC5600033841  N 2022-01-10  Przecena towaru          8   \n",
       "2344  SC5600033841  N 2022-01-10  Przecena towaru          8   \n",
       "2345  SC5600033841  N 2022-01-10  Przecena towaru          8   \n",
       "2346  SC5600033841  N 2022-01-10  Przecena towaru          8   \n",
       "2347  SC5600033841  N 2022-01-10  Przecena towaru          8   \n",
       "2348  SC5600033841  N 2022-01-10  Przecena towaru          8   \n",
       "\n",
       "                              UZASADNIEN            NAZWA1            NAZWA2  \\\n",
       "2343  Na podstawie korekty: ZF5600139273    POS/ST/BLINK/2    POS/ST/BLINK/2   \n",
       "2344  Na podstawie korekty: ZF5600139273  F/POS/ST/BLINK/2  F/POS/ST/BLINK/2   \n",
       "2345  Na podstawie korekty: ZF5600139273    MS/POS/ST/AIDA    MS/POS/ST/AIDA   \n",
       "2346  Na podstawie korekty: ZF5600139273  F/MS/POS/ST/AIDA  F/MS/POS/ST/AIDA   \n",
       "2347  Na podstawie korekty: ZF5600139273  CHP/STELA/K+ZŁOT  CHP/STELA/K+ZŁOT   \n",
       "2348  Na podstawie korekty: ZF5600139273  F/CHP/STELA/K+ZŁ  F/CHP/STELA/K+ZŁ   \n",
       "\n",
       "                   RODZAJ1               RODZAJ2  KOD_TEMA ILOSC1 ILOSC2  \\\n",
       "2343  220X200 70X80/X2 CZA  220X200 70X80/X2 CZA    383308      1      0   \n",
       "2344  220X200 70X80/X2 CZA  220X200 70X80/X2 CZA    406273      0      1   \n",
       "2345      220X200 70X80/X2      220X200 70X80/X2    364528      1      0   \n",
       "2346      220X200 70X80/X2      220X200 70X80/X2    381174      0      1   \n",
       "2347          45X45 K+ZŁOT          45X45 K+ZŁOT    381911      1      0   \n",
       "2348          45X45 K+ZŁOT          45X45 K+ZŁOT    406272      0      1   \n",
       "\n",
       "      CENA_Z1  CENA_Z2 FAKTURA_NUMER  year  month  day_of_year  week  \\\n",
       "2343    58.63    58.63      00033841  2022      1           10     2   \n",
       "2344    58.63    58.63      00033841  2022      1           10     2   \n",
       "2345    90.61    90.61      00033841  2022      1           10     2   \n",
       "2346    90.61    90.61      00033841  2022      1           10     2   \n",
       "2347     8.38     8.38      00033841  2022      1           10     2   \n",
       "2348     8.38     8.38      00033841  2022      1           10     2   \n",
       "\n",
       "      week_day year_month year_week   year_day     uz_nr  \n",
       "2343         1 2022-01-01  2022--02  2022--010  00139273  \n",
       "2344         1 2022-01-01  2022--02  2022--010  00139273  \n",
       "2345         1 2022-01-01  2022--02  2022--010  00139273  \n",
       "2346         1 2022-01-01  2022--02  2022--010  00139273  \n",
       "2347         1 2022-01-01  2022--02  2022--010  00139273  \n",
       "2348         1 2022-01-01  2022--02  2022--010  00139273  "
      ]
     },
     "execution_count": 87,
     "metadata": {},
     "output_type": "execute_result"
    }
   ],
   "source": [
    "df_szac.loc[df_szac['uz_nr']=='00139273']"
   ]
  },
  {
   "cell_type": "code",
   "execution_count": null,
   "id": "49c57968-b202-4848-b4d5-907c1812afec",
   "metadata": {},
   "outputs": [],
   "source": []
  },
  {
   "cell_type": "code",
   "execution_count": 226,
   "id": "dee6fde9-3473-4b4a-9957-dbdde523553f",
   "metadata": {},
   "outputs": [],
   "source": [
    "def func_plot_scatter(df, dict_agg, gr):\n",
    "    df=df.loc[df['ANALIT01'].isin(['LI','FE', 'OU'])].groupby([gr]).agg(dict_agg).sort_values(by='ILOSC', ascending=False).reset_index()\n",
    "    fig=px.scatter(df,\n",
    "                  x=gr,\n",
    "                  y='ILOSC',\n",
    "                  #color='NAZWA_ZNACZNIK',\n",
    "                  height=600)#,\n",
    "                  #log_y=True)\n",
    "    fig.show()\n",
    "    \n",
    "    _=df[dict_agg.keys()]/df[dict_agg.keys()].sum()*100\n",
    "    _1=(df[dict_agg.keys()]/df[dict_agg.keys()].sum()*100).cumsum()\n",
    "    display(df[[gr]].merge(_, how='left', left_index=True, right_index=True).merge(_1, how='left', left_index=True, right_index=True))\n",
    "    return"
   ]
  },
  {
   "cell_type": "code",
   "execution_count": 195,
   "id": "bd6ae5f2-adf5-4c24-ac2d-e62794db4bab",
   "metadata": {},
   "outputs": [
    {
     "data": {
      "application/vnd.plotly.v1+json": {
       "config": {
        "plotlyServerURL": "https://plot.ly"
       },
       "data": [
        {
         "hovertemplate": "DOSTAWCA=%{x}<br>ILOSC=%{y}<extra></extra>",
         "legendgroup": "",
         "marker": {
          "color": "#636efa",
          "symbol": "circle"
         },
         "mode": "markers",
         "name": "",
         "orientation": "v",
         "showlegend": false,
         "type": "scatter",
         "x": [
          " 10302",
          " 11447",
          "H00846",
          "  9469",
          " 11859",
          "F55032",
          " 11506",
          " 11986",
          " 12234",
          "I83917",
          "  2134",
          " 10867",
          "F53250",
          "  8603",
          " 12459",
          " 10755",
          " ",
          " 11525",
          " 11145",
          "F05458",
          "F66774",
          " 12761",
          "F05422",
          "H76950",
          "G82839",
          " 11625",
          " 11027",
          "  9113",
          "F09982",
          " 12393",
          "G73247",
          " 10798",
          " 11052",
          "F09906",
          "F76969",
          "J24700",
          " 10661",
          " 11887",
          " 10822",
          " 12712",
          "F94352",
          "F66769",
          " 12612",
          " 12776",
          " 11587",
          "  7755",
          " 12570",
          "  6788",
          "J58202",
          " 12047",
          "F98572",
          " 12348",
          " 12660",
          " 10762",
          " 12189",
          " 12692",
          " 11191",
          " 11913",
          "F29732",
          " 12212",
          "G02387",
          "F74217",
          " 12604",
          "F72797",
          "F04293",
          "F71864",
          "I16019",
          " 12360",
          "F57193",
          "F66630",
          " 10927",
          " 10729",
          "I78507",
          " 12762",
          "H82207",
          "L87123",
          " 12313",
          " 10929",
          " 10784",
          "  9681",
          " 12016",
          "F86142",
          "F66780",
          "F00731",
          " 10757",
          " 12770",
          " 10819",
          "  8002",
          "F14534",
          " 11150",
          " 11917",
          "  9127",
          "L67855",
          " 30919",
          "  8097",
          "F69312",
          "F05783",
          " 12748",
          " 12310",
          "F98920",
          "F03778",
          " 10765",
          " 11265",
          " 10815",
          "F89862",
          "H19851",
          " 11138",
          " 12600",
          " 10875",
          " 12605",
          "H13318",
          "H08892",
          "J13039",
          " 10676",
          " 11619",
          "F87116",
          " 12822",
          " 11613",
          " 12303",
          " 12699",
          " 12599",
          " 12237",
          " 12335",
          " 10930",
          " 10677",
          " 10728",
          "G82957",
          " 11204",
          " 12679",
          " 12070",
          "G63818",
          " 12655",
          " 11426",
          "F26233",
          "  8123",
          "F29502",
          " 12112",
          "F69055",
          "  7487",
          "F40649",
          "  7804",
          " 12740",
          " 11148",
          " 12312",
          "J32309",
          "G00038",
          " 12311",
          " 10999",
          "F89718",
          " 12678",
          " 12652",
          " 12092",
          "F66785",
          "  2262",
          " 11746",
          "  8133",
          " 12338",
          "  7802",
          " 12783",
          " 11139",
          "  2362",
          " 11684",
          " 10887",
          " 10912",
          " 12535",
          "F84859",
          " 10724",
          "K44442",
          " 11437",
          "I98015",
          " 12364",
          "F86202",
          " 11799",
          "F24999",
          " 12126",
          " 12347",
          "G00049",
          "H47309",
          "F56596",
          " 10898",
          " 11595",
          " 12562",
          " 12106",
          " 11114",
          " 12484",
          "F95742",
          " 11006",
          " 12307",
          "F79606",
          " 12720",
          " 12709",
          " 11058",
          " 11702",
          " 12346",
          "F70740",
          "F32155",
          " 12753",
          "H00950",
          "F88521",
          " 10918",
          " 12800",
          " 12793",
          " 12732",
          " 10848",
          " 12769",
          "G82860",
          "F64763",
          " 12318",
          "F04430",
          "F76002",
          " 11600",
          "F10501",
          "  5456",
          "F88084",
          "F04876",
          " 11992",
          " 11777",
          "F84394",
          "  9230",
          " 11614",
          "K68892",
          "  9400",
          " 12332",
          "F04107",
          " 10715",
          " 12186",
          " 10821",
          "F53007",
          " 10843",
          " 12580",
          " 10863",
          " 12507",
          " 11205",
          "F98425",
          "J25206",
          " 12427",
          " 12723",
          "S01633",
          " 12013",
          " 10890",
          " 11296",
          " 10808",
          " 11754",
          " 11551",
          " 11154",
          " 11400",
          " 12172",
          " 12185",
          " 11712",
          " 11794",
          " 12728",
          " 10933",
          " 12075",
          " 10734",
          " 12168",
          " 10670",
          "F93558",
          "F14857",
          " 12623",
          "G70296",
          "F00514",
          "F61138",
          " 11695",
          "F99043",
          " 12611",
          " 12620",
          " 10811",
          "F14661",
          " 12345",
          " 12050",
          " 10872",
          "J67011",
          " 10876",
          " 11628",
          " 12560",
          "J55912",
          " 10952",
          " 10453",
          " 12420",
          " 12764",
          " 12495",
          " 12118",
          "K15641",
          "F94323",
          "F71867",
          "G65112",
          " 12575",
          " 12631",
          " 10854",
          " 12442",
          " 11588",
          " 11297",
          " 12618",
          " 10897",
          " 12438",
          " 12431",
          " 12565",
          " 12606",
          "F54278",
          "F40934",
          "K13454",
          " 11570",
          " 12739",
          " 12747",
          " 10934",
          " 10896",
          "F86215",
          " 10942",
          " 10943",
          " 10997",
          " 11000",
          " 11125",
          " 11864",
          "G73959",
          " 12586",
          " 12597",
          "L15372",
          " 12323",
          " 12263",
          " 10362",
          " 10738",
          " 12576",
          "G00235",
          " 12596",
          " 11778",
          " 11407",
          "H00985",
          " 12626",
          " 12736",
          " 11615",
          "  9229",
          " 10244",
          " 11434",
          " 12802",
          "F00518",
          " 30499",
          " 12356",
          " 11059",
          " 12815",
          " 20914",
          "F29387",
          "F51020",
          "F00502",
          " 11608",
          " 12684",
          " 10915",
          " 10844",
          " 10788",
          " 12046",
          " 11011",
          " 12665",
          " 12677",
          "H42182",
          " 12577",
          " 12717",
          " 12251",
          "F86141",
          "F83451",
          " 12483",
          "G88177",
          " 11979",
          "G81970",
          " 10789",
          " 10656",
          " 10725",
          " 10766",
          "F26153",
          "F24998",
          " 11549",
          "F16094",
          " 11018",
          "G30728",
          "F55287",
          "F98694",
          "F56582",
          "F96624",
          " 11287",
          "F65689",
          " 10928",
          "F65796",
          "F88116",
          " 10937",
          " 11126",
          "G22320",
          " 12488",
          " 12000",
          " 30220",
          " 12798",
          " 12036",
          " 11819",
          " 11744",
          " 12637",
          " 30347",
          " 12632",
          "F04240",
          " 12778",
          " 12785",
          " 12068",
          " 12683",
          " 12786",
          " 12797",
          " 12754",
          " 12613",
          " 12466",
          " 12668",
          " 11582",
          " 12448",
          " 11893",
          " 12443",
          " 12021",
          " 12032",
          " 11988",
          "  2264",
          " 12666",
          " 12628",
          "G76345",
          " 12619",
          "F96697",
          " 10878",
          " 10880",
          " 10869",
          " 10860",
          " 12672",
          " 12639",
          " 12669",
          "G10747",
          "G07461",
          "F14784",
          " 12617",
          " 10832",
          "  7252",
          " 12339",
          "K79204",
          " 12384",
          " 10134",
          " 12295",
          " 12445",
          " 12458",
          " 12461",
          " 10363",
          " 12231",
          " 12540",
          "I84074",
          " 10711",
          " 10718",
          "I50314",
          " 12559",
          " 12564",
          " 12571",
          " 12578",
          " 12114",
          " 12087",
          " 12601",
          " 10806",
          " 12610",
          " 12052",
          " 10825",
          " 12067",
          " 11902",
          " 12005",
          " 12710",
          " 12828",
          " 30001",
          " 30478",
          "777777",
          "F56087",
          " 11715",
          "F01073",
          "F03983",
          "F04048",
          " 11427",
          "F52674",
          "F44809",
          "F04266",
          " 11431",
          " 11651",
          " 11633",
          "F04471",
          "F04557",
          "F28325",
          " 11563",
          " 11594",
          " 11567",
          " 11585",
          "F24709",
          "F15661",
          " 11269",
          " 11264",
          " 11263",
          " 11823",
          "F93710",
          " 10905",
          " 11958",
          "F14494",
          "F88106",
          " 12742",
          "F88069",
          "F87150",
          " 11882",
          " 12760",
          " 11863",
          " 11856",
          "F83455",
          " 11172",
          " 11795",
          " 12777",
          "F76379",
          "F74703",
          " 12794",
          " 11759",
          "F70153",
          " 11127",
          "F69236",
          " 11131",
          " 12818",
          " 12350",
          "F51806"
         ],
         "xaxis": "x",
         "y": [
          1097.5,
          977.6,
          833.85,
          833,
          775,
          643,
          629,
          577,
          543.55,
          480.35,
          459,
          435.57,
          410,
          405.5,
          401.3,
          346,
          343.91,
          333,
          319,
          305,
          289,
          285,
          277.7,
          269,
          261,
          250.25,
          220,
          214.85,
          213,
          208,
          202,
          200,
          199,
          199,
          197,
          189,
          185,
          183,
          165,
          162.49,
          159,
          156,
          151,
          149,
          144,
          135,
          125,
          123,
          122,
          121,
          121,
          120.7,
          115,
          105,
          105,
          104,
          102,
          101,
          96,
          93,
          91,
          76,
          73,
          72,
          70,
          69,
          69,
          69,
          68,
          67,
          65,
          64,
          63.1,
          62,
          62,
          61.4,
          61,
          59,
          57,
          56.5,
          55,
          53,
          53,
          52.7,
          52.3,
          51,
          51,
          49.2,
          49,
          48,
          48,
          47.5,
          47.11,
          47,
          47,
          46,
          45,
          45,
          44.3,
          44,
          42,
          42,
          42,
          41,
          41,
          40.9,
          40,
          40,
          40,
          39,
          39,
          39,
          39,
          38.35,
          38,
          38,
          37.3,
          36,
          36,
          33,
          33,
          32,
          32,
          32,
          30.450000000000003,
          30,
          29.3,
          28.5,
          28,
          28,
          28,
          27.95,
          27,
          27,
          26.9,
          25,
          25,
          24,
          24,
          23.55,
          23.5,
          23.3,
          23,
          23,
          23,
          23,
          22,
          22,
          22,
          22,
          21.95,
          20,
          20,
          20,
          20,
          19.15,
          19,
          19,
          19,
          19,
          19,
          19,
          19,
          19,
          18.3,
          18,
          18,
          17.9,
          17,
          17,
          17,
          17,
          17,
          17,
          16,
          16,
          16,
          16,
          15,
          15,
          15,
          15,
          15,
          15,
          15,
          14.4,
          14,
          14,
          13.7,
          13,
          13,
          13,
          13,
          13,
          13,
          12.5,
          12.4,
          12,
          12,
          11.75,
          11,
          11,
          11,
          11,
          11,
          11,
          11,
          11,
          11,
          11,
          11,
          11,
          11,
          10,
          10,
          10,
          10,
          10,
          9.8,
          9.3,
          9,
          9,
          9,
          9,
          9,
          9,
          9,
          9,
          9,
          9,
          9,
          9,
          9,
          8,
          8,
          8,
          8,
          8,
          8,
          8,
          8,
          8,
          8,
          8,
          8,
          8,
          8,
          8,
          8,
          8,
          7,
          7,
          7,
          7,
          7,
          7,
          7,
          7,
          7,
          7,
          6.5,
          6,
          6,
          6,
          6,
          6,
          6,
          6,
          6,
          6,
          6,
          6,
          6,
          6,
          6,
          6,
          6,
          6,
          6,
          6,
          6,
          6,
          5.15,
          5,
          5,
          5,
          5,
          5,
          5,
          5,
          5,
          5,
          5,
          5,
          5,
          5,
          5,
          5,
          5,
          4.5,
          4.3,
          4,
          4,
          4,
          4,
          4,
          4,
          4,
          4,
          4,
          4,
          4,
          4,
          4,
          4,
          4,
          4,
          4,
          4,
          4,
          4,
          4,
          4,
          4,
          4,
          4,
          4,
          4,
          3.5,
          3.5,
          3.45,
          3.2,
          3,
          3,
          3,
          3,
          3,
          3,
          3,
          3,
          3,
          3,
          3,
          3,
          3,
          3,
          3,
          3,
          3,
          3,
          3,
          3,
          3,
          3,
          3,
          3,
          3,
          3,
          3,
          3,
          2.95,
          2.4,
          2.1,
          2.1,
          2,
          2,
          2,
          2,
          2,
          2,
          2,
          2,
          2,
          2,
          2,
          2,
          2,
          2,
          2,
          2,
          2,
          2,
          2,
          2,
          2,
          2,
          2,
          2,
          2,
          2,
          2,
          2,
          2,
          2,
          2,
          2,
          2,
          2,
          2,
          2,
          2,
          2,
          2,
          2,
          2,
          2,
          2,
          2,
          2,
          2,
          2,
          2,
          1.55,
          1,
          1,
          1,
          1,
          1,
          1,
          1,
          1,
          1,
          1,
          1,
          1,
          1,
          1,
          1,
          1,
          1,
          1,
          1,
          1,
          1,
          1,
          1,
          1,
          1,
          1,
          1,
          1,
          1,
          1,
          1,
          1,
          1,
          1,
          1,
          1,
          1,
          1,
          1,
          1,
          1,
          1,
          1,
          1,
          1,
          1,
          1,
          1,
          1,
          1,
          1,
          1,
          1,
          1,
          1,
          1,
          1,
          1,
          1,
          1,
          1,
          1,
          1,
          1,
          1,
          1,
          1,
          1,
          1,
          1,
          1,
          1,
          1,
          1,
          1,
          1,
          1,
          1,
          1,
          1,
          1,
          1,
          1,
          1,
          1,
          1,
          1,
          1,
          1,
          1,
          1,
          1,
          1,
          1,
          1,
          1,
          1,
          1,
          1,
          1,
          1,
          1,
          1,
          0.9
         ],
         "yaxis": "y"
        }
       ],
       "layout": {
        "autosize": true,
        "legend": {
         "tracegroupgap": 0
        },
        "margin": {
         "t": 60
        },
        "template": {
         "data": {
          "bar": [
           {
            "error_x": {
             "color": "#2a3f5f"
            },
            "error_y": {
             "color": "#2a3f5f"
            },
            "marker": {
             "line": {
              "color": "#E5ECF6",
              "width": 0.5
             },
             "pattern": {
              "fillmode": "overlay",
              "size": 10,
              "solidity": 0.2
             }
            },
            "type": "bar"
           }
          ],
          "barpolar": [
           {
            "marker": {
             "line": {
              "color": "#E5ECF6",
              "width": 0.5
             },
             "pattern": {
              "fillmode": "overlay",
              "size": 10,
              "solidity": 0.2
             }
            },
            "type": "barpolar"
           }
          ],
          "carpet": [
           {
            "aaxis": {
             "endlinecolor": "#2a3f5f",
             "gridcolor": "white",
             "linecolor": "white",
             "minorgridcolor": "white",
             "startlinecolor": "#2a3f5f"
            },
            "baxis": {
             "endlinecolor": "#2a3f5f",
             "gridcolor": "white",
             "linecolor": "white",
             "minorgridcolor": "white",
             "startlinecolor": "#2a3f5f"
            },
            "type": "carpet"
           }
          ],
          "choropleth": [
           {
            "colorbar": {
             "outlinewidth": 0,
             "ticks": ""
            },
            "type": "choropleth"
           }
          ],
          "contour": [
           {
            "colorbar": {
             "outlinewidth": 0,
             "ticks": ""
            },
            "colorscale": [
             [
              0,
              "#0d0887"
             ],
             [
              0.1111111111111111,
              "#46039f"
             ],
             [
              0.2222222222222222,
              "#7201a8"
             ],
             [
              0.3333333333333333,
              "#9c179e"
             ],
             [
              0.4444444444444444,
              "#bd3786"
             ],
             [
              0.5555555555555556,
              "#d8576b"
             ],
             [
              0.6666666666666666,
              "#ed7953"
             ],
             [
              0.7777777777777778,
              "#fb9f3a"
             ],
             [
              0.8888888888888888,
              "#fdca26"
             ],
             [
              1,
              "#f0f921"
             ]
            ],
            "type": "contour"
           }
          ],
          "contourcarpet": [
           {
            "colorbar": {
             "outlinewidth": 0,
             "ticks": ""
            },
            "type": "contourcarpet"
           }
          ],
          "heatmap": [
           {
            "colorbar": {
             "outlinewidth": 0,
             "ticks": ""
            },
            "colorscale": [
             [
              0,
              "#0d0887"
             ],
             [
              0.1111111111111111,
              "#46039f"
             ],
             [
              0.2222222222222222,
              "#7201a8"
             ],
             [
              0.3333333333333333,
              "#9c179e"
             ],
             [
              0.4444444444444444,
              "#bd3786"
             ],
             [
              0.5555555555555556,
              "#d8576b"
             ],
             [
              0.6666666666666666,
              "#ed7953"
             ],
             [
              0.7777777777777778,
              "#fb9f3a"
             ],
             [
              0.8888888888888888,
              "#fdca26"
             ],
             [
              1,
              "#f0f921"
             ]
            ],
            "type": "heatmap"
           }
          ],
          "heatmapgl": [
           {
            "colorbar": {
             "outlinewidth": 0,
             "ticks": ""
            },
            "colorscale": [
             [
              0,
              "#0d0887"
             ],
             [
              0.1111111111111111,
              "#46039f"
             ],
             [
              0.2222222222222222,
              "#7201a8"
             ],
             [
              0.3333333333333333,
              "#9c179e"
             ],
             [
              0.4444444444444444,
              "#bd3786"
             ],
             [
              0.5555555555555556,
              "#d8576b"
             ],
             [
              0.6666666666666666,
              "#ed7953"
             ],
             [
              0.7777777777777778,
              "#fb9f3a"
             ],
             [
              0.8888888888888888,
              "#fdca26"
             ],
             [
              1,
              "#f0f921"
             ]
            ],
            "type": "heatmapgl"
           }
          ],
          "histogram": [
           {
            "marker": {
             "pattern": {
              "fillmode": "overlay",
              "size": 10,
              "solidity": 0.2
             }
            },
            "type": "histogram"
           }
          ],
          "histogram2d": [
           {
            "colorbar": {
             "outlinewidth": 0,
             "ticks": ""
            },
            "colorscale": [
             [
              0,
              "#0d0887"
             ],
             [
              0.1111111111111111,
              "#46039f"
             ],
             [
              0.2222222222222222,
              "#7201a8"
             ],
             [
              0.3333333333333333,
              "#9c179e"
             ],
             [
              0.4444444444444444,
              "#bd3786"
             ],
             [
              0.5555555555555556,
              "#d8576b"
             ],
             [
              0.6666666666666666,
              "#ed7953"
             ],
             [
              0.7777777777777778,
              "#fb9f3a"
             ],
             [
              0.8888888888888888,
              "#fdca26"
             ],
             [
              1,
              "#f0f921"
             ]
            ],
            "type": "histogram2d"
           }
          ],
          "histogram2dcontour": [
           {
            "colorbar": {
             "outlinewidth": 0,
             "ticks": ""
            },
            "colorscale": [
             [
              0,
              "#0d0887"
             ],
             [
              0.1111111111111111,
              "#46039f"
             ],
             [
              0.2222222222222222,
              "#7201a8"
             ],
             [
              0.3333333333333333,
              "#9c179e"
             ],
             [
              0.4444444444444444,
              "#bd3786"
             ],
             [
              0.5555555555555556,
              "#d8576b"
             ],
             [
              0.6666666666666666,
              "#ed7953"
             ],
             [
              0.7777777777777778,
              "#fb9f3a"
             ],
             [
              0.8888888888888888,
              "#fdca26"
             ],
             [
              1,
              "#f0f921"
             ]
            ],
            "type": "histogram2dcontour"
           }
          ],
          "mesh3d": [
           {
            "colorbar": {
             "outlinewidth": 0,
             "ticks": ""
            },
            "type": "mesh3d"
           }
          ],
          "parcoords": [
           {
            "line": {
             "colorbar": {
              "outlinewidth": 0,
              "ticks": ""
             }
            },
            "type": "parcoords"
           }
          ],
          "pie": [
           {
            "automargin": true,
            "type": "pie"
           }
          ],
          "scatter": [
           {
            "fillpattern": {
             "fillmode": "overlay",
             "size": 10,
             "solidity": 0.2
            },
            "type": "scatter"
           }
          ],
          "scatter3d": [
           {
            "line": {
             "colorbar": {
              "outlinewidth": 0,
              "ticks": ""
             }
            },
            "marker": {
             "colorbar": {
              "outlinewidth": 0,
              "ticks": ""
             }
            },
            "type": "scatter3d"
           }
          ],
          "scattercarpet": [
           {
            "marker": {
             "colorbar": {
              "outlinewidth": 0,
              "ticks": ""
             }
            },
            "type": "scattercarpet"
           }
          ],
          "scattergeo": [
           {
            "marker": {
             "colorbar": {
              "outlinewidth": 0,
              "ticks": ""
             }
            },
            "type": "scattergeo"
           }
          ],
          "scattergl": [
           {
            "marker": {
             "colorbar": {
              "outlinewidth": 0,
              "ticks": ""
             }
            },
            "type": "scattergl"
           }
          ],
          "scattermapbox": [
           {
            "marker": {
             "colorbar": {
              "outlinewidth": 0,
              "ticks": ""
             }
            },
            "type": "scattermapbox"
           }
          ],
          "scatterpolar": [
           {
            "marker": {
             "colorbar": {
              "outlinewidth": 0,
              "ticks": ""
             }
            },
            "type": "scatterpolar"
           }
          ],
          "scatterpolargl": [
           {
            "marker": {
             "colorbar": {
              "outlinewidth": 0,
              "ticks": ""
             }
            },
            "type": "scatterpolargl"
           }
          ],
          "scatterternary": [
           {
            "marker": {
             "colorbar": {
              "outlinewidth": 0,
              "ticks": ""
             }
            },
            "type": "scatterternary"
           }
          ],
          "surface": [
           {
            "colorbar": {
             "outlinewidth": 0,
             "ticks": ""
            },
            "colorscale": [
             [
              0,
              "#0d0887"
             ],
             [
              0.1111111111111111,
              "#46039f"
             ],
             [
              0.2222222222222222,
              "#7201a8"
             ],
             [
              0.3333333333333333,
              "#9c179e"
             ],
             [
              0.4444444444444444,
              "#bd3786"
             ],
             [
              0.5555555555555556,
              "#d8576b"
             ],
             [
              0.6666666666666666,
              "#ed7953"
             ],
             [
              0.7777777777777778,
              "#fb9f3a"
             ],
             [
              0.8888888888888888,
              "#fdca26"
             ],
             [
              1,
              "#f0f921"
             ]
            ],
            "type": "surface"
           }
          ],
          "table": [
           {
            "cells": {
             "fill": {
              "color": "#EBF0F8"
             },
             "line": {
              "color": "white"
             }
            },
            "header": {
             "fill": {
              "color": "#C8D4E3"
             },
             "line": {
              "color": "white"
             }
            },
            "type": "table"
           }
          ]
         },
         "layout": {
          "annotationdefaults": {
           "arrowcolor": "#2a3f5f",
           "arrowhead": 0,
           "arrowwidth": 1
          },
          "autotypenumbers": "strict",
          "coloraxis": {
           "colorbar": {
            "outlinewidth": 0,
            "ticks": ""
           }
          },
          "colorscale": {
           "diverging": [
            [
             0,
             "#8e0152"
            ],
            [
             0.1,
             "#c51b7d"
            ],
            [
             0.2,
             "#de77ae"
            ],
            [
             0.3,
             "#f1b6da"
            ],
            [
             0.4,
             "#fde0ef"
            ],
            [
             0.5,
             "#f7f7f7"
            ],
            [
             0.6,
             "#e6f5d0"
            ],
            [
             0.7,
             "#b8e186"
            ],
            [
             0.8,
             "#7fbc41"
            ],
            [
             0.9,
             "#4d9221"
            ],
            [
             1,
             "#276419"
            ]
           ],
           "sequential": [
            [
             0,
             "#0d0887"
            ],
            [
             0.1111111111111111,
             "#46039f"
            ],
            [
             0.2222222222222222,
             "#7201a8"
            ],
            [
             0.3333333333333333,
             "#9c179e"
            ],
            [
             0.4444444444444444,
             "#bd3786"
            ],
            [
             0.5555555555555556,
             "#d8576b"
            ],
            [
             0.6666666666666666,
             "#ed7953"
            ],
            [
             0.7777777777777778,
             "#fb9f3a"
            ],
            [
             0.8888888888888888,
             "#fdca26"
            ],
            [
             1,
             "#f0f921"
            ]
           ],
           "sequentialminus": [
            [
             0,
             "#0d0887"
            ],
            [
             0.1111111111111111,
             "#46039f"
            ],
            [
             0.2222222222222222,
             "#7201a8"
            ],
            [
             0.3333333333333333,
             "#9c179e"
            ],
            [
             0.4444444444444444,
             "#bd3786"
            ],
            [
             0.5555555555555556,
             "#d8576b"
            ],
            [
             0.6666666666666666,
             "#ed7953"
            ],
            [
             0.7777777777777778,
             "#fb9f3a"
            ],
            [
             0.8888888888888888,
             "#fdca26"
            ],
            [
             1,
             "#f0f921"
            ]
           ]
          },
          "colorway": [
           "#636efa",
           "#EF553B",
           "#00cc96",
           "#ab63fa",
           "#FFA15A",
           "#19d3f3",
           "#FF6692",
           "#B6E880",
           "#FF97FF",
           "#FECB52"
          ],
          "font": {
           "color": "#2a3f5f"
          },
          "geo": {
           "bgcolor": "white",
           "lakecolor": "white",
           "landcolor": "#E5ECF6",
           "showlakes": true,
           "showland": true,
           "subunitcolor": "white"
          },
          "hoverlabel": {
           "align": "left"
          },
          "hovermode": "closest",
          "mapbox": {
           "style": "light"
          },
          "paper_bgcolor": "white",
          "plot_bgcolor": "#E5ECF6",
          "polar": {
           "angularaxis": {
            "gridcolor": "white",
            "linecolor": "white",
            "ticks": ""
           },
           "bgcolor": "#E5ECF6",
           "radialaxis": {
            "gridcolor": "white",
            "linecolor": "white",
            "ticks": ""
           }
          },
          "scene": {
           "xaxis": {
            "backgroundcolor": "#E5ECF6",
            "gridcolor": "white",
            "gridwidth": 2,
            "linecolor": "white",
            "showbackground": true,
            "ticks": "",
            "zerolinecolor": "white"
           },
           "yaxis": {
            "backgroundcolor": "#E5ECF6",
            "gridcolor": "white",
            "gridwidth": 2,
            "linecolor": "white",
            "showbackground": true,
            "ticks": "",
            "zerolinecolor": "white"
           },
           "zaxis": {
            "backgroundcolor": "#E5ECF6",
            "gridcolor": "white",
            "gridwidth": 2,
            "linecolor": "white",
            "showbackground": true,
            "ticks": "",
            "zerolinecolor": "white"
           }
          },
          "shapedefaults": {
           "line": {
            "color": "#2a3f5f"
           }
          },
          "ternary": {
           "aaxis": {
            "gridcolor": "white",
            "linecolor": "white",
            "ticks": ""
           },
           "baxis": {
            "gridcolor": "white",
            "linecolor": "white",
            "ticks": ""
           },
           "bgcolor": "#E5ECF6",
           "caxis": {
            "gridcolor": "white",
            "linecolor": "white",
            "ticks": ""
           }
          },
          "title": {
           "x": 0.05
          },
          "xaxis": {
           "automargin": true,
           "gridcolor": "white",
           "linecolor": "white",
           "ticks": "",
           "title": {
            "standoff": 15
           },
           "zerolinecolor": "white",
           "zerolinewidth": 2
          },
          "yaxis": {
           "automargin": true,
           "gridcolor": "white",
           "linecolor": "white",
           "ticks": "",
           "title": {
            "standoff": 15
           },
           "zerolinecolor": "white",
           "zerolinewidth": 2
          }
         }
        },
        "xaxis": {
         "anchor": "y",
         "autorange": true,
         "domain": [
          0,
          1
         ],
         "range": [
          -30.203259005145803,
          546.2032590051458
         ],
         "title": {
          "text": "DOSTAWCA"
         },
         "type": "category"
        },
        "yaxis": {
         "anchor": "x",
         "autorange": true,
         "domain": [
          0,
          1
         ],
         "range": [
          -71.6752869166029,
          1170.0752869166029
         ],
         "title": {
          "text": "ILOSC"
         },
         "type": "linear"
        }
       }
      },
      "image/png": "[encoded data removed]",
      "text/html": [
       "<div>                            <div id=\"49fbc6d9-89f9-4184-bf6e-b4b6e41f3cdf\" class=\"plotly-graph-div\" style=\"height:600px; width:100%;\"></div>            <script type=\"text/javascript\">                require([\"plotly\"], function(Plotly) {                    window.PLOTLYENV=window.PLOTLYENV || {};                                    if (document.getElementById(\"49fbc6d9-89f9-4184-bf6e-b4b6e41f3cdf\")) {                    Plotly.newPlot(                        \"49fbc6d9-89f9-4184-bf6e-b4b6e41f3cdf\",                        [{\"hovertemplate\":\"DOSTAWCA=%{x}<br>ILOSC=%{y}<extra></extra>\",\"legendgroup\":\"\",\"marker\":{\"color\":\"#636efa\",\"symbol\":\"circle\"},\"mode\":\"markers\",\"name\":\"\",\"orientation\":\"v\",\"showlegend\":false,\"x\":[\" 10302\",\" 11447\",\"H00846\",\"  9469\",\" 11859\",\"F55032\",\" 11506\",\" 11986\",\" 12234\",\"I83917\",\"  2134\",\" 10867\",\"F53250\",\"  8603\",\" 12459\",\" 10755\",\" \",\" 11525\",\" 11145\",\"F05458\",\"F66774\",\" 12761\",\"F05422\",\"H76950\",\"G82839\",\" 11625\",\" 11027\",\"  9113\",\"F09982\",\" 12393\",\"G73247\",\" 10798\",\" 11052\",\"F09906\",\"F76969\",\"J24700\",\" 10661\",\" 11887\",\" 10822\",\" 12712\",\"F94352\",\"F66769\",\" 12612\",\" 12776\",\" 11587\",\"  7755\",\" 12570\",\"  6788\",\"J58202\",\" 12047\",\"F98572\",\" 12348\",\" 12660\",\" 10762\",\" 12189\",\" 12692\",\" 11191\",\" 11913\",\"F29732\",\" 12212\",\"G02387\",\"F74217\",\" 12604\",\"F72797\",\"F04293\",\"F71864\",\"I16019\",\" 12360\",\"F57193\",\"F66630\",\" 10927\",\" 10729\",\"I78507\",\" 12762\",\"H82207\",\"L87123\",\" 12313\",\" 10929\",\" 10784\",\"  9681\",\" 12016\",\"F86142\",\"F66780\",\"F00731\",\" 10757\",\" 12770\",\" 10819\",\"  8002\",\"F14534\",\" 11150\",\" 11917\",\"  9127\",\"L67855\",\" 30919\",\"  8097\",\"F69312\",\"F05783\",\" 12748\",\" 12310\",\"F98920\",\"F03778\",\" 10765\",\" 11265\",\" 10815\",\"F89862\",\"H19851\",\" 11138\",\" 12600\",\" 10875\",\" 12605\",\"H13318\",\"H08892\",\"J13039\",\" 10676\",\" 11619\",\"F87116\",\" 12822\",\" 11613\",\" 12303\",\" 12699\",\" 12599\",\" 12237\",\" 12335\",\" 10930\",\" 10677\",\" 10728\",\"G82957\",\" 11204\",\" 12679\",\" 12070\",\"G63818\",\" 12655\",\" 11426\",\"F26233\",\"  8123\",\"F29502\",\" 12112\",\"F69055\",\"  7487\",\"F40649\",\"  7804\",\" 12740\",\" 11148\",\" 12312\",\"J32309\",\"G00038\",\" 12311\",\" 10999\",\"F89718\",\" 12678\",\" 12652\",\" 12092\",\"F66785\",\"  2262\",\" 11746\",\"  8133\",\" 12338\",\"  7802\",\" 12783\",\" 11139\",\"  2362\",\" 11684\",\" 10887\",\" 10912\",\" 12535\",\"F84859\",\" 10724\",\"K44442\",\" 11437\",\"I98015\",\" 12364\",\"F86202\",\" 11799\",\"F24999\",\" 12126\",\" 12347\",\"G00049\",\"H47309\",\"F56596\",\" 10898\",\" 11595\",\" 12562\",\" 12106\",\" 11114\",\" 12484\",\"F95742\",\" 11006\",\" 12307\",\"F79606\",\" 12720\",\" 12709\",\" 11058\",\" 11702\",\" 12346\",\"F70740\",\"F32155\",\" 12753\",\"H00950\",\"F88521\",\" 10918\",\" 12800\",\" 12793\",\" 12732\",\" 10848\",\" 12769\",\"G82860\",\"F64763\",\" 12318\",\"F04430\",\"F76002\",\" 11600\",\"F10501\",\"  5456\",\"F88084\",\"F04876\",\" 11992\",\" 11777\",\"F84394\",\"  9230\",\" 11614\",\"K68892\",\"  9400\",\" 12332\",\"F04107\",\" 10715\",\" 12186\",\" 10821\",\"F53007\",\" 10843\",\" 12580\",\" 10863\",\" 12507\",\" 11205\",\"F98425\",\"J25206\",\" 12427\",\" 12723\",\"S01633\",\" 12013\",\" 10890\",\" 11296\",\" 10808\",\" 11754\",\" 11551\",\" 11154\",\" 11400\",\" 12172\",\" 12185\",\" 11712\",\" 11794\",\" 12728\",\" 10933\",\" 12075\",\" 10734\",\" 12168\",\" 10670\",\"F93558\",\"F14857\",\" 12623\",\"G70296\",\"F00514\",\"F61138\",\" 11695\",\"F99043\",\" 12611\",\" 12620\",\" 10811\",\"F14661\",\" 12345\",\" 12050\",\" 10872\",\"J67011\",\" 10876\",\" 11628\",\" 12560\",\"J55912\",\" 10952\",\" 10453\",\" 12420\",\" 12764\",\" 12495\",\" 12118\",\"K15641\",\"F94323\",\"F71867\",\"G65112\",\" 12575\",\" 12631\",\" 10854\",\" 12442\",\" 11588\",\" 11297\",\" 12618\",\" 10897\",\" 12438\",\" 12431\",\" 12565\",\" 12606\",\"F54278\",\"F40934\",\"K13454\",\" 11570\",\" 12739\",\" 12747\",\" 10934\",\" 10896\",\"F86215\",\" 10942\",\" 10943\",\" 10997\",\" 11000\",\" 11125\",\" 11864\",\"G73959\",\" 12586\",\" 12597\",\"L15372\",\" 12323\",\" 12263\",\" 10362\",\" 10738\",\" 12576\",\"G00235\",\" 12596\",\" 11778\",\" 11407\",\"H00985\",\" 12626\",\" 12736\",\" 11615\",\"  9229\",\" 10244\",\" 11434\",\" 12802\",\"F00518\",\" 30499\",\" 12356\",\" 11059\",\" 12815\",\" 20914\",\"F29387\",\"F51020\",\"F00502\",\" 11608\",\" 12684\",\" 10915\",\" 10844\",\" 10788\",\" 12046\",\" 11011\",\" 12665\",\" 12677\",\"H42182\",\" 12577\",\" 12717\",\" 12251\",\"F86141\",\"F83451\",\" 12483\",\"G88177\",\" 11979\",\"G81970\",\" 10789\",\" 10656\",\" 10725\",\" 10766\",\"F26153\",\"F24998\",\" 11549\",\"F16094\",\" 11018\",\"G30728\",\"F55287\",\"F98694\",\"F56582\",\"F96624\",\" 11287\",\"F65689\",\" 10928\",\"F65796\",\"F88116\",\" 10937\",\" 11126\",\"G22320\",\" 12488\",\" 12000\",\" 30220\",\" 12798\",\" 12036\",\" 11819\",\" 11744\",\" 12637\",\" 30347\",\" 12632\",\"F04240\",\" 12778\",\" 12785\",\" 12068\",\" 12683\",\" 12786\",\" 12797\",\" 12754\",\" 12613\",\" 12466\",\" 12668\",\" 11582\",\" 12448\",\" 11893\",\" 12443\",\" 12021\",\" 12032\",\" 11988\",\"  2264\",\" 12666\",\" 12628\",\"G76345\",\" 12619\",\"F96697\",\" 10878\",\" 10880\",\" 10869\",\" 10860\",\" 12672\",\" 12639\",\" 12669\",\"G10747\",\"G07461\",\"F14784\",\" 12617\",\" 10832\",\"  7252\",\" 12339\",\"K79204\",\" 12384\",\" 10134\",\" 12295\",\" 12445\",\" 12458\",\" 12461\",\" 10363\",\" 12231\",\" 12540\",\"I84074\",\" 10711\",\" 10718\",\"I50314\",\" 12559\",\" 12564\",\" 12571\",\" 12578\",\" 12114\",\" 12087\",\" 12601\",\" 10806\",\" 12610\",\" 12052\",\" 10825\",\" 12067\",\" 11902\",\" 12005\",\" 12710\",\" 12828\",\" 30001\",\" 30478\",\"777777\",\"F56087\",\" 11715\",\"F01073\",\"F03983\",\"F04048\",\" 11427\",\"F52674\",\"F44809\",\"F04266\",\" 11431\",\" 11651\",\" 11633\",\"F04471\",\"F04557\",\"F28325\",\" 11563\",\" 11594\",\" 11567\",\" 11585\",\"F24709\",\"F15661\",\" 11269\",\" 11264\",\" 11263\",\" 11823\",\"F93710\",\" 10905\",\" 11958\",\"F14494\",\"F88106\",\" 12742\",\"F88069\",\"F87150\",\" 11882\",\" 12760\",\" 11863\",\" 11856\",\"F83455\",\" 11172\",\" 11795\",\" 12777\",\"F76379\",\"F74703\",\" 12794\",\" 11759\",\"F70153\",\" 11127\",\"F69236\",\" 11131\",\" 12818\",\" 12350\",\"F51806\"],\"xaxis\":\"x\",\"y\":[1097.5,977.6,833.85,833.0,775.0,643.0,629.0,577.0,543.55,480.35,459.0,435.57,410.0,405.5,401.3,346.0,343.91,333.0,319.0,305.0,289.0,285.0,277.7,269.0,261.0,250.25,220.0,214.85,213.0,208.0,202.0,200.0,199.0,199.0,197.0,189.0,185.0,183.0,165.0,162.49,159.0,156.0,151.0,149.0,144.0,135.0,125.0,123.0,122.0,121.0,121.0,120.7,115.0,105.0,105.0,104.0,102.0,101.0,96.0,93.0,91.0,76.0,73.0,72.0,70.0,69.0,69.0,69.0,68.0,67.0,65.0,64.0,63.1,62.0,62.0,61.4,61.0,59.0,57.0,56.5,55.0,53.0,53.0,52.7,52.3,51.0,51.0,49.2,49.0,48.0,48.0,47.5,47.11,47.0,47.0,46.0,45.0,45.0,44.3,44.0,42.0,42.0,42.0,41.0,41.0,40.9,40.0,40.0,40.0,39.0,39.0,39.0,39.0,38.35,38.0,38.0,37.3,36.0,36.0,33.0,33.0,32.0,32.0,32.0,30.450000000000003,30.0,29.3,28.5,28.0,28.0,28.0,27.95,27.0,27.0,26.9,25.0,25.0,24.0,24.0,23.55,23.5,23.3,23.0,23.0,23.0,23.0,22.0,22.0,22.0,22.0,21.95,20.0,20.0,20.0,20.0,19.15,19.0,19.0,19.0,19.0,19.0,19.0,19.0,19.0,18.3,18.0,18.0,17.9,17.0,17.0,17.0,17.0,17.0,17.0,16.0,16.0,16.0,16.0,15.0,15.0,15.0,15.0,15.0,15.0,15.0,14.4,14.0,14.0,13.7,13.0,13.0,13.0,13.0,13.0,13.0,12.5,12.4,12.0,12.0,11.75,11.0,11.0,11.0,11.0,11.0,11.0,11.0,11.0,11.0,11.0,11.0,11.0,11.0,10.0,10.0,10.0,10.0,10.0,9.8,9.3,9.0,9.0,9.0,9.0,9.0,9.0,9.0,9.0,9.0,9.0,9.0,9.0,9.0,8.0,8.0,8.0,8.0,8.0,8.0,8.0,8.0,8.0,8.0,8.0,8.0,8.0,8.0,8.0,8.0,8.0,7.0,7.0,7.0,7.0,7.0,7.0,7.0,7.0,7.0,7.0,6.5,6.0,6.0,6.0,6.0,6.0,6.0,6.0,6.0,6.0,6.0,6.0,6.0,6.0,6.0,6.0,6.0,6.0,6.0,6.0,6.0,6.0,5.15,5.0,5.0,5.0,5.0,5.0,5.0,5.0,5.0,5.0,5.0,5.0,5.0,5.0,5.0,5.0,5.0,4.5,4.3,4.0,4.0,4.0,4.0,4.0,4.0,4.0,4.0,4.0,4.0,4.0,4.0,4.0,4.0,4.0,4.0,4.0,4.0,4.0,4.0,4.0,4.0,4.0,4.0,4.0,4.0,4.0,3.5,3.5,3.45,3.2,3.0,3.0,3.0,3.0,3.0,3.0,3.0,3.0,3.0,3.0,3.0,3.0,3.0,3.0,3.0,3.0,3.0,3.0,3.0,3.0,3.0,3.0,3.0,3.0,3.0,3.0,3.0,3.0,2.95,2.4,2.1,2.1,2.0,2.0,2.0,2.0,2.0,2.0,2.0,2.0,2.0,2.0,2.0,2.0,2.0,2.0,2.0,2.0,2.0,2.0,2.0,2.0,2.0,2.0,2.0,2.0,2.0,2.0,2.0,2.0,2.0,2.0,2.0,2.0,2.0,2.0,2.0,2.0,2.0,2.0,2.0,2.0,2.0,2.0,2.0,2.0,2.0,2.0,2.0,2.0,1.55,1.0,1.0,1.0,1.0,1.0,1.0,1.0,1.0,1.0,1.0,1.0,1.0,1.0,1.0,1.0,1.0,1.0,1.0,1.0,1.0,1.0,1.0,1.0,1.0,1.0,1.0,1.0,1.0,1.0,1.0,1.0,1.0,1.0,1.0,1.0,1.0,1.0,1.0,1.0,1.0,1.0,1.0,1.0,1.0,1.0,1.0,1.0,1.0,1.0,1.0,1.0,1.0,1.0,1.0,1.0,1.0,1.0,1.0,1.0,1.0,1.0,1.0,1.0,1.0,1.0,1.0,1.0,1.0,1.0,1.0,1.0,1.0,1.0,1.0,1.0,1.0,1.0,1.0,1.0,1.0,1.0,1.0,1.0,1.0,1.0,1.0,1.0,1.0,1.0,1.0,1.0,1.0,1.0,1.0,1.0,1.0,1.0,1.0,1.0,1.0,1.0,1.0,1.0,0.9],\"yaxis\":\"y\",\"type\":\"scatter\"}],                        {\"template\":{\"data\":{\"histogram2dcontour\":[{\"type\":\"histogram2dcontour\",\"colorbar\":{\"outlinewidth\":0,\"ticks\":\"\"},\"colorscale\":[[0.0,\"#0d0887\"],[0.1111111111111111,\"#46039f\"],[0.2222222222222222,\"#7201a8\"],[0.3333333333333333,\"#9c179e\"],[0.4444444444444444,\"#bd3786\"],[0.5555555555555556,\"#d8576b\"],[0.6666666666666666,\"#ed7953\"],[0.7777777777777778,\"#fb9f3a\"],[0.8888888888888888,\"#fdca26\"],[1.0,\"#f0f921\"]]}],\"choropleth\":[{\"type\":\"choropleth\",\"colorbar\":{\"outlinewidth\":0,\"ticks\":\"\"}}],\"histogram2d\":[{\"type\":\"histogram2d\",\"colorbar\":{\"outlinewidth\":0,\"ticks\":\"\"},\"colorscale\":[[0.0,\"#0d0887\"],[0.1111111111111111,\"#46039f\"],[0.2222222222222222,\"#7201a8\"],[0.3333333333333333,\"#9c179e\"],[0.4444444444444444,\"#bd3786\"],[0.5555555555555556,\"#d8576b\"],[0.6666666666666666,\"#ed7953\"],[0.7777777777777778,\"#fb9f3a\"],[0.8888888888888888,\"#fdca26\"],[1.0,\"#f0f921\"]]}],\"heatmap\":[{\"type\":\"heatmap\",\"colorbar\":{\"outlinewidth\":0,\"ticks\":\"\"},\"colorscale\":[[0.0,\"#0d0887\"],[0.1111111111111111,\"#46039f\"],[0.2222222222222222,\"#7201a8\"],[0.3333333333333333,\"#9c179e\"],[0.4444444444444444,\"#bd3786\"],[0.5555555555555556,\"#d8576b\"],[0.6666666666666666,\"#ed7953\"],[0.7777777777777778,\"#fb9f3a\"],[0.8888888888888888,\"#fdca26\"],[1.0,\"#f0f921\"]]}],\"heatmapgl\":[{\"type\":\"heatmapgl\",\"colorbar\":{\"outlinewidth\":0,\"ticks\":\"\"},\"colorscale\":[[0.0,\"#0d0887\"],[0.1111111111111111,\"#46039f\"],[0.2222222222222222,\"#7201a8\"],[0.3333333333333333,\"#9c179e\"],[0.4444444444444444,\"#bd3786\"],[0.5555555555555556,\"#d8576b\"],[0.6666666666666666,\"#ed7953\"],[0.7777777777777778,\"#fb9f3a\"],[0.8888888888888888,\"#fdca26\"],[1.0,\"#f0f921\"]]}],\"contourcarpet\":[{\"type\":\"contourcarpet\",\"colorbar\":{\"outlinewidth\":0,\"ticks\":\"\"}}],\"contour\":[{\"type\":\"contour\",\"colorbar\":{\"outlinewidth\":0,\"ticks\":\"\"},\"colorscale\":[[0.0,\"#0d0887\"],[0.1111111111111111,\"#46039f\"],[0.2222222222222222,\"#7201a8\"],[0.3333333333333333,\"#9c179e\"],[0.4444444444444444,\"#bd3786\"],[0.5555555555555556,\"#d8576b\"],[0.6666666666666666,\"#ed7953\"],[0.7777777777777778,\"#fb9f3a\"],[0.8888888888888888,\"#fdca26\"],[1.0,\"#f0f921\"]]}],\"surface\":[{\"type\":\"surface\",\"colorbar\":{\"outlinewidth\":0,\"ticks\":\"\"},\"colorscale\":[[0.0,\"#0d0887\"],[0.1111111111111111,\"#46039f\"],[0.2222222222222222,\"#7201a8\"],[0.3333333333333333,\"#9c179e\"],[0.4444444444444444,\"#bd3786\"],[0.5555555555555556,\"#d8576b\"],[0.6666666666666666,\"#ed7953\"],[0.7777777777777778,\"#fb9f3a\"],[0.8888888888888888,\"#fdca26\"],[1.0,\"#f0f921\"]]}],\"mesh3d\":[{\"type\":\"mesh3d\",\"colorbar\":{\"outlinewidth\":0,\"ticks\":\"\"}}],\"scatter\":[{\"fillpattern\":{\"fillmode\":\"overlay\",\"size\":10,\"solidity\":0.2},\"type\":\"scatter\"}],\"parcoords\":[{\"type\":\"parcoords\",\"line\":{\"colorbar\":{\"outlinewidth\":0,\"ticks\":\"\"}}}],\"scatterpolargl\":[{\"type\":\"scatterpolargl\",\"marker\":{\"colorbar\":{\"outlinewidth\":0,\"ticks\":\"\"}}}],\"bar\":[{\"error_x\":{\"color\":\"#2a3f5f\"},\"error_y\":{\"color\":\"#2a3f5f\"},\"marker\":{\"line\":{\"color\":\"#E5ECF6\",\"width\":0.5},\"pattern\":{\"fillmode\":\"overlay\",\"size\":10,\"solidity\":0.2}},\"type\":\"bar\"}],\"scattergeo\":[{\"type\":\"scattergeo\",\"marker\":{\"colorbar\":{\"outlinewidth\":0,\"ticks\":\"\"}}}],\"scatterpolar\":[{\"type\":\"scatterpolar\",\"marker\":{\"colorbar\":{\"outlinewidth\":0,\"ticks\":\"\"}}}],\"histogram\":[{\"marker\":{\"pattern\":{\"fillmode\":\"overlay\",\"size\":10,\"solidity\":0.2}},\"type\":\"histogram\"}],\"scattergl\":[{\"type\":\"scattergl\",\"marker\":{\"colorbar\":{\"outlinewidth\":0,\"ticks\":\"\"}}}],\"scatter3d\":[{\"type\":\"scatter3d\",\"line\":{\"colorbar\":{\"outlinewidth\":0,\"ticks\":\"\"}},\"marker\":{\"colorbar\":{\"outlinewidth\":0,\"ticks\":\"\"}}}],\"scattermapbox\":[{\"type\":\"scattermapbox\",\"marker\":{\"colorbar\":{\"outlinewidth\":0,\"ticks\":\"\"}}}],\"scatterternary\":[{\"type\":\"scatterternary\",\"marker\":{\"colorbar\":{\"outlinewidth\":0,\"ticks\":\"\"}}}],\"scattercarpet\":[{\"type\":\"scattercarpet\",\"marker\":{\"colorbar\":{\"outlinewidth\":0,\"ticks\":\"\"}}}],\"carpet\":[{\"aaxis\":{\"endlinecolor\":\"#2a3f5f\",\"gridcolor\":\"white\",\"linecolor\":\"white\",\"minorgridcolor\":\"white\",\"startlinecolor\":\"#2a3f5f\"},\"baxis\":{\"endlinecolor\":\"#2a3f5f\",\"gridcolor\":\"white\",\"linecolor\":\"white\",\"minorgridcolor\":\"white\",\"startlinecolor\":\"#2a3f5f\"},\"type\":\"carpet\"}],\"table\":[{\"cells\":{\"fill\":{\"color\":\"#EBF0F8\"},\"line\":{\"color\":\"white\"}},\"header\":{\"fill\":{\"color\":\"#C8D4E3\"},\"line\":{\"color\":\"white\"}},\"type\":\"table\"}],\"barpolar\":[{\"marker\":{\"line\":{\"color\":\"#E5ECF6\",\"width\":0.5},\"pattern\":{\"fillmode\":\"overlay\",\"size\":10,\"solidity\":0.2}},\"type\":\"barpolar\"}],\"pie\":[{\"automargin\":true,\"type\":\"pie\"}]},\"layout\":{\"autotypenumbers\":\"strict\",\"colorway\":[\"#636efa\",\"#EF553B\",\"#00cc96\",\"#ab63fa\",\"#FFA15A\",\"#19d3f3\",\"#FF6692\",\"#B6E880\",\"#FF97FF\",\"#FECB52\"],\"font\":{\"color\":\"#2a3f5f\"},\"hovermode\":\"closest\",\"hoverlabel\":{\"align\":\"left\"},\"paper_bgcolor\":\"white\",\"plot_bgcolor\":\"#E5ECF6\",\"polar\":{\"bgcolor\":\"#E5ECF6\",\"angularaxis\":{\"gridcolor\":\"white\",\"linecolor\":\"white\",\"ticks\":\"\"},\"radialaxis\":{\"gridcolor\":\"white\",\"linecolor\":\"white\",\"ticks\":\"\"}},\"ternary\":{\"bgcolor\":\"#E5ECF6\",\"aaxis\":{\"gridcolor\":\"white\",\"linecolor\":\"white\",\"ticks\":\"\"},\"baxis\":{\"gridcolor\":\"white\",\"linecolor\":\"white\",\"ticks\":\"\"},\"caxis\":{\"gridcolor\":\"white\",\"linecolor\":\"white\",\"ticks\":\"\"}},\"coloraxis\":{\"colorbar\":{\"outlinewidth\":0,\"ticks\":\"\"}},\"colorscale\":{\"sequential\":[[0.0,\"#0d0887\"],[0.1111111111111111,\"#46039f\"],[0.2222222222222222,\"#7201a8\"],[0.3333333333333333,\"#9c179e\"],[0.4444444444444444,\"#bd3786\"],[0.5555555555555556,\"#d8576b\"],[0.6666666666666666,\"#ed7953\"],[0.7777777777777778,\"#fb9f3a\"],[0.8888888888888888,\"#fdca26\"],[1.0,\"#f0f921\"]],\"sequentialminus\":[[0.0,\"#0d0887\"],[0.1111111111111111,\"#46039f\"],[0.2222222222222222,\"#7201a8\"],[0.3333333333333333,\"#9c179e\"],[0.4444444444444444,\"#bd3786\"],[0.5555555555555556,\"#d8576b\"],[0.6666666666666666,\"#ed7953\"],[0.7777777777777778,\"#fb9f3a\"],[0.8888888888888888,\"#fdca26\"],[1.0,\"#f0f921\"]],\"diverging\":[[0,\"#8e0152\"],[0.1,\"#c51b7d\"],[0.2,\"#de77ae\"],[0.3,\"#f1b6da\"],[0.4,\"#fde0ef\"],[0.5,\"#f7f7f7\"],[0.6,\"#e6f5d0\"],[0.7,\"#b8e186\"],[0.8,\"#7fbc41\"],[0.9,\"#4d9221\"],[1,\"#276419\"]]},\"xaxis\":{\"gridcolor\":\"white\",\"linecolor\":\"white\",\"ticks\":\"\",\"title\":{\"standoff\":15},\"zerolinecolor\":\"white\",\"automargin\":true,\"zerolinewidth\":2},\"yaxis\":{\"gridcolor\":\"white\",\"linecolor\":\"white\",\"ticks\":\"\",\"title\":{\"standoff\":15},\"zerolinecolor\":\"white\",\"automargin\":true,\"zerolinewidth\":2},\"scene\":{\"xaxis\":{\"backgroundcolor\":\"#E5ECF6\",\"gridcolor\":\"white\",\"linecolor\":\"white\",\"showbackground\":true,\"ticks\":\"\",\"zerolinecolor\":\"white\",\"gridwidth\":2},\"yaxis\":{\"backgroundcolor\":\"#E5ECF6\",\"gridcolor\":\"white\",\"linecolor\":\"white\",\"showbackground\":true,\"ticks\":\"\",\"zerolinecolor\":\"white\",\"gridwidth\":2},\"zaxis\":{\"backgroundcolor\":\"#E5ECF6\",\"gridcolor\":\"white\",\"linecolor\":\"white\",\"showbackground\":true,\"ticks\":\"\",\"zerolinecolor\":\"white\",\"gridwidth\":2}},\"shapedefaults\":{\"line\":{\"color\":\"#2a3f5f\"}},\"annotationdefaults\":{\"arrowcolor\":\"#2a3f5f\",\"arrowhead\":0,\"arrowwidth\":1},\"geo\":{\"bgcolor\":\"white\",\"landcolor\":\"#E5ECF6\",\"subunitcolor\":\"white\",\"showland\":true,\"showlakes\":true,\"lakecolor\":\"white\"},\"title\":{\"x\":0.05},\"mapbox\":{\"style\":\"light\"}}},\"xaxis\":{\"anchor\":\"y\",\"domain\":[0.0,1.0],\"title\":{\"text\":\"DOSTAWCA\"}},\"yaxis\":{\"anchor\":\"x\",\"domain\":[0.0,1.0],\"title\":{\"text\":\"ILOSC\"}},\"legend\":{\"tracegroupgap\":0},\"margin\":{\"t\":60},\"height\":600},                        {\"responsive\": true}                    ).then(function(){\n",
       "                            \n",
       "var gd = document.getElementById('49fbc6d9-89f9-4184-bf6e-b4b6e41f3cdf');\n",
       "var x = new MutationObserver(function (mutations, observer) {{\n",
       "        var display = window.getComputedStyle(gd).display;\n",
       "        if (!display || display === 'none') {{\n",
       "            console.log([gd, 'removed!']);\n",
       "            Plotly.purge(gd);\n",
       "            observer.disconnect();\n",
       "        }}\n",
       "}});\n",
       "\n",
       "// Listen for the removal of the full notebook cells\n",
       "var notebookContainer = gd.closest('#notebook-container');\n",
       "if (notebookContainer) {{\n",
       "    x.observe(notebookContainer, {childList: true});\n",
       "}}\n",
       "\n",
       "// Listen for the clearing of the current output cell\n",
       "var outputEl = gd.closest('.output');\n",
       "if (outputEl) {{\n",
       "    x.observe(outputEl, {childList: true});\n",
       "}}\n",
       "\n",
       "                        })                };                });            </script>        </div>"
      ]
     },
     "metadata": {},
     "output_type": "display_data"
    },
    {
     "data": {
      "text/html": [
       "<div>\n",
       "<style scoped>\n",
       "    .dataframe tbody tr th:only-of-type {\n",
       "        vertical-align: middle;\n",
       "    }\n",
       "\n",
       "    .dataframe tbody tr th {\n",
       "        vertical-align: top;\n",
       "    }\n",
       "\n",
       "    .dataframe thead th {\n",
       "        text-align: right;\n",
       "    }\n",
       "</style>\n",
       "<table border=\"1\" class=\"dataframe\">\n",
       "  <thead>\n",
       "    <tr style=\"text-align: right;\">\n",
       "      <th></th>\n",
       "      <th>DOSTAWCA</th>\n",
       "      <th>ILOSC_x</th>\n",
       "      <th>ILOSC_y</th>\n",
       "    </tr>\n",
       "  </thead>\n",
       "  <tbody>\n",
       "    <tr>\n",
       "      <th>0</th>\n",
       "      <td>10302</td>\n",
       "      <td>4.604674</td>\n",
       "      <td>4.604674</td>\n",
       "    </tr>\n",
       "    <tr>\n",
       "      <th>1</th>\n",
       "      <td>11447</td>\n",
       "      <td>4.101621</td>\n",
       "      <td>8.706294</td>\n",
       "    </tr>\n",
       "    <tr>\n",
       "      <th>2</th>\n",
       "      <td>H00846</td>\n",
       "      <td>3.498503</td>\n",
       "      <td>12.204797</td>\n",
       "    </tr>\n",
       "    <tr>\n",
       "      <th>3</th>\n",
       "      <td>9469</td>\n",
       "      <td>3.494937</td>\n",
       "      <td>15.699734</td>\n",
       "    </tr>\n",
       "    <tr>\n",
       "      <th>4</th>\n",
       "      <td>11859</td>\n",
       "      <td>3.251592</td>\n",
       "      <td>18.951326</td>\n",
       "    </tr>\n",
       "    <tr>\n",
       "      <th>...</th>\n",
       "      <td>...</td>\n",
       "      <td>...</td>\n",
       "      <td>...</td>\n",
       "    </tr>\n",
       "    <tr>\n",
       "      <th>512</th>\n",
       "      <td>F69236</td>\n",
       "      <td>0.004196</td>\n",
       "      <td>99.983637</td>\n",
       "    </tr>\n",
       "    <tr>\n",
       "      <th>513</th>\n",
       "      <td>11131</td>\n",
       "      <td>0.004196</td>\n",
       "      <td>99.987833</td>\n",
       "    </tr>\n",
       "    <tr>\n",
       "      <th>514</th>\n",
       "      <td>12818</td>\n",
       "      <td>0.004196</td>\n",
       "      <td>99.992028</td>\n",
       "    </tr>\n",
       "    <tr>\n",
       "      <th>515</th>\n",
       "      <td>12350</td>\n",
       "      <td>0.004196</td>\n",
       "      <td>99.996224</td>\n",
       "    </tr>\n",
       "    <tr>\n",
       "      <th>516</th>\n",
       "      <td>F51806</td>\n",
       "      <td>0.003776</td>\n",
       "      <td>100.000000</td>\n",
       "    </tr>\n",
       "  </tbody>\n",
       "</table>\n",
       "<p>517 rows × 3 columns</p>\n",
       "</div>"
      ],
      "text/plain": [
       "    DOSTAWCA   ILOSC_x     ILOSC_y\n",
       "0      10302  4.604674    4.604674\n",
       "1      11447  4.101621    8.706294\n",
       "2     H00846  3.498503   12.204797\n",
       "3       9469  3.494937   15.699734\n",
       "4      11859  3.251592   18.951326\n",
       "..       ...       ...         ...\n",
       "512   F69236  0.004196   99.983637\n",
       "513    11131  0.004196   99.987833\n",
       "514    12818  0.004196   99.992028\n",
       "515    12350  0.004196   99.996224\n",
       "516   F51806  0.003776  100.000000\n",
       "\n",
       "[517 rows x 3 columns]"
      ]
     },
     "metadata": {},
     "output_type": "display_data"
    }
   ],
   "source": [
    "func_plot_scatter(df_fi, {'ILOSC':'sum'}, 'DOSTAWCA')"
   ]
  },
  {
   "cell_type": "code",
   "execution_count": 227,
   "id": "765f9b05-3689-4929-855a-38238fe1f9fd",
   "metadata": {},
   "outputs": [
    {
     "data": {
      "application/vnd.plotly.v1+json": {
       "config": {
        "plotlyServerURL": "https://plot.ly"
       },
       "data": [
        {
         "hovertemplate": "NAZWA_ZNACZNIK=%{x}<br>ILOSC=%{y}<extra></extra>",
         "legendgroup": "",
         "marker": {
          "color": "#636efa",
          "symbol": "circle"
         },
         "mode": "markers",
         "name": "",
         "orientation": "v",
         "showlegend": false,
         "type": "scatter",
         "x": [
          "ZAS.GOTOWE",
          "CERAMIKA",
          "BELKI",
          "RĘCZNIKI",
          "KWIATY",
          "PASMANTERIA",
          "TAŚMY",
          "ŚWIĘTA",
          "PODUSZKI",
          "Hit BAZA",
          "POŚCIEL",
          "NARZUTY",
          "WKŁ+PODUSZ.",
          "WYPOSAŻENIE",
          "PODKŁADKI",
          "OBRUSY",
          "LAMPY",
          "OBRAZY",
          "INNE",
          "ART.DEKORACYJNE",
          "KOCE",
          "DEKORACJE",
          "WIELKANOC",
          "ROLETY",
          "KOŁDRY",
          "REKL.+ETYK.",
          "CER.UŻYTKOWA",
          "ŚWIECE",
          "USŁUGI SZYCIA",
          "HOTELE",
          "SPAGETTI",
          "PASM.SALON"
         ],
         "xaxis": "x",
         "y": [
          3863,
          3226,
          2557.68,
          2332,
          1776,
          1649.19,
          1438.5,
          1362,
          1122,
          1058.7,
          688,
          433,
          359,
          351,
          308,
          246,
          234,
          214,
          134,
          121,
          111,
          94.41,
          80,
          25,
          15,
          13,
          12,
          4,
          3,
          2,
          1,
          1
         ],
         "yaxis": "y"
        }
       ],
       "layout": {
        "autosize": true,
        "legend": {
         "tracegroupgap": 0
        },
        "margin": {
         "t": 60
        },
        "template": {
         "data": {
          "bar": [
           {
            "error_x": {
             "color": "#2a3f5f"
            },
            "error_y": {
             "color": "#2a3f5f"
            },
            "marker": {
             "line": {
              "color": "#E5ECF6",
              "width": 0.5
             },
             "pattern": {
              "fillmode": "overlay",
              "size": 10,
              "solidity": 0.2
             }
            },
            "type": "bar"
           }
          ],
          "barpolar": [
           {
            "marker": {
             "line": {
              "color": "#E5ECF6",
              "width": 0.5
             },
             "pattern": {
              "fillmode": "overlay",
              "size": 10,
              "solidity": 0.2
             }
            },
            "type": "barpolar"
           }
          ],
          "carpet": [
           {
            "aaxis": {
             "endlinecolor": "#2a3f5f",
             "gridcolor": "white",
             "linecolor": "white",
             "minorgridcolor": "white",
             "startlinecolor": "#2a3f5f"
            },
            "baxis": {
             "endlinecolor": "#2a3f5f",
             "gridcolor": "white",
             "linecolor": "white",
             "minorgridcolor": "white",
             "startlinecolor": "#2a3f5f"
            },
            "type": "carpet"
           }
          ],
          "choropleth": [
           {
            "colorbar": {
             "outlinewidth": 0,
             "ticks": ""
            },
            "type": "choropleth"
           }
          ],
          "contour": [
           {
            "colorbar": {
             "outlinewidth": 0,
             "ticks": ""
            },
            "colorscale": [
             [
              0,
              "#0d0887"
             ],
             [
              0.1111111111111111,
              "#46039f"
             ],
             [
              0.2222222222222222,
              "#7201a8"
             ],
             [
              0.3333333333333333,
              "#9c179e"
             ],
             [
              0.4444444444444444,
              "#bd3786"
             ],
             [
              0.5555555555555556,
              "#d8576b"
             ],
             [
              0.6666666666666666,
              "#ed7953"
             ],
             [
              0.7777777777777778,
              "#fb9f3a"
             ],
             [
              0.8888888888888888,
              "#fdca26"
             ],
             [
              1,
              "#f0f921"
             ]
            ],
            "type": "contour"
           }
          ],
          "contourcarpet": [
           {
            "colorbar": {
             "outlinewidth": 0,
             "ticks": ""
            },
            "type": "contourcarpet"
           }
          ],
          "heatmap": [
           {
            "colorbar": {
             "outlinewidth": 0,
             "ticks": ""
            },
            "colorscale": [
             [
              0,
              "#0d0887"
             ],
             [
              0.1111111111111111,
              "#46039f"
             ],
             [
              0.2222222222222222,
              "#7201a8"
             ],
             [
              0.3333333333333333,
              "#9c179e"
             ],
             [
              0.4444444444444444,
              "#bd3786"
             ],
             [
              0.5555555555555556,
              "#d8576b"
             ],
             [
              0.6666666666666666,
              "#ed7953"
             ],
             [
              0.7777777777777778,
              "#fb9f3a"
             ],
             [
              0.8888888888888888,
              "#fdca26"
             ],
             [
              1,
              "#f0f921"
             ]
            ],
            "type": "heatmap"
           }
          ],
          "heatmapgl": [
           {
            "colorbar": {
             "outlinewidth": 0,
             "ticks": ""
            },
            "colorscale": [
             [
              0,
              "#0d0887"
             ],
             [
              0.1111111111111111,
              "#46039f"
             ],
             [
              0.2222222222222222,
              "#7201a8"
             ],
             [
              0.3333333333333333,
              "#9c179e"
             ],
             [
              0.4444444444444444,
              "#bd3786"
             ],
             [
              0.5555555555555556,
              "#d8576b"
             ],
             [
              0.6666666666666666,
              "#ed7953"
             ],
             [
              0.7777777777777778,
              "#fb9f3a"
             ],
             [
              0.8888888888888888,
              "#fdca26"
             ],
             [
              1,
              "#f0f921"
             ]
            ],
            "type": "heatmapgl"
           }
          ],
          "histogram": [
           {
            "marker": {
             "pattern": {
              "fillmode": "overlay",
              "size": 10,
              "solidity": 0.2
             }
            },
            "type": "histogram"
           }
          ],
          "histogram2d": [
           {
            "colorbar": {
             "outlinewidth": 0,
             "ticks": ""
            },
            "colorscale": [
             [
              0,
              "#0d0887"
             ],
             [
              0.1111111111111111,
              "#46039f"
             ],
             [
              0.2222222222222222,
              "#7201a8"
             ],
             [
              0.3333333333333333,
              "#9c179e"
             ],
             [
              0.4444444444444444,
              "#bd3786"
             ],
             [
              0.5555555555555556,
              "#d8576b"
             ],
             [
              0.6666666666666666,
              "#ed7953"
             ],
             [
              0.7777777777777778,
              "#fb9f3a"
             ],
             [
              0.8888888888888888,
              "#fdca26"
             ],
             [
              1,
              "#f0f921"
             ]
            ],
            "type": "histogram2d"
           }
          ],
          "histogram2dcontour": [
           {
            "colorbar": {
             "outlinewidth": 0,
             "ticks": ""
            },
            "colorscale": [
             [
              0,
              "#0d0887"
             ],
             [
              0.1111111111111111,
              "#46039f"
             ],
             [
              0.2222222222222222,
              "#7201a8"
             ],
             [
              0.3333333333333333,
              "#9c179e"
             ],
             [
              0.4444444444444444,
              "#bd3786"
             ],
             [
              0.5555555555555556,
              "#d8576b"
             ],
             [
              0.6666666666666666,
              "#ed7953"
             ],
             [
              0.7777777777777778,
              "#fb9f3a"
             ],
             [
              0.8888888888888888,
              "#fdca26"
             ],
             [
              1,
              "#f0f921"
             ]
            ],
            "type": "histogram2dcontour"
           }
          ],
          "mesh3d": [
           {
            "colorbar": {
             "outlinewidth": 0,
             "ticks": ""
            },
            "type": "mesh3d"
           }
          ],
          "parcoords": [
           {
            "line": {
             "colorbar": {
              "outlinewidth": 0,
              "ticks": ""
             }
            },
            "type": "parcoords"
           }
          ],
          "pie": [
           {
            "automargin": true,
            "type": "pie"
           }
          ],
          "scatter": [
           {
            "fillpattern": {
             "fillmode": "overlay",
             "size": 10,
             "solidity": 0.2
            },
            "type": "scatter"
           }
          ],
          "scatter3d": [
           {
            "line": {
             "colorbar": {
              "outlinewidth": 0,
              "ticks": ""
             }
            },
            "marker": {
             "colorbar": {
              "outlinewidth": 0,
              "ticks": ""
             }
            },
            "type": "scatter3d"
           }
          ],
          "scattercarpet": [
           {
            "marker": {
             "colorbar": {
              "outlinewidth": 0,
              "ticks": ""
             }
            },
            "type": "scattercarpet"
           }
          ],
          "scattergeo": [
           {
            "marker": {
             "colorbar": {
              "outlinewidth": 0,
              "ticks": ""
             }
            },
            "type": "scattergeo"
           }
          ],
          "scattergl": [
           {
            "marker": {
             "colorbar": {
              "outlinewidth": 0,
              "ticks": ""
             }
            },
            "type": "scattergl"
           }
          ],
          "scattermapbox": [
           {
            "marker": {
             "colorbar": {
              "outlinewidth": 0,
              "ticks": ""
             }
            },
            "type": "scattermapbox"
           }
          ],
          "scatterpolar": [
           {
            "marker": {
             "colorbar": {
              "outlinewidth": 0,
              "ticks": ""
             }
            },
            "type": "scatterpolar"
           }
          ],
          "scatterpolargl": [
           {
            "marker": {
             "colorbar": {
              "outlinewidth": 0,
              "ticks": ""
             }
            },
            "type": "scatterpolargl"
           }
          ],
          "scatterternary": [
           {
            "marker": {
             "colorbar": {
              "outlinewidth": 0,
              "ticks": ""
             }
            },
            "type": "scatterternary"
           }
          ],
          "surface": [
           {
            "colorbar": {
             "outlinewidth": 0,
             "ticks": ""
            },
            "colorscale": [
             [
              0,
              "#0d0887"
             ],
             [
              0.1111111111111111,
              "#46039f"
             ],
             [
              0.2222222222222222,
              "#7201a8"
             ],
             [
              0.3333333333333333,
              "#9c179e"
             ],
             [
              0.4444444444444444,
              "#bd3786"
             ],
             [
              0.5555555555555556,
              "#d8576b"
             ],
             [
              0.6666666666666666,
              "#ed7953"
             ],
             [
              0.7777777777777778,
              "#fb9f3a"
             ],
             [
              0.8888888888888888,
              "#fdca26"
             ],
             [
              1,
              "#f0f921"
             ]
            ],
            "type": "surface"
           }
          ],
          "table": [
           {
            "cells": {
             "fill": {
              "color": "#EBF0F8"
             },
             "line": {
              "color": "white"
             }
            },
            "header": {
             "fill": {
              "color": "#C8D4E3"
             },
             "line": {
              "color": "white"
             }
            },
            "type": "table"
           }
          ]
         },
         "layout": {
          "annotationdefaults": {
           "arrowcolor": "#2a3f5f",
           "arrowhead": 0,
           "arrowwidth": 1
          },
          "autotypenumbers": "strict",
          "coloraxis": {
           "colorbar": {
            "outlinewidth": 0,
            "ticks": ""
           }
          },
          "colorscale": {
           "diverging": [
            [
             0,
             "#8e0152"
            ],
            [
             0.1,
             "#c51b7d"
            ],
            [
             0.2,
             "#de77ae"
            ],
            [
             0.3,
             "#f1b6da"
            ],
            [
             0.4,
             "#fde0ef"
            ],
            [
             0.5,
             "#f7f7f7"
            ],
            [
             0.6,
             "#e6f5d0"
            ],
            [
             0.7,
             "#b8e186"
            ],
            [
             0.8,
             "#7fbc41"
            ],
            [
             0.9,
             "#4d9221"
            ],
            [
             1,
             "#276419"
            ]
           ],
           "sequential": [
            [
             0,
             "#0d0887"
            ],
            [
             0.1111111111111111,
             "#46039f"
            ],
            [
             0.2222222222222222,
             "#7201a8"
            ],
            [
             0.3333333333333333,
             "#9c179e"
            ],
            [
             0.4444444444444444,
             "#bd3786"
            ],
            [
             0.5555555555555556,
             "#d8576b"
            ],
            [
             0.6666666666666666,
             "#ed7953"
            ],
            [
             0.7777777777777778,
             "#fb9f3a"
            ],
            [
             0.8888888888888888,
             "#fdca26"
            ],
            [
             1,
             "#f0f921"
            ]
           ],
           "sequentialminus": [
            [
             0,
             "#0d0887"
            ],
            [
             0.1111111111111111,
             "#46039f"
            ],
            [
             0.2222222222222222,
             "#7201a8"
            ],
            [
             0.3333333333333333,
             "#9c179e"
            ],
            [
             0.4444444444444444,
             "#bd3786"
            ],
            [
             0.5555555555555556,
             "#d8576b"
            ],
            [
             0.6666666666666666,
             "#ed7953"
            ],
            [
             0.7777777777777778,
             "#fb9f3a"
            ],
            [
             0.8888888888888888,
             "#fdca26"
            ],
            [
             1,
             "#f0f921"
            ]
           ]
          },
          "colorway": [
           "#636efa",
           "#EF553B",
           "#00cc96",
           "#ab63fa",
           "#FFA15A",
           "#19d3f3",
           "#FF6692",
           "#B6E880",
           "#FF97FF",
           "#FECB52"
          ],
          "font": {
           "color": "#2a3f5f"
          },
          "geo": {
           "bgcolor": "white",
           "lakecolor": "white",
           "landcolor": "#E5ECF6",
           "showlakes": true,
           "showland": true,
           "subunitcolor": "white"
          },
          "hoverlabel": {
           "align": "left"
          },
          "hovermode": "closest",
          "mapbox": {
           "style": "light"
          },
          "paper_bgcolor": "white",
          "plot_bgcolor": "#E5ECF6",
          "polar": {
           "angularaxis": {
            "gridcolor": "white",
            "linecolor": "white",
            "ticks": ""
           },
           "bgcolor": "#E5ECF6",
           "radialaxis": {
            "gridcolor": "white",
            "linecolor": "white",
            "ticks": ""
           }
          },
          "scene": {
           "xaxis": {
            "backgroundcolor": "#E5ECF6",
            "gridcolor": "white",
            "gridwidth": 2,
            "linecolor": "white",
            "showbackground": true,
            "ticks": "",
            "zerolinecolor": "white"
           },
           "yaxis": {
            "backgroundcolor": "#E5ECF6",
            "gridcolor": "white",
            "gridwidth": 2,
            "linecolor": "white",
            "showbackground": true,
            "ticks": "",
            "zerolinecolor": "white"
           },
           "zaxis": {
            "backgroundcolor": "#E5ECF6",
            "gridcolor": "white",
            "gridwidth": 2,
            "linecolor": "white",
            "showbackground": true,
            "ticks": "",
            "zerolinecolor": "white"
           }
          },
          "shapedefaults": {
           "line": {
            "color": "#2a3f5f"
           }
          },
          "ternary": {
           "aaxis": {
            "gridcolor": "white",
            "linecolor": "white",
            "ticks": ""
           },
           "baxis": {
            "gridcolor": "white",
            "linecolor": "white",
            "ticks": ""
           },
           "bgcolor": "#E5ECF6",
           "caxis": {
            "gridcolor": "white",
            "linecolor": "white",
            "ticks": ""
           }
          },
          "title": {
           "x": 0.05
          },
          "xaxis": {
           "automargin": true,
           "gridcolor": "white",
           "linecolor": "white",
           "ticks": "",
           "title": {
            "standoff": 15
           },
           "zerolinecolor": "white",
           "zerolinewidth": 2
          },
          "yaxis": {
           "automargin": true,
           "gridcolor": "white",
           "linecolor": "white",
           "ticks": "",
           "title": {
            "standoff": 15
           },
           "zerolinecolor": "white",
           "zerolinewidth": 2
          }
         }
        },
        "xaxis": {
         "anchor": "y",
         "autorange": true,
         "domain": [
          0,
          1
         ],
         "range": [
          -1.814536878216124,
          32.814536878216124
         ],
         "title": {
          "text": "NAZWA_ZNACZNIK"
         },
         "type": "category"
        },
        "yaxis": {
         "anchor": "x",
         "autorange": true,
         "domain": [
          0,
          1
         ],
         "range": [
          -256.0586370839937,
          4120.058637083994
         ],
         "title": {
          "text": "ILOSC"
         },
         "type": "linear"
        }
       }
      },
      "image/png": "[encoded data removed]",
      "text/html": [
       "<div>                            <div id=\"29049249-399f-4dee-9f6a-e01bda0244fc\" class=\"plotly-graph-div\" style=\"height:600px; width:100%;\"></div>            <script type=\"text/javascript\">                require([\"plotly\"], function(Plotly) {                    window.PLOTLYENV=window.PLOTLYENV || {};                                    if (document.getElementById(\"29049249-399f-4dee-9f6a-e01bda0244fc\")) {                    Plotly.newPlot(                        \"29049249-399f-4dee-9f6a-e01bda0244fc\",                        [{\"hovertemplate\":\"NAZWA_ZNACZNIK=%{x}<br>ILOSC=%{y}<extra></extra>\",\"legendgroup\":\"\",\"marker\":{\"color\":\"#636efa\",\"symbol\":\"circle\"},\"mode\":\"markers\",\"name\":\"\",\"orientation\":\"v\",\"showlegend\":false,\"x\":[\"ZAS.GOTOWE\",\"CERAMIKA\",\"BELKI\",\"R\\u0118CZNIKI\",\"KWIATY\",\"PASMANTERIA\",\"TA\\u015aMY\",\"\\u015aWI\\u0118TA\",\"PODUSZKI\",\"Hit BAZA\",\"PO\\u015aCIEL\",\"NARZUTY\",\"WK\\u0141+PODUSZ.\",\"WYPOSA\\u017bENIE\",\"PODK\\u0141ADKI\",\"OBRUSY\",\"LAMPY\",\"OBRAZY\",\"INNE\",\"ART.DEKORACYJNE\",\"KOCE\",\"DEKORACJE\",\"WIELKANOC\",\"ROLETY\",\"KO\\u0141DRY\",\"REKL.+ETYK.\",\"CER.U\\u017bYTKOWA\",\"\\u015aWIECE\",\"US\\u0141UGI SZYCIA\",\"HOTELE\",\"SPAGETTI\",\"PASM.SALON\"],\"xaxis\":\"x\",\"y\":[3863.0,3226.0,2557.68,2332.0,1776.0,1649.19,1438.5,1362.0,1122.0,1058.7,688.0,433.0,359.0,351.0,308.0,246.0,234.0,214.0,134.0,121.0,111.0,94.41,80.0,25.0,15.0,13.0,12.0,4.0,3.0,2.0,1.0,1.0],\"yaxis\":\"y\",\"type\":\"scatter\"}],                        {\"template\":{\"data\":{\"histogram2dcontour\":[{\"type\":\"histogram2dcontour\",\"colorbar\":{\"outlinewidth\":0,\"ticks\":\"\"},\"colorscale\":[[0.0,\"#0d0887\"],[0.1111111111111111,\"#46039f\"],[0.2222222222222222,\"#7201a8\"],[0.3333333333333333,\"#9c179e\"],[0.4444444444444444,\"#bd3786\"],[0.5555555555555556,\"#d8576b\"],[0.6666666666666666,\"#ed7953\"],[0.7777777777777778,\"#fb9f3a\"],[0.8888888888888888,\"#fdca26\"],[1.0,\"#f0f921\"]]}],\"choropleth\":[{\"type\":\"choropleth\",\"colorbar\":{\"outlinewidth\":0,\"ticks\":\"\"}}],\"histogram2d\":[{\"type\":\"histogram2d\",\"colorbar\":{\"outlinewidth\":0,\"ticks\":\"\"},\"colorscale\":[[0.0,\"#0d0887\"],[0.1111111111111111,\"#46039f\"],[0.2222222222222222,\"#7201a8\"],[0.3333333333333333,\"#9c179e\"],[0.4444444444444444,\"#bd3786\"],[0.5555555555555556,\"#d8576b\"],[0.6666666666666666,\"#ed7953\"],[0.7777777777777778,\"#fb9f3a\"],[0.8888888888888888,\"#fdca26\"],[1.0,\"#f0f921\"]]}],\"heatmap\":[{\"type\":\"heatmap\",\"colorbar\":{\"outlinewidth\":0,\"ticks\":\"\"},\"colorscale\":[[0.0,\"#0d0887\"],[0.1111111111111111,\"#46039f\"],[0.2222222222222222,\"#7201a8\"],[0.3333333333333333,\"#9c179e\"],[0.4444444444444444,\"#bd3786\"],[0.5555555555555556,\"#d8576b\"],[0.6666666666666666,\"#ed7953\"],[0.7777777777777778,\"#fb9f3a\"],[0.8888888888888888,\"#fdca26\"],[1.0,\"#f0f921\"]]}],\"heatmapgl\":[{\"type\":\"heatmapgl\",\"colorbar\":{\"outlinewidth\":0,\"ticks\":\"\"},\"colorscale\":[[0.0,\"#0d0887\"],[0.1111111111111111,\"#46039f\"],[0.2222222222222222,\"#7201a8\"],[0.3333333333333333,\"#9c179e\"],[0.4444444444444444,\"#bd3786\"],[0.5555555555555556,\"#d8576b\"],[0.6666666666666666,\"#ed7953\"],[0.7777777777777778,\"#fb9f3a\"],[0.8888888888888888,\"#fdca26\"],[1.0,\"#f0f921\"]]}],\"contourcarpet\":[{\"type\":\"contourcarpet\",\"colorbar\":{\"outlinewidth\":0,\"ticks\":\"\"}}],\"contour\":[{\"type\":\"contour\",\"colorbar\":{\"outlinewidth\":0,\"ticks\":\"\"},\"colorscale\":[[0.0,\"#0d0887\"],[0.1111111111111111,\"#46039f\"],[0.2222222222222222,\"#7201a8\"],[0.3333333333333333,\"#9c179e\"],[0.4444444444444444,\"#bd3786\"],[0.5555555555555556,\"#d8576b\"],[0.6666666666666666,\"#ed7953\"],[0.7777777777777778,\"#fb9f3a\"],[0.8888888888888888,\"#fdca26\"],[1.0,\"#f0f921\"]]}],\"surface\":[{\"type\":\"surface\",\"colorbar\":{\"outlinewidth\":0,\"ticks\":\"\"},\"colorscale\":[[0.0,\"#0d0887\"],[0.1111111111111111,\"#46039f\"],[0.2222222222222222,\"#7201a8\"],[0.3333333333333333,\"#9c179e\"],[0.4444444444444444,\"#bd3786\"],[0.5555555555555556,\"#d8576b\"],[0.6666666666666666,\"#ed7953\"],[0.7777777777777778,\"#fb9f3a\"],[0.8888888888888888,\"#fdca26\"],[1.0,\"#f0f921\"]]}],\"mesh3d\":[{\"type\":\"mesh3d\",\"colorbar\":{\"outlinewidth\":0,\"ticks\":\"\"}}],\"scatter\":[{\"fillpattern\":{\"fillmode\":\"overlay\",\"size\":10,\"solidity\":0.2},\"type\":\"scatter\"}],\"parcoords\":[{\"type\":\"parcoords\",\"line\":{\"colorbar\":{\"outlinewidth\":0,\"ticks\":\"\"}}}],\"scatterpolargl\":[{\"type\":\"scatterpolargl\",\"marker\":{\"colorbar\":{\"outlinewidth\":0,\"ticks\":\"\"}}}],\"bar\":[{\"error_x\":{\"color\":\"#2a3f5f\"},\"error_y\":{\"color\":\"#2a3f5f\"},\"marker\":{\"line\":{\"color\":\"#E5ECF6\",\"width\":0.5},\"pattern\":{\"fillmode\":\"overlay\",\"size\":10,\"solidity\":0.2}},\"type\":\"bar\"}],\"scattergeo\":[{\"type\":\"scattergeo\",\"marker\":{\"colorbar\":{\"outlinewidth\":0,\"ticks\":\"\"}}}],\"scatterpolar\":[{\"type\":\"scatterpolar\",\"marker\":{\"colorbar\":{\"outlinewidth\":0,\"ticks\":\"\"}}}],\"histogram\":[{\"marker\":{\"pattern\":{\"fillmode\":\"overlay\",\"size\":10,\"solidity\":0.2}},\"type\":\"histogram\"}],\"scattergl\":[{\"type\":\"scattergl\",\"marker\":{\"colorbar\":{\"outlinewidth\":0,\"ticks\":\"\"}}}],\"scatter3d\":[{\"type\":\"scatter3d\",\"line\":{\"colorbar\":{\"outlinewidth\":0,\"ticks\":\"\"}},\"marker\":{\"colorbar\":{\"outlinewidth\":0,\"ticks\":\"\"}}}],\"scattermapbox\":[{\"type\":\"scattermapbox\",\"marker\":{\"colorbar\":{\"outlinewidth\":0,\"ticks\":\"\"}}}],\"scatterternary\":[{\"type\":\"scatterternary\",\"marker\":{\"colorbar\":{\"outlinewidth\":0,\"ticks\":\"\"}}}],\"scattercarpet\":[{\"type\":\"scattercarpet\",\"marker\":{\"colorbar\":{\"outlinewidth\":0,\"ticks\":\"\"}}}],\"carpet\":[{\"aaxis\":{\"endlinecolor\":\"#2a3f5f\",\"gridcolor\":\"white\",\"linecolor\":\"white\",\"minorgridcolor\":\"white\",\"startlinecolor\":\"#2a3f5f\"},\"baxis\":{\"endlinecolor\":\"#2a3f5f\",\"gridcolor\":\"white\",\"linecolor\":\"white\",\"minorgridcolor\":\"white\",\"startlinecolor\":\"#2a3f5f\"},\"type\":\"carpet\"}],\"table\":[{\"cells\":{\"fill\":{\"color\":\"#EBF0F8\"},\"line\":{\"color\":\"white\"}},\"header\":{\"fill\":{\"color\":\"#C8D4E3\"},\"line\":{\"color\":\"white\"}},\"type\":\"table\"}],\"barpolar\":[{\"marker\":{\"line\":{\"color\":\"#E5ECF6\",\"width\":0.5},\"pattern\":{\"fillmode\":\"overlay\",\"size\":10,\"solidity\":0.2}},\"type\":\"barpolar\"}],\"pie\":[{\"automargin\":true,\"type\":\"pie\"}]},\"layout\":{\"autotypenumbers\":\"strict\",\"colorway\":[\"#636efa\",\"#EF553B\",\"#00cc96\",\"#ab63fa\",\"#FFA15A\",\"#19d3f3\",\"#FF6692\",\"#B6E880\",\"#FF97FF\",\"#FECB52\"],\"font\":{\"color\":\"#2a3f5f\"},\"hovermode\":\"closest\",\"hoverlabel\":{\"align\":\"left\"},\"paper_bgcolor\":\"white\",\"plot_bgcolor\":\"#E5ECF6\",\"polar\":{\"bgcolor\":\"#E5ECF6\",\"angularaxis\":{\"gridcolor\":\"white\",\"linecolor\":\"white\",\"ticks\":\"\"},\"radialaxis\":{\"gridcolor\":\"white\",\"linecolor\":\"white\",\"ticks\":\"\"}},\"ternary\":{\"bgcolor\":\"#E5ECF6\",\"aaxis\":{\"gridcolor\":\"white\",\"linecolor\":\"white\",\"ticks\":\"\"},\"baxis\":{\"gridcolor\":\"white\",\"linecolor\":\"white\",\"ticks\":\"\"},\"caxis\":{\"gridcolor\":\"white\",\"linecolor\":\"white\",\"ticks\":\"\"}},\"coloraxis\":{\"colorbar\":{\"outlinewidth\":0,\"ticks\":\"\"}},\"colorscale\":{\"sequential\":[[0.0,\"#0d0887\"],[0.1111111111111111,\"#46039f\"],[0.2222222222222222,\"#7201a8\"],[0.3333333333333333,\"#9c179e\"],[0.4444444444444444,\"#bd3786\"],[0.5555555555555556,\"#d8576b\"],[0.6666666666666666,\"#ed7953\"],[0.7777777777777778,\"#fb9f3a\"],[0.8888888888888888,\"#fdca26\"],[1.0,\"#f0f921\"]],\"sequentialminus\":[[0.0,\"#0d0887\"],[0.1111111111111111,\"#46039f\"],[0.2222222222222222,\"#7201a8\"],[0.3333333333333333,\"#9c179e\"],[0.4444444444444444,\"#bd3786\"],[0.5555555555555556,\"#d8576b\"],[0.6666666666666666,\"#ed7953\"],[0.7777777777777778,\"#fb9f3a\"],[0.8888888888888888,\"#fdca26\"],[1.0,\"#f0f921\"]],\"diverging\":[[0,\"#8e0152\"],[0.1,\"#c51b7d\"],[0.2,\"#de77ae\"],[0.3,\"#f1b6da\"],[0.4,\"#fde0ef\"],[0.5,\"#f7f7f7\"],[0.6,\"#e6f5d0\"],[0.7,\"#b8e186\"],[0.8,\"#7fbc41\"],[0.9,\"#4d9221\"],[1,\"#276419\"]]},\"xaxis\":{\"gridcolor\":\"white\",\"linecolor\":\"white\",\"ticks\":\"\",\"title\":{\"standoff\":15},\"zerolinecolor\":\"white\",\"automargin\":true,\"zerolinewidth\":2},\"yaxis\":{\"gridcolor\":\"white\",\"linecolor\":\"white\",\"ticks\":\"\",\"title\":{\"standoff\":15},\"zerolinecolor\":\"white\",\"automargin\":true,\"zerolinewidth\":2},\"scene\":{\"xaxis\":{\"backgroundcolor\":\"#E5ECF6\",\"gridcolor\":\"white\",\"linecolor\":\"white\",\"showbackground\":true,\"ticks\":\"\",\"zerolinecolor\":\"white\",\"gridwidth\":2},\"yaxis\":{\"backgroundcolor\":\"#E5ECF6\",\"gridcolor\":\"white\",\"linecolor\":\"white\",\"showbackground\":true,\"ticks\":\"\",\"zerolinecolor\":\"white\",\"gridwidth\":2},\"zaxis\":{\"backgroundcolor\":\"#E5ECF6\",\"gridcolor\":\"white\",\"linecolor\":\"white\",\"showbackground\":true,\"ticks\":\"\",\"zerolinecolor\":\"white\",\"gridwidth\":2}},\"shapedefaults\":{\"line\":{\"color\":\"#2a3f5f\"}},\"annotationdefaults\":{\"arrowcolor\":\"#2a3f5f\",\"arrowhead\":0,\"arrowwidth\":1},\"geo\":{\"bgcolor\":\"white\",\"landcolor\":\"#E5ECF6\",\"subunitcolor\":\"white\",\"showland\":true,\"showlakes\":true,\"lakecolor\":\"white\"},\"title\":{\"x\":0.05},\"mapbox\":{\"style\":\"light\"}}},\"xaxis\":{\"anchor\":\"y\",\"domain\":[0.0,1.0],\"title\":{\"text\":\"NAZWA_ZNACZNIK\"}},\"yaxis\":{\"anchor\":\"x\",\"domain\":[0.0,1.0],\"title\":{\"text\":\"ILOSC\"}},\"legend\":{\"tracegroupgap\":0},\"margin\":{\"t\":60},\"height\":600},                        {\"responsive\": true}                    ).then(function(){\n",
       "                            \n",
       "var gd = document.getElementById('29049249-399f-4dee-9f6a-e01bda0244fc');\n",
       "var x = new MutationObserver(function (mutations, observer) {{\n",
       "        var display = window.getComputedStyle(gd).display;\n",
       "        if (!display || display === 'none') {{\n",
       "            console.log([gd, 'removed!']);\n",
       "            Plotly.purge(gd);\n",
       "            observer.disconnect();\n",
       "        }}\n",
       "}});\n",
       "\n",
       "// Listen for the removal of the full notebook cells\n",
       "var notebookContainer = gd.closest('#notebook-container');\n",
       "if (notebookContainer) {{\n",
       "    x.observe(notebookContainer, {childList: true});\n",
       "}}\n",
       "\n",
       "// Listen for the clearing of the current output cell\n",
       "var outputEl = gd.closest('.output');\n",
       "if (outputEl) {{\n",
       "    x.observe(outputEl, {childList: true});\n",
       "}}\n",
       "\n",
       "                        })                };                });            </script>        </div>"
      ]
     },
     "metadata": {},
     "output_type": "display_data"
    },
    {
     "data": {
      "text/html": [
       "<div>\n",
       "<style scoped>\n",
       "    .dataframe tbody tr th:only-of-type {\n",
       "        vertical-align: middle;\n",
       "    }\n",
       "\n",
       "    .dataframe tbody tr th {\n",
       "        vertical-align: top;\n",
       "    }\n",
       "\n",
       "    .dataframe thead th {\n",
       "        text-align: right;\n",
       "    }\n",
       "</style>\n",
       "<table border=\"1\" class=\"dataframe\">\n",
       "  <thead>\n",
       "    <tr style=\"text-align: right;\">\n",
       "      <th></th>\n",
       "      <th>NAZWA_ZNACZNIK</th>\n",
       "      <th>ILOSC_x</th>\n",
       "      <th>ILOSC_y</th>\n",
       "    </tr>\n",
       "  </thead>\n",
       "  <tbody>\n",
       "    <tr>\n",
       "      <th>0</th>\n",
       "      <td>ZAS.GOTOWE</td>\n",
       "      <td>16.207612</td>\n",
       "      <td>16.207612</td>\n",
       "    </tr>\n",
       "    <tr>\n",
       "      <th>1</th>\n",
       "      <td>CERAMIKA</td>\n",
       "      <td>13.535013</td>\n",
       "      <td>29.742625</td>\n",
       "    </tr>\n",
       "    <tr>\n",
       "      <th>2</th>\n",
       "      <td>BELKI</td>\n",
       "      <td>10.731008</td>\n",
       "      <td>40.473633</td>\n",
       "    </tr>\n",
       "    <tr>\n",
       "      <th>3</th>\n",
       "      <td>RĘCZNIKI</td>\n",
       "      <td>9.784145</td>\n",
       "      <td>50.257778</td>\n",
       "    </tr>\n",
       "    <tr>\n",
       "      <th>4</th>\n",
       "      <td>KWIATY</td>\n",
       "      <td>7.451390</td>\n",
       "      <td>57.709168</td>\n",
       "    </tr>\n",
       "    <tr>\n",
       "      <th>5</th>\n",
       "      <td>PASMANTERIA</td>\n",
       "      <td>6.919345</td>\n",
       "      <td>64.628513</td>\n",
       "    </tr>\n",
       "    <tr>\n",
       "      <th>6</th>\n",
       "      <td>TAŚMY</td>\n",
       "      <td>6.035374</td>\n",
       "      <td>70.663887</td>\n",
       "    </tr>\n",
       "    <tr>\n",
       "      <th>7</th>\n",
       "      <td>ŚWIĘTA</td>\n",
       "      <td>5.714410</td>\n",
       "      <td>76.378297</td>\n",
       "    </tr>\n",
       "    <tr>\n",
       "      <th>8</th>\n",
       "      <td>PODUSZKI</td>\n",
       "      <td>4.707466</td>\n",
       "      <td>81.085763</td>\n",
       "    </tr>\n",
       "    <tr>\n",
       "      <th>9</th>\n",
       "      <td>Hit BAZA</td>\n",
       "      <td>4.441884</td>\n",
       "      <td>85.527647</td>\n",
       "    </tr>\n",
       "    <tr>\n",
       "      <th>10</th>\n",
       "      <td>POŚCIEL</td>\n",
       "      <td>2.886574</td>\n",
       "      <td>88.414222</td>\n",
       "    </tr>\n",
       "    <tr>\n",
       "      <th>11</th>\n",
       "      <td>NARZUTY</td>\n",
       "      <td>1.816696</td>\n",
       "      <td>90.230918</td>\n",
       "    </tr>\n",
       "    <tr>\n",
       "      <th>12</th>\n",
       "      <td>WKŁ+PODUSZ.</td>\n",
       "      <td>1.506221</td>\n",
       "      <td>91.737139</td>\n",
       "    </tr>\n",
       "    <tr>\n",
       "      <th>13</th>\n",
       "      <td>WYPOSAŻENIE</td>\n",
       "      <td>1.472656</td>\n",
       "      <td>93.209795</td>\n",
       "    </tr>\n",
       "    <tr>\n",
       "      <th>14</th>\n",
       "      <td>PODKŁADKI</td>\n",
       "      <td>1.292246</td>\n",
       "      <td>94.502041</td>\n",
       "    </tr>\n",
       "    <tr>\n",
       "      <th>15</th>\n",
       "      <td>OBRUSY</td>\n",
       "      <td>1.032118</td>\n",
       "      <td>95.534159</td>\n",
       "    </tr>\n",
       "    <tr>\n",
       "      <th>16</th>\n",
       "      <td>LAMPY</td>\n",
       "      <td>0.981771</td>\n",
       "      <td>96.515930</td>\n",
       "    </tr>\n",
       "    <tr>\n",
       "      <th>17</th>\n",
       "      <td>OBRAZY</td>\n",
       "      <td>0.897859</td>\n",
       "      <td>97.413789</td>\n",
       "    </tr>\n",
       "    <tr>\n",
       "      <th>18</th>\n",
       "      <td>INNE</td>\n",
       "      <td>0.562211</td>\n",
       "      <td>97.975999</td>\n",
       "    </tr>\n",
       "    <tr>\n",
       "      <th>19</th>\n",
       "      <td>ART.DEKORACYJNE</td>\n",
       "      <td>0.507668</td>\n",
       "      <td>98.483667</td>\n",
       "    </tr>\n",
       "    <tr>\n",
       "      <th>20</th>\n",
       "      <td>KOCE</td>\n",
       "      <td>0.465712</td>\n",
       "      <td>98.949379</td>\n",
       "    </tr>\n",
       "    <tr>\n",
       "      <th>21</th>\n",
       "      <td>DEKORACJE</td>\n",
       "      <td>0.396107</td>\n",
       "      <td>99.345486</td>\n",
       "    </tr>\n",
       "    <tr>\n",
       "      <th>22</th>\n",
       "      <td>WIELKANOC</td>\n",
       "      <td>0.335648</td>\n",
       "      <td>99.681134</td>\n",
       "    </tr>\n",
       "    <tr>\n",
       "      <th>23</th>\n",
       "      <td>ROLETY</td>\n",
       "      <td>0.104890</td>\n",
       "      <td>99.786024</td>\n",
       "    </tr>\n",
       "    <tr>\n",
       "      <th>24</th>\n",
       "      <td>KOŁDRY</td>\n",
       "      <td>0.062934</td>\n",
       "      <td>99.848958</td>\n",
       "    </tr>\n",
       "    <tr>\n",
       "      <th>25</th>\n",
       "      <td>REKL.+ETYK.</td>\n",
       "      <td>0.054543</td>\n",
       "      <td>99.903501</td>\n",
       "    </tr>\n",
       "    <tr>\n",
       "      <th>26</th>\n",
       "      <td>CER.UŻYTKOWA</td>\n",
       "      <td>0.050347</td>\n",
       "      <td>99.953848</td>\n",
       "    </tr>\n",
       "    <tr>\n",
       "      <th>27</th>\n",
       "      <td>ŚWIECE</td>\n",
       "      <td>0.016782</td>\n",
       "      <td>99.970631</td>\n",
       "    </tr>\n",
       "    <tr>\n",
       "      <th>28</th>\n",
       "      <td>USŁUGI SZYCIA</td>\n",
       "      <td>0.012587</td>\n",
       "      <td>99.983218</td>\n",
       "    </tr>\n",
       "    <tr>\n",
       "      <th>29</th>\n",
       "      <td>HOTELE</td>\n",
       "      <td>0.008391</td>\n",
       "      <td>99.991609</td>\n",
       "    </tr>\n",
       "    <tr>\n",
       "      <th>30</th>\n",
       "      <td>SPAGETTI</td>\n",
       "      <td>0.004196</td>\n",
       "      <td>99.995804</td>\n",
       "    </tr>\n",
       "    <tr>\n",
       "      <th>31</th>\n",
       "      <td>PASM.SALON</td>\n",
       "      <td>0.004196</td>\n",
       "      <td>100.000000</td>\n",
       "    </tr>\n",
       "  </tbody>\n",
       "</table>\n",
       "</div>"
      ],
      "text/plain": [
       "     NAZWA_ZNACZNIK    ILOSC_x     ILOSC_y\n",
       "0        ZAS.GOTOWE  16.207612   16.207612\n",
       "1          CERAMIKA  13.535013   29.742625\n",
       "2             BELKI  10.731008   40.473633\n",
       "3          RĘCZNIKI   9.784145   50.257778\n",
       "4            KWIATY   7.451390   57.709168\n",
       "5       PASMANTERIA   6.919345   64.628513\n",
       "6             TAŚMY   6.035374   70.663887\n",
       "7            ŚWIĘTA   5.714410   76.378297\n",
       "8          PODUSZKI   4.707466   81.085763\n",
       "9          Hit BAZA   4.441884   85.527647\n",
       "10          POŚCIEL   2.886574   88.414222\n",
       "11          NARZUTY   1.816696   90.230918\n",
       "12      WKŁ+PODUSZ.   1.506221   91.737139\n",
       "13      WYPOSAŻENIE   1.472656   93.209795\n",
       "14        PODKŁADKI   1.292246   94.502041\n",
       "15           OBRUSY   1.032118   95.534159\n",
       "16            LAMPY   0.981771   96.515930\n",
       "17           OBRAZY   0.897859   97.413789\n",
       "18             INNE   0.562211   97.975999\n",
       "19  ART.DEKORACYJNE   0.507668   98.483667\n",
       "20             KOCE   0.465712   98.949379\n",
       "21        DEKORACJE   0.396107   99.345486\n",
       "22        WIELKANOC   0.335648   99.681134\n",
       "23           ROLETY   0.104890   99.786024\n",
       "24           KOŁDRY   0.062934   99.848958\n",
       "25      REKL.+ETYK.   0.054543   99.903501\n",
       "26     CER.UŻYTKOWA   0.050347   99.953848\n",
       "27           ŚWIECE   0.016782   99.970631\n",
       "28    USŁUGI SZYCIA   0.012587   99.983218\n",
       "29           HOTELE   0.008391   99.991609\n",
       "30         SPAGETTI   0.004196   99.995804\n",
       "31       PASM.SALON   0.004196  100.000000"
      ]
     },
     "metadata": {},
     "output_type": "display_data"
    }
   ],
   "source": [
    "func_plot_scatter(df_fi, {'ILOSC':'sum'}, 'NAZWA_ZNACZNIK')"
   ]
  },
  {
   "cell_type": "code",
   "execution_count": 200,
   "id": "74c63b22-6fd0-46ee-ae4b-2f5fa0139a95",
   "metadata": {},
   "outputs": [
    {
     "data": {
      "text/plain": [
       "array(['ZAS/SPECIAL/B', 'ZAS/ELIE/B+RÓŻ', 'FIR/ESIM/B', 'ZAS/MARIAH/K+MU',\n",
       "       'FIR/SEYLAN/B+SRE', 'FIR/SEHER/B+SRE', 'FIR/KATRIANA/B',\n",
       "       'FIR/ANIKA/TURK', 'FIR/BENAY/NIE+SR', 'FIR/TAMAY/RÓŻ',\n",
       "       'FIR/TAMAY/TURK', 'FIR/SYLVIA/B', 'D91/Z/ADEL/TURK',\n",
       "       'LC/PEONIA1/ZAS', 'D91/Z/JULIET', 'FIR/CARLA/B', 'FIR/SIBEL/B+SRE',\n",
       "       'FIR/SIBEL/B+SZAM', 'ZAS/ANGELINA/TUR', 'ZAS/CARLO/BEŻ',\n",
       "       'ZAS/MILAN/GRAN', 'D91/Z/PARISA/GRA', 'ZAS/MILA/B+RUD',\n",
       "       'ZAS/RIA/STAL', 'ZAS/SAMANTA/TUR', 'F/ZAS/VILMA/NIE',\n",
       "       'ZAS/EVITA/GRAN', 'ZAS/EVITA/STAL', 'ZAS/RIA/MORS',\n",
       "       'ZAS/VILLA/BEŻ', 'ZAS/PIERRE/STA', 'ZAS/VILLA/OLIW',\n",
       "       'ZAS/LOGAN/TURK', 'ZAS/LOGAN/B', 'FIR/ARGEA/RÓŻ', 'ZAS/VILLA/GRAF',\n",
       "       'ZAS/RIA/C.BORD', 'ZAS/RIA/C.RÓŻ', 'ZAS/PIERRE/C.ZIE',\n",
       "       'F/FIR/LUCY/B', 'F/D91/Z/ROSA/PUD', 'ZAS/VILLA/C.BORD',\n",
       "       'ZAS/PIERRE/SRE', 'FIR/LUCY/K', 'ZAS/EVELYNE/GRAN',\n",
       "       'ZAS/DARCY/BEŻ', 'ZAS/DARCY/SR', 'ZAS/DARCY/CZAR', 'PIER/ZAS/ZOJA',\n",
       "       'ZAS/PIERRE/BEŻ'], dtype=object)"
      ]
     },
     "execution_count": 200,
     "metadata": {},
     "output_type": "execute_result"
    }
   ],
   "source": [
    "df_fi.loc[df_fi['NAZWA_ZNACZNIK']=='ZAS.GOTOWE']['NAZWA'].unique()[:50]"
   ]
  },
  {
   "cell_type": "code",
   "execution_count": 156,
   "id": "a7704384-b342-4a1d-8df4-9e641a47304f",
   "metadata": {},
   "outputs": [
    {
     "data": {
      "text/html": [
       "<div>\n",
       "<style scoped>\n",
       "    .dataframe tbody tr th:only-of-type {\n",
       "        vertical-align: middle;\n",
       "    }\n",
       "\n",
       "    .dataframe tbody tr th {\n",
       "        vertical-align: top;\n",
       "    }\n",
       "\n",
       "    .dataframe thead th {\n",
       "        text-align: right;\n",
       "    }\n",
       "</style>\n",
       "<table border=\"1\" class=\"dataframe\">\n",
       "  <thead>\n",
       "    <tr style=\"text-align: right;\">\n",
       "      <th></th>\n",
       "      <th>NAZWA_ZNACZNIK</th>\n",
       "    </tr>\n",
       "    <tr>\n",
       "      <th>DOSTAWCA</th>\n",
       "      <th></th>\n",
       "    </tr>\n",
       "  </thead>\n",
       "  <tbody>\n",
       "    <tr>\n",
       "      <th>12488</th>\n",
       "      <td>1</td>\n",
       "    </tr>\n",
       "    <tr>\n",
       "      <th>12769</th>\n",
       "      <td>1</td>\n",
       "    </tr>\n",
       "    <tr>\n",
       "      <th>12764</th>\n",
       "      <td>1</td>\n",
       "    </tr>\n",
       "    <tr>\n",
       "      <th>12762</th>\n",
       "      <td>1</td>\n",
       "    </tr>\n",
       "    <tr>\n",
       "      <th>12761</th>\n",
       "      <td>1</td>\n",
       "    </tr>\n",
       "    <tr>\n",
       "      <th>...</th>\n",
       "      <td>...</td>\n",
       "    </tr>\n",
       "    <tr>\n",
       "      <th>F53250</th>\n",
       "      <td>4</td>\n",
       "    </tr>\n",
       "    <tr>\n",
       "      <th>11447</th>\n",
       "      <td>5</td>\n",
       "    </tr>\n",
       "    <tr>\n",
       "      <th>8097</th>\n",
       "      <td>5</td>\n",
       "    </tr>\n",
       "    <tr>\n",
       "      <th>2362</th>\n",
       "      <td>5</td>\n",
       "    </tr>\n",
       "    <tr>\n",
       "      <th></th>\n",
       "      <td>12</td>\n",
       "    </tr>\n",
       "  </tbody>\n",
       "</table>\n",
       "<p>517 rows × 1 columns</p>\n",
       "</div>"
      ],
      "text/plain": [
       "          NAZWA_ZNACZNIK\n",
       "DOSTAWCA                \n",
       " 12488                 1\n",
       " 12769                 1\n",
       " 12764                 1\n",
       " 12762                 1\n",
       " 12761                 1\n",
       "...                  ...\n",
       "F53250                 4\n",
       " 11447                 5\n",
       "  8097                 5\n",
       "  2362                 5\n",
       "                      12\n",
       "\n",
       "[517 rows x 1 columns]"
      ]
     },
     "execution_count": 156,
     "metadata": {},
     "output_type": "execute_result"
    }
   ],
   "source": [
    "df_fi.loc[df_fi['ANALIT01'].isin(['LI','FE', 'OU'])].groupby(['DOSTAWCA']).agg({'NAZWA_ZNACZNIK':'nunique'}).sort_values(by='NAZWA_ZNACZNIK')"
   ]
  },
  {
   "cell_type": "code",
   "execution_count": 214,
   "id": "adb848d5-333a-4847-9dbd-50e77e93528c",
   "metadata": {},
   "outputs": [
    {
     "name": "stdout",
     "output_type": "stream",
     "text": [
      "KOD_TEMA\n",
      "KOD_TEMA_W\n",
      "KOD_TEMA_K\n",
      "KOD_PASEK\n",
      "KOD_HS\n",
      "KOD_PROMOC\n",
      "KOD_PRODUC\n",
      "KOD_PCN\n",
      "KOD_KR\n",
      "KOD_KOLOR\n",
      "KOD_METKI\n",
      "KOD_KUPCA\n",
      "KOD_ZAOPAT\n",
      "KOD_KRES\n",
      "STAN_KODPL\n",
      "KOD_GTU\n",
      "KOD_CN\n",
      "KOD_PROC\n",
      "KOD_BLOZ\n"
     ]
    }
   ],
   "source": [
    "for i in _.columns:\n",
    "    if 'KOD' in i:\n",
    "        print(i)"
   ]
  },
  {
   "cell_type": "code",
   "execution_count": null,
   "id": "9e320153-86fe-40db-98f0-159884682a34",
   "metadata": {},
   "outputs": [],
   "source": [
    "kod_wlasny==8"
   ]
  },
  {
   "cell_type": "code",
   "execution_count": 218,
   "id": "523b760a-c72e-446b-8a97-511042aa082d",
   "metadata": {},
   "outputs": [],
   "source": [
    "_s=pd.read_csv('../sprzedaz_fakty_bi/hurtbi_fakty_sprz_22.csv',encoding='Cp1250',\n",
    "              sep=\"|\")"
   ]
  },
  {
   "cell_type": "code",
   "execution_count": 142,
   "id": "9950a371-e7bf-4686-8267-386ebfa28a9a",
   "metadata": {},
   "outputs": [],
   "source": [
    "_z=pd.read_csv('../słowniki/znacznik.csv',encoding='Cp1250',\n",
    "              sep=\"|\")[['ZNACZNIK','NAZWA']]"
   ]
  },
  {
   "cell_type": "code",
   "execution_count": 144,
   "id": "fae0c9c8-0d13-49b1-9f58-c7ef81259354",
   "metadata": {},
   "outputs": [
    {
     "data": {
      "text/html": [
       "<div>\n",
       "<style scoped>\n",
       "    .dataframe tbody tr th:only-of-type {\n",
       "        vertical-align: middle;\n",
       "    }\n",
       "\n",
       "    .dataframe tbody tr th {\n",
       "        vertical-align: top;\n",
       "    }\n",
       "\n",
       "    .dataframe thead th {\n",
       "        text-align: right;\n",
       "    }\n",
       "</style>\n",
       "<table border=\"1\" class=\"dataframe\">\n",
       "  <thead>\n",
       "    <tr style=\"text-align: right;\">\n",
       "      <th></th>\n",
       "      <th>ZNACZNIK</th>\n",
       "      <th>NAZWA</th>\n",
       "    </tr>\n",
       "  </thead>\n",
       "  <tbody>\n",
       "    <tr>\n",
       "      <th>38</th>\n",
       "      <td>91</td>\n",
       "      <td>USŁUGI SZYCIA</td>\n",
       "    </tr>\n",
       "  </tbody>\n",
       "</table>\n",
       "</div>"
      ],
      "text/plain": [
       "    ZNACZNIK          NAZWA\n",
       "38        91  USŁUGI SZYCIA"
      ]
     },
     "execution_count": 144,
     "metadata": {},
     "output_type": "execute_result"
    }
   ],
   "source": [
    "_z.loc[_z['ZNACZNIK']==91]"
   ]
  },
  {
   "cell_type": "code",
   "execution_count": 203,
   "id": "eba719fb-6bb5-435e-968c-17dcd41794a6",
   "metadata": {},
   "outputs": [],
   "source": [
    "_=pd.read_csv('../słowniki/slownik.csv',encoding='Cp1250',\n",
    "              sep=\"|\")#[['KOD_TEMA','ZNACZNIK','DOSTAWCA']]"
   ]
  },
  {
   "cell_type": "code",
   "execution_count": 145,
   "id": "c0849ea3-89d2-4549-b081-485e9dd6378d",
   "metadata": {},
   "outputs": [],
   "source": [
    "_=_.merge(_z, how='left',on='ZNACZNIK')"
   ]
  },
  {
   "cell_type": "code",
   "execution_count": 140,
   "id": "c554b916-6d32-482c-a93c-6bc05cab8f2f",
   "metadata": {},
   "outputs": [
    {
     "data": {
      "text/plain": [
       "array([-10056, -10055, -10054, ..., 999997, 999998, 999999], dtype=int64)"
      ]
     },
     "execution_count": 140,
     "metadata": {},
     "output_type": "execute_result"
    }
   ],
   "source": [
    "np.sort(_['KOD_TEMA'].unique())"
   ]
  },
  {
   "cell_type": "code",
   "execution_count": 147,
   "id": "abd2c195-0544-43fb-a0e7-dc6179b8cef4",
   "metadata": {},
   "outputs": [
    {
     "data": {
      "text/plain": [
       "array(['INNE', 'USŁUGI SZYCIA', 'USŁUGI TRANSPORT', 'USŁUGI POS',\n",
       "       'KARNISZE', 'USŁUGI INNE', 'USŁUGI ZAKUP', 'USŁUGI MONTAŻ',\n",
       "       'USŁUGI ROLETY'], dtype=object)"
      ]
     },
     "execution_count": 147,
     "metadata": {},
     "output_type": "execute_result"
    }
   ],
   "source": [
    "_.loc[_['KOD_TEMA']<0]['NAZWA'].unique()"
   ]
  },
  {
   "cell_type": "code",
   "execution_count": 149,
   "id": "d8484027-a8d0-4f50-8118-bf376ef85142",
   "metadata": {},
   "outputs": [
    {
     "data": {
      "text/html": [
       "<div>\n",
       "<style scoped>\n",
       "    .dataframe tbody tr th:only-of-type {\n",
       "        vertical-align: middle;\n",
       "    }\n",
       "\n",
       "    .dataframe tbody tr th {\n",
       "        vertical-align: top;\n",
       "    }\n",
       "\n",
       "    .dataframe thead th {\n",
       "        text-align: right;\n",
       "    }\n",
       "</style>\n",
       "<table border=\"1\" class=\"dataframe\">\n",
       "  <thead>\n",
       "    <tr style=\"text-align: right;\">\n",
       "      <th></th>\n",
       "      <th>FAKTURA</th>\n",
       "      <th>DOKUMENT</th>\n",
       "      <th>Z_DNIA</th>\n",
       "      <th>FILIA</th>\n",
       "      <th>KOD_TEMA</th>\n",
       "      <th>TYP_DOK</th>\n",
       "      <th>JAK_POWST</th>\n",
       "      <th>WARTOB</th>\n",
       "      <th>ILOSC</th>\n",
       "    </tr>\n",
       "  </thead>\n",
       "  <tbody>\n",
       "    <tr>\n",
       "      <th>0</th>\n",
       "      <td>FVM200002309</td>\n",
       "      <td>FM2A22/00002</td>\n",
       "      <td>22/01/03</td>\n",
       "      <td>M2</td>\n",
       "      <td>-10000.0</td>\n",
       "      <td>FV</td>\n",
       "      <td>K</td>\n",
       "      <td>0</td>\n",
       "      <td>0</td>\n",
       "    </tr>\n",
       "    <tr>\n",
       "      <th>1</th>\n",
       "      <td>FVM200002309</td>\n",
       "      <td>FM2A22/00002</td>\n",
       "      <td>22/01/03</td>\n",
       "      <td>M2</td>\n",
       "      <td>378079.0</td>\n",
       "      <td>FV</td>\n",
       "      <td>K</td>\n",
       "      <td>424</td>\n",
       "      <td>10,6</td>\n",
       "    </tr>\n",
       "    <tr>\n",
       "      <th>2</th>\n",
       "      <td>FVM200002309</td>\n",
       "      <td>FM2A22/00002</td>\n",
       "      <td>22/01/03</td>\n",
       "      <td>M2</td>\n",
       "      <td>378911.0</td>\n",
       "      <td>FV</td>\n",
       "      <td>K</td>\n",
       "      <td>340</td>\n",
       "      <td>8,5</td>\n",
       "    </tr>\n",
       "    <tr>\n",
       "      <th>3</th>\n",
       "      <td>FVM200002309</td>\n",
       "      <td>FM2A22/00002</td>\n",
       "      <td>22/01/03</td>\n",
       "      <td>M2</td>\n",
       "      <td>65080.0</td>\n",
       "      <td>FV</td>\n",
       "      <td>K</td>\n",
       "      <td>452</td>\n",
       "      <td>20</td>\n",
       "    </tr>\n",
       "    <tr>\n",
       "      <th>4</th>\n",
       "      <td>FVM200002309</td>\n",
       "      <td>FM2A22/00002</td>\n",
       "      <td>22/01/03</td>\n",
       "      <td>M2</td>\n",
       "      <td>50502.0</td>\n",
       "      <td>FV</td>\n",
       "      <td>K</td>\n",
       "      <td>44</td>\n",
       "      <td>200</td>\n",
       "    </tr>\n",
       "    <tr>\n",
       "      <th>...</th>\n",
       "      <td>...</td>\n",
       "      <td>...</td>\n",
       "      <td>...</td>\n",
       "      <td>...</td>\n",
       "      <td>...</td>\n",
       "      <td>...</td>\n",
       "      <td>...</td>\n",
       "      <td>...</td>\n",
       "      <td>...</td>\n",
       "    </tr>\n",
       "    <tr>\n",
       "      <th>536295</th>\n",
       "      <td>KV0000121311</td>\n",
       "      <td>KF0022/09742</td>\n",
       "      <td>22/03/28</td>\n",
       "      <td>0.0</td>\n",
       "      <td>3895.0</td>\n",
       "      <td>KV</td>\n",
       "      <td>ZI2O#</td>\n",
       "      <td>-26,25</td>\n",
       "      <td>-1</td>\n",
       "    </tr>\n",
       "    <tr>\n",
       "      <th>536296</th>\n",
       "      <td>KV0000119927</td>\n",
       "      <td>KF0022/08378</td>\n",
       "      <td>22/03/16</td>\n",
       "      <td>0.0</td>\n",
       "      <td>387969.0</td>\n",
       "      <td>KV</td>\n",
       "      <td>Z</td>\n",
       "      <td>-64,98</td>\n",
       "      <td>-1</td>\n",
       "    </tr>\n",
       "    <tr>\n",
       "      <th>536297</th>\n",
       "      <td>KV0000120112</td>\n",
       "      <td>KF0022/08563</td>\n",
       "      <td>22/03/17</td>\n",
       "      <td>0.0</td>\n",
       "      <td>62937.0</td>\n",
       "      <td>KV</td>\n",
       "      <td>ZI2O#</td>\n",
       "      <td>-79,19</td>\n",
       "      <td>-5,6</td>\n",
       "    </tr>\n",
       "    <tr>\n",
       "      <th>536298</th>\n",
       "      <td>KV0000117196</td>\n",
       "      <td>KF0022/05726</td>\n",
       "      <td>22/03/03</td>\n",
       "      <td>0.0</td>\n",
       "      <td>93844.0</td>\n",
       "      <td>KV</td>\n",
       "      <td>A</td>\n",
       "      <td>-1,88</td>\n",
       "      <td>-1</td>\n",
       "    </tr>\n",
       "    <tr>\n",
       "      <th>536299</th>\n",
       "      <td>KV0000118357</td>\n",
       "      <td>NaN</td>\n",
       "      <td>NaN</td>\n",
       "      <td>NaN</td>\n",
       "      <td>NaN</td>\n",
       "      <td>NaN</td>\n",
       "      <td>NaN</td>\n",
       "      <td>NaN</td>\n",
       "      <td>NaN</td>\n",
       "    </tr>\n",
       "  </tbody>\n",
       "</table>\n",
       "<p>536300 rows × 9 columns</p>\n",
       "</div>"
      ],
      "text/plain": [
       "             FAKTURA      DOKUMENT    Z_DNIA FILIA  KOD_TEMA TYP_DOK  \\\n",
       "0       FVM200002309  FM2A22/00002  22/01/03    M2  -10000.0      FV   \n",
       "1       FVM200002309  FM2A22/00002  22/01/03    M2  378079.0      FV   \n",
       "2       FVM200002309  FM2A22/00002  22/01/03    M2  378911.0      FV   \n",
       "3       FVM200002309  FM2A22/00002  22/01/03    M2   65080.0      FV   \n",
       "4       FVM200002309  FM2A22/00002  22/01/03    M2   50502.0      FV   \n",
       "...              ...           ...       ...   ...       ...     ...   \n",
       "536295  KV0000121311  KF0022/09742  22/03/28   0.0    3895.0      KV   \n",
       "536296  KV0000119927  KF0022/08378  22/03/16   0.0  387969.0      KV   \n",
       "536297  KV0000120112  KF0022/08563  22/03/17   0.0   62937.0      KV   \n",
       "536298  KV0000117196  KF0022/05726  22/03/03   0.0   93844.0      KV   \n",
       "536299  KV0000118357           NaN       NaN   NaN       NaN     NaN   \n",
       "\n",
       "       JAK_POWST  WARTOB ILOSC  \n",
       "0              K       0     0  \n",
       "1              K     424  10,6  \n",
       "2              K     340   8,5  \n",
       "3              K     452    20  \n",
       "4              K      44   200  \n",
       "...          ...     ...   ...  \n",
       "536295     ZI2O#  -26,25    -1  \n",
       "536296         Z  -64,98    -1  \n",
       "536297     ZI2O#  -79,19  -5,6  \n",
       "536298         A   -1,88    -1  \n",
       "536299       NaN     NaN   NaN  \n",
       "\n",
       "[536300 rows x 9 columns]"
      ]
     },
     "execution_count": 149,
     "metadata": {},
     "output_type": "execute_result"
    }
   ],
   "source": [
    "pd.read_csv('../sprzedaz_fakty_bi/hurtbi_fakty_sprz_22.csv',encoding='Cp1250',\n",
    "              sep=\"|\")"
   ]
  },
  {
   "cell_type": "code",
   "execution_count": null,
   "id": "b6f72659-d18e-43fe-a44c-7961696822f4",
   "metadata": {},
   "outputs": [],
   "source": []
  },
  {
   "cell_type": "code",
   "execution_count": null,
   "id": "5f5ff12e-04ce-41c1-a1c9-e24970625ef4",
   "metadata": {},
   "outputs": [],
   "source": []
  },
  {
   "cell_type": "code",
   "execution_count": null,
   "id": "198837d0-ef60-4a23-9010-f2acf456ffa3",
   "metadata": {},
   "outputs": [],
   "source": []
  },
  {
   "cell_type": "code",
   "execution_count": 88,
   "id": "d01e4d4f-78c3-428f-b0d1-cbe0d25290c2",
   "metadata": {},
   "outputs": [
    {
     "name": "stdout",
     "output_type": "stream",
     "text": [
      "DPI-1047: Cannot locate a 64-bit Oracle Client library: \"The specified module could not be found\". See https://cx-oracle.readthedocs.io/en/latest/user_guide/installation.html for help\n"
     ]
    },
    {
     "ename": "NameError",
     "evalue": "name 'connection' is not defined",
     "output_type": "error",
     "traceback": [
      "\u001b[1;31m---------------------------------------------------------------------------\u001b[0m",
      "\u001b[1;31mNameError\u001b[0m                                 Traceback (most recent call last)",
      "Input \u001b[1;32mIn [88]\u001b[0m, in \u001b[0;36m<cell line: 3>\u001b[1;34m()\u001b[0m\n\u001b[0;32m     18\u001b[0m     \u001b[38;5;28mprint\u001b[39m(error)\n\u001b[0;32m     19\u001b[0m \u001b[38;5;28;01mfinally\u001b[39;00m:\n\u001b[0;32m     20\u001b[0m     \u001b[38;5;66;03m# release the connection\u001b[39;00m\n\u001b[1;32m---> 21\u001b[0m     \u001b[38;5;28;01mif\u001b[39;00m \u001b[43mconnection\u001b[49m:\n\u001b[0;32m     22\u001b[0m         connection\u001b[38;5;241m.\u001b[39mclose()\n",
      "\u001b[1;31mNameError\u001b[0m: name 'connection' is not defined"
     ]
    }
   ],
   "source": [
    "import cx_Oracle\n",
    "\n",
    "try:\n",
    "    host = '192.168.0.206'\n",
    "    port = 1521\n",
    "    SID = 'orcl'\n",
    "    \n",
    "    dsn = cx_Oracle.makedsn(host, port, SID)\n",
    "    \n",
    "    connection = cx_Oracle.connect(user=\"EF_KG\",\n",
    "                                  password='',\n",
    "                                  dsn=dsn,\n",
    "                                   encoding=\"UTF-8\")\n",
    "\n",
    "    # show the version of the Oracle Database\n",
    "    print(connection.version)\n",
    "except cx_Oracle.Error as error:\n",
    "    print(error)\n",
    "finally:\n",
    "    # release the connection\n",
    "    if connection:\n",
    "        connection.close()\n"
   ]
  },
  {
   "cell_type": "code",
   "execution_count": null,
   "id": "e23a0050-0796-44c8-b6e2-1b107f1eead6",
   "metadata": {},
   "outputs": [],
   "source": []
  }
 ],
 "metadata": {
  "kernelspec": {
   "display_name": "Python 3 (ipykernel)",
   "language": "python",
   "name": "python3"
  },
  "language_info": {
   "codemirror_mode": {
    "name": "ipython",
    "version": 3
   },
   "file_extension": ".py",
   "mimetype": "text/x-python",
   "name": "python",
   "nbconvert_exporter": "python",
   "pygments_lexer": "ipython3",
   "version": "3.9.13"
  }
 },
 "nbformat": 4,
 "nbformat_minor": 5
}
